{
  "nbformat": 4,
  "nbformat_minor": 0,
  "metadata": {
    "colab": {
      "provenance": [],
      "include_colab_link": true
    },
    "kernelspec": {
      "name": "python3",
      "display_name": "Python 3"
    },
    "language_info": {
      "name": "python"
    }
  },
  "cells": [
    {
      "cell_type": "markdown",
      "metadata": {
        "id": "view-in-github",
        "colab_type": "text"
      },
      "source": [
        "<a href=\"https://colab.research.google.com/github/ashutoshghodke/ashutoshghodke/blob/main/Implementation_of_ds_using_python.ipynb\" target=\"_parent\"><img src=\"https://colab.research.google.com/assets/colab-badge.svg\" alt=\"Open In Colab\"/></a>"
      ]
    },
    {
      "cell_type": "code",
      "execution_count": null,
      "metadata": {
        "colab": {
          "base_uri": "https://localhost:8080/"
        },
        "id": "7NdK3hqIOUW_",
        "outputId": "7d61c0e7-e0c9-4430-ee44-da442da1369d"
      },
      "outputs": [
        {
          "output_type": "stream",
          "name": "stdout",
          "text": [
            "Stack--LIFO\n",
            "50\n",
            "40\n",
            "30\n",
            "20\n",
            "10\n",
            "Popped: 50\n",
            "Popped: 40\n",
            "Popped: 30\n",
            "Stack--LIFO\n",
            "20\n",
            "10\n"
          ]
        }
      ],
      "source": [
        "#satck implementation\n",
        "stack=[]#list\n",
        "stack.append(10)\n",
        "stack.append(20)\n",
        "stack.append(30)\n",
        "stack.append(40)\n",
        "stack.append(50)\n",
        "print(\"Stack--LIFO\")\n",
        "for i in stack[::-1]:\n",
        "    print(i)\n",
        "print(\"Popped:\",stack.pop())\n",
        "print(\"Popped:\",stack.pop())\n",
        "print(\"Popped:\",stack.pop())\n",
        "print(\"Stack--LIFO\")\n",
        "for i in stack[::-1]:\n",
        "    print(i)"
      ]
    },
    {
      "cell_type": "code",
      "source": [
        "queue=[]#list\n",
        "queue.append(10)\n",
        "queue.append(20)\n",
        "queue.append(30)\n",
        "queue.append(40)\n",
        "queue.append(50)\n",
        "print(\"Queue--FIFO\")\n",
        "for i in queue:\n",
        "    print(i,\"==\",end=\"\")\n",
        "print(\"\\nPopped:\",queue.pop(0))\n",
        "print(\"Popped:\",queue.pop(0))\n",
        "print(\"Popped:\",queue.pop(0))\n",
        "print(\"Queue--FIFO\")\n",
        "for i in queue:\n",
        "    print(i,\"==\",end=\"\")\n"
      ],
      "metadata": {
        "colab": {
          "base_uri": "https://localhost:8080/"
        },
        "id": "topDIYxcTgFO",
        "outputId": "eac8e6f1-213d-448a-8303-64c498e67262"
      },
      "execution_count": null,
      "outputs": [
        {
          "output_type": "stream",
          "name": "stdout",
          "text": [
            "Queue--FIFO\n",
            "10 ==20 ==30 ==40 ==50 ==\n",
            "Popped: 10\n",
            "Popped: 20\n",
            "Popped: 30\n",
            "Queue--FIFO\n",
            "40 ==50 =="
          ]
        }
      ]
    },
    {
      "cell_type": "code",
      "source": [
        "#Linked List\n",
        "class Node:\n",
        "    def __init__(self,data):\n",
        "        self.data=data\n",
        "        self.next=None\n",
        "class LinkedList:\n",
        "    def __init__(self):\n",
        "        self.head=None\n",
        "    def PrintList(self):\n",
        "        t=self.head\n",
        "        while t!=None:\n",
        "            print(\"|\",t.data,\"|->\",end=\" \")\n",
        "            t=t.next\n",
        "        \n",
        "r=LinkedList()\n",
        "r.head=Node(10)#created 1st node\n",
        "n1=Node(20)\n",
        "r.head.next=n1#linked\n",
        "n2=Node(30)\n",
        "n1.next=n2\n",
        "#before hear/ to left\n",
        "n3=Node(5)\n",
        "n3.next=r.head\n",
        "r.head=n3\n",
        "r.PrintList()\n"
      ],
      "metadata": {
        "colab": {
          "base_uri": "https://localhost:8080/"
        },
        "id": "uvFfCETybHYF",
        "outputId": "70c4ff64-95f0-46bc-c923-fa10fe6f6c56"
      },
      "execution_count": null,
      "outputs": [
        {
          "output_type": "stream",
          "name": "stdout",
          "text": [
            "| 5 |-> | 10 |-> | 20 |-> | 30 |-> "
          ]
        }
      ]
    },
    {
      "cell_type": "code",
      "source": [
        "#Tree Implementation BST\n",
        "class Node:\n",
        "    def __init__(self,data):\n",
        "        self.data=data\n",
        "        self.left=None\n",
        "        self.right=None\n",
        "\n",
        "def insert(root,key):\n",
        "    if root==None:#tree not formed\n",
        "        return Node(key)#created node and taken as a root\n",
        "    else:\n",
        "        if key==root.data:\n",
        "            return root\n",
        "        elif key<root.data:#go to left\n",
        "            root.left=insert (root.left,key)\n",
        "        else:#go to right\n",
        "            root.right=insert (root.right,key)\n",
        "    return root\n",
        "\n",
        "def inorder(root):\n",
        "    if root:\n",
        "        inorder(root.left)\n",
        "        print(root.data,end=\"->\")\n",
        "        inorder(root.right)\n",
        "\n",
        "            \n",
        "#main script\n",
        "r=Node(50)\n",
        "r=insert(r,30)\n",
        "r=insert(r,100)\n",
        "r=insert(r,45)\n",
        "r=insert(r,22)\n",
        "inorder(r)"
      ],
      "metadata": {
        "colab": {
          "base_uri": "https://localhost:8080/"
        },
        "id": "0ha-LuMXyrV3",
        "outputId": "7b3150bc-50f8-45bd-b0dd-9e905891aebc"
      },
      "execution_count": null,
      "outputs": [
        {
          "output_type": "stream",
          "name": "stdout",
          "text": [
            "22->30->45->50->100->"
          ]
        }
      ]
    },
    {
      "cell_type": "code",
      "source": [
        "#graph implementation Static-Matix-List\n",
        "adj=[]#created 1 d list\n",
        "v=int(input(\"Enter number of nodes:\"))\n",
        "for i in range(v):\n",
        "    #add a row\n",
        "    adj.append([])\n",
        "    for j in range(v):\n",
        "        print(\"Enter edge from v\",i,\"to v\",j,\":\")\n",
        "        adj[i].append(int(input()))\n",
        "print(\"Adjacency Matrix Created:\\n\")\n",
        "for i in adj:\n",
        "    print(i)\n",
        "\n"
      ],
      "metadata": {
        "colab": {
          "base_uri": "https://localhost:8080/"
        },
        "id": "Ht5K-KWI051O",
        "outputId": "53f4e27f-8f8a-4a20-ec40-7ba344fa10ea"
      },
      "execution_count": null,
      "outputs": [
        {
          "output_type": "stream",
          "name": "stdout",
          "text": [
            "Enter number of nodes:3\n",
            "Enter edge from v 0 to v 0 :\n",
            "0\n",
            "Enter edge from v 0 to v 1 :\n",
            "1\n",
            "Enter edge from v 0 to v 2 :\n",
            "1\n",
            "Enter edge from v 1 to v 0 :\n",
            "1\n",
            "Enter edge from v 1 to v 1 :\n",
            "0\n",
            "Enter edge from v 1 to v 2 :\n",
            "2\n",
            "Enter edge from v 2 to v 0 :\n",
            "1\n",
            "Enter edge from v 2 to v 1 :\n",
            "1\n",
            "Enter edge from v 2 to v 2 :\n",
            "0\n",
            "Adjacency Matrix Created:\n",
            "\n",
            "['0', '1', '1']\n",
            "['1', '0', '2']\n",
            "['1', '1', '0']\n"
          ]
        }
      ]
    }
  ]
}