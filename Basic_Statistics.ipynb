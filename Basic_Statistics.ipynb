{
  "nbformat": 4,
  "nbformat_minor": 0,
  "metadata": {
    "colab": {
      "provenance": [],
      "include_colab_link": true
    },
    "kernelspec": {
      "name": "python3",
      "display_name": "Python 3"
    },
    "language_info": {
      "name": "python"
    }
  },
  "cells": [
    {
      "cell_type": "markdown",
      "metadata": {
        "id": "view-in-github",
        "colab_type": "text"
      },
      "source": [
        "<a href=\"https://colab.research.google.com/github/ashutoshghodke/ashutoshghodke/blob/main/Basic_Statistics.ipynb\" target=\"_parent\"><img src=\"https://colab.research.google.com/assets/colab-badge.svg\" alt=\"Open In Colab\"/></a>"
      ]
    },
    {
      "cell_type": "markdown",
      "source": [
        "#Mean"
      ],
      "metadata": {
        "id": "dGEBl-KfbJe6"
      }
    },
    {
      "cell_type": "code",
      "execution_count": null,
      "metadata": {
        "colab": {
          "base_uri": "https://localhost:8080/"
        },
        "id": "idXsKilAyRnh",
        "outputId": "2ac23b68-0fc8-40bf-d06a-7859697e5479"
      },
      "outputs": [
        {
          "output_type": "stream",
          "name": "stdout",
          "text": [
            "Mean / Average is:  3.0\n"
          ]
        }
      ],
      "source": [
        "# mean without using library\n",
        "n_num=[1,2,3,4,5]\n",
        "n = len(n_num)\n",
        "\n",
        "get_sum = sum(n_num)\n",
        "mean = get_sum / n\n",
        "\n",
        "print(\"Mean / Average is: \" +str(mean))\n",
        "\n",
        "\n"
      ]
    },
    {
      "cell_type": "code",
      "source": [
        "# mean using library\n",
        "import statistics\n",
        "\n",
        "data1=[1,3,4,5,8,9]\n",
        "x = statistics.mean(data1)\n",
        "\n",
        "print(\"Mean is: \",x)"
      ],
      "metadata": {
        "colab": {
          "base_uri": "https://localhost:8080/"
        },
        "id": "KbmhUM1Xzfej",
        "outputId": "ce0d6b9c-d245-4721-e804-025c5a66c53d"
      },
      "execution_count": null,
      "outputs": [
        {
          "output_type": "stream",
          "name": "stdout",
          "text": [
            "Mean is:  5\n"
          ]
        }
      ]
    },
    {
      "cell_type": "markdown",
      "source": [
        "#Median"
      ],
      "metadata": {
        "id": "iXSGrXa9bOug"
      }
    },
    {
      "cell_type": "code",
      "source": [
        "# median without using library\n",
        "n_num=[1,2,3,4,5,6]\n",
        "n = len(n_num)\n",
        "n_num.sort()\n",
        "\n",
        "if n%2==0:\n",
        "  median1 = n_num[n//2]\n",
        "  median2 = n_num[n//2-1]\n",
        "  median = (median1+median2)/2\n",
        "\n",
        "else:\n",
        "  median = n_num[n//2]\n",
        "\n",
        "print(\"Median is: \"+str(median))\n",
        "\n"
      ],
      "metadata": {
        "colab": {
          "base_uri": "https://localhost:8080/"
        },
        "id": "dkarpfcT6o7Y",
        "outputId": "2d3d0211-5245-44d8-b39f-59ddaa864cbb"
      },
      "execution_count": null,
      "outputs": [
        {
          "output_type": "stream",
          "name": "stdout",
          "text": [
            "Median is: 3.5\n"
          ]
        }
      ]
    },
    {
      "cell_type": "code",
      "source": [
        "# median using library\n",
        "\n",
        "import statistics\n",
        "\n",
        "data1 = [2,-2,5,6,8,9,7]\n",
        "data2 = [2,5,9,1,6,5]\n",
        "\n",
        "print(\"Median of data1 is : %s\"%(statistics.median(data1)))\n",
        "print(\"Median of data2 is : %s\"%(statistics.median(data2)))\n"
      ],
      "metadata": {
        "colab": {
          "base_uri": "https://localhost:8080/"
        },
        "id": "1iDjhsjq8-xF",
        "outputId": "0c30c570-b537-4b68-8b54-f0293d99e26b"
      },
      "execution_count": null,
      "outputs": [
        {
          "output_type": "stream",
          "name": "stdout",
          "text": [
            "Median of data1 is : 6\n",
            "Median of data2 is : 5.0\n"
          ]
        }
      ]
    },
    {
      "cell_type": "markdown",
      "source": [
        "#Mode"
      ],
      "metadata": {
        "id": "-l43tWCdbWWj"
      }
    },
    {
      "cell_type": "code",
      "source": [
        "# mode without using library\n",
        "from collections import Counter\n",
        "numb = [2,3,4,5,7,8,9,2,9]\n",
        "no =  len(numb)\n",
        "\n",
        "val = Counter(numb)\n",
        "print(val)\n",
        "print(type(val))\n",
        "findMode = dict(val)\n",
        "print(findMode)\n",
        "mode = [i for i, v in findMode.items() if v == max(list(val.values()))]\n",
        "print(mode)\n",
        "if len(mode) == no:\n",
        "  findMode = (\"The group of nos dont have any mode\")\n",
        "else:\n",
        "  findMode=(\"The mode of no.s : \" + ','.join(map(str,mode)))\n",
        "\n",
        "print(findMode) \n",
        "\n",
        "                                                  \n"
      ],
      "metadata": {
        "colab": {
          "base_uri": "https://localhost:8080/"
        },
        "id": "Pah2XFySFRsI",
        "outputId": "0334b5d6-973d-4aea-a1a6-5e3b1b9086d1"
      },
      "execution_count": null,
      "outputs": [
        {
          "output_type": "stream",
          "name": "stdout",
          "text": [
            "Counter({2: 2, 9: 2, 3: 1, 4: 1, 5: 1, 7: 1, 8: 1})\n",
            "<class 'collections.Counter'>\n",
            "{2: 2, 3: 1, 4: 1, 5: 1, 7: 1, 8: 1, 9: 2}\n",
            "[2, 9]\n",
            "The mode of no.s : 2,9\n"
          ]
        }
      ]
    },
    {
      "cell_type": "code",
      "source": [
        "# mode using library\n",
        "set1 = [1,2,3,3,3,4,5,5,6]\n",
        "print(\"Mode of given data set is %s\"%(statistics.mode(set1)))"
      ],
      "metadata": {
        "colab": {
          "base_uri": "https://localhost:8080/"
        },
        "id": "IhrMu3Q1H_FO",
        "outputId": "2f8545b8-780c-46b5-c7be-954e31a3868f"
      },
      "execution_count": null,
      "outputs": [
        {
          "output_type": "stream",
          "name": "stdout",
          "text": [
            "Mode of given data set is 3\n"
          ]
        }
      ]
    },
    {
      "cell_type": "code",
      "source": [
        "x=[(2,3),(3,4)]\n",
        "type(x)\n",
        "print(dict(x))"
      ],
      "metadata": {
        "colab": {
          "base_uri": "https://localhost:8080/"
        },
        "id": "gcMbZEAZIzO4",
        "outputId": "3a72b85a-3b2c-440e-dd29-d75c3a2a0ce7"
      },
      "execution_count": null,
      "outputs": [
        {
          "output_type": "stream",
          "name": "stdout",
          "text": [
            "{2: 3, 3: 4}\n"
          ]
        }
      ]
    },
    {
      "cell_type": "markdown",
      "source": [
        "#Correlation"
      ],
      "metadata": {
        "id": "MEhUovPKbgi5"
      }
    },
    {
      "cell_type": "code",
      "source": [
        "from sklearn.datasets import fetch_california_housing\n",
        "housing ,target = fetch_california_housing(as_frame = True, return_X_y = True)"
      ],
      "metadata": {
        "id": "BsdZQwO7I9P-"
      },
      "execution_count": 1,
      "outputs": []
    },
    {
      "cell_type": "code",
      "source": [
        "print(housing.corr()) #correlation work for numerical data only not for categorical data"
      ],
      "metadata": {
        "colab": {
          "base_uri": "https://localhost:8080/"
        },
        "id": "etKA8Mtv80mZ",
        "outputId": "855dae76-ee33-4372-85c6-149532952dee"
      },
      "execution_count": 2,
      "outputs": [
        {
          "output_type": "stream",
          "name": "stdout",
          "text": [
            "              MedInc  HouseAge  AveRooms  AveBedrms  Population  AveOccup  \\\n",
            "MedInc      1.000000 -0.119034  0.326895  -0.062040    0.004834  0.018766   \n",
            "HouseAge   -0.119034  1.000000 -0.153277  -0.077747   -0.296244  0.013191   \n",
            "AveRooms    0.326895 -0.153277  1.000000   0.847621   -0.072213 -0.004852   \n",
            "AveBedrms  -0.062040 -0.077747  0.847621   1.000000   -0.066197 -0.006181   \n",
            "Population  0.004834 -0.296244 -0.072213  -0.066197    1.000000  0.069863   \n",
            "AveOccup    0.018766  0.013191 -0.004852  -0.006181    0.069863  1.000000   \n",
            "Latitude   -0.079809  0.011173  0.106389   0.069721   -0.108785  0.002366   \n",
            "Longitude  -0.015176 -0.108197 -0.027540   0.013344    0.099773  0.002476   \n",
            "\n",
            "            Latitude  Longitude  \n",
            "MedInc     -0.079809  -0.015176  \n",
            "HouseAge    0.011173  -0.108197  \n",
            "AveRooms    0.106389  -0.027540  \n",
            "AveBedrms   0.069721   0.013344  \n",
            "Population -0.108785   0.099773  \n",
            "AveOccup    0.002366   0.002476  \n",
            "Latitude    1.000000  -0.924664  \n",
            "Longitude  -0.924664   1.000000  \n"
          ]
        }
      ]
    },
    {
      "cell_type": "code",
      "source": [
        "# Correation of two specific columns\n",
        "corr = housing.corr()\n",
        "print(corr[\"MedInc\"][\"AveRooms\"])\n"
      ],
      "metadata": {
        "colab": {
          "base_uri": "https://localhost:8080/"
        },
        "id": "kEiYs6d29D5n",
        "outputId": "cd3ac78f-8482-4b98-b975-a8b08386b2c4"
      },
      "execution_count": 3,
      "outputs": [
        {
          "output_type": "stream",
          "name": "stdout",
          "text": [
            "0.32689543164129786\n"
          ]
        }
      ]
    },
    {
      "cell_type": "code",
      "source": [
        "#Visual view\n",
        "import seaborn as sns\n",
        "import matplotlib.pyplot as plt\n"
      ],
      "metadata": {
        "id": "_pxq0CUQ9atu"
      },
      "execution_count": 4,
      "outputs": []
    },
    {
      "cell_type": "code",
      "source": [
        "cmap = sns.diverging_palette(80,220, as_cmap=False)\n",
        "sns.heatmap(corr , vmin=-1.0,vmax=1.0, square=True , cmap= cmap)\n",
        "plt.show()"
      ],
      "metadata": {
        "colab": {
          "base_uri": "https://localhost:8080/",
          "height": 316
        },
        "id": "ya799ogF9zOF",
        "outputId": "15cb998e-4a75-4f8f-cae2-9790844e706f"
      },
      "execution_count": 5,
      "outputs": [
        {
          "output_type": "display_data",
          "data": {
            "text/plain": [
              "<Figure size 432x288 with 2 Axes>"
            ],
            "image/png": "[encoded data removed]"
          },
          "metadata": {
            "needs_background": "light"
          }
        }
      ]
    },
    {
      "cell_type": "code",
      "source": [
        "cmap = sns.diverging_palette(80,220, as_cmap=True)\n",
        "sns.heatmap(corr , vmin=-1.0,vmax=1.0, square=True , cmap= cmap)\n",
        "plt.show()"
      ],
      "metadata": {
        "colab": {
          "base_uri": "https://localhost:8080/",
          "height": 316
        },
        "id": "u_RymBeT-b0m",
        "outputId": "045c4cea-46f7-4372-9b8e-015b4aacabcb"
      },
      "execution_count": null,
      "outputs": [
        {
          "output_type": "display_data",
          "data": {
            "text/plain": [
              "<Figure size 432x288 with 2 Axes>"
            ],
            "image/png": "[encoded data removed]"
          },
          "metadata": {
            "needs_background": "light"
          }
        }
      ]
    },
    {
      "cell_type": "code",
      "source": [
        "#import os\n",
        "import pandas as pd\n",
        "import numpy as np\n",
        "data = pd.read_csv(\"loan.csv\")\n",
        "numeric_col = ['age','employ','address','income','debtinc','creddebt','othdebt']\n",
        "corr = data.loc[:,numeric_col].corr()\n",
        "print(corr)\n"
      ],
      "metadata": {
        "colab": {
          "base_uri": "https://localhost:8080/"
        },
        "id": "4J930hi0_MeE",
        "outputId": "7147f747-5003-42cc-f06d-6080497272f8"
      },
      "execution_count": null,
      "outputs": [
        {
          "output_type": "stream",
          "name": "stdout",
          "text": [
            "               age    employ   address    income   debtinc  creddebt   othdebt\n",
            "age       1.000000  0.554241  0.599949  0.476218  0.008240  0.278907  0.337841\n",
            "employ    0.554241  1.000000  0.344664  0.625093 -0.033625  0.381741  0.414431\n",
            "address   0.599949  0.344664  1.000000  0.308340 -0.032939  0.161641  0.185481\n",
            "income    0.476218  0.625093  0.308340  1.000000 -0.035585  0.551515  0.603352\n",
            "debtinc   0.008240 -0.033625 -0.032939 -0.035585  1.000000  0.514965  0.572548\n",
            "creddebt  0.278907  0.381741  0.161641  0.551515  0.514965  1.000000  0.644952\n",
            "othdebt   0.337841  0.414431  0.185481  0.603352  0.572548  0.644952  1.000000\n"
          ]
        }
      ]
    },
    {
      "cell_type": "markdown",
      "source": [
        "#BarGraph"
      ],
      "metadata": {
        "id": "q9FUi-VJb62e"
      }
    },
    {
      "cell_type": "code",
      "source": [
        "# Import the required library  \n",
        "import pandas as pd  \n",
        "import seaborn as sns\n",
        "import matplotlib.pyplot as plt \n",
        "\n",
        "# load the dataset \n",
        "df = pd.read_csv(\"StatFun2_4_1.csv\")\n",
        "print(df) \n",
        "\n",
        "# Create a bar plot of gender frequency\n",
        "plt.figure(figsize=(4,4))\n",
        "sns.countplot(x='location', data=df)\n",
        "plt.show()\n",
        "\n",
        "'''\n",
        "# Display the same plot horizontally\n",
        "plt.figure(figsize=(4,4))\n",
        "sns.countplot(y='gender', data=df)\n",
        "plt.show()\n",
        "'''"
      ],
      "metadata": {
        "id": "i2_aTO1ICkqz",
        "colab": {
          "base_uri": "https://localhost:8080/",
          "height": 567
        },
        "outputId": "1d5c7994-9f5d-4291-b827-973d94098a0f"
      },
      "execution_count": null,
      "outputs": [
        {
          "output_type": "stream",
          "name": "stdout",
          "text": [
            "       ID  salary  gender location\n",
            "0   10001   10370    Male    Tokyo\n",
            "1   10002    3210    Male   Nagoya\n",
            "2   10003    4080  Female    Tokyo\n",
            "3   10004    5500  Female    Tokyo\n",
            "4   10005    3080    Male    Osaka\n",
            "..    ...     ...     ...      ...\n",
            "95  10096    4950  Female    Tokyo\n",
            "96  10097    3990    Male    Osaka\n",
            "97  10098    3950    Male   Nagoya\n",
            "98  10099    5000  Female    Osaka\n",
            "99  10100    3650    Male   Nagoya\n",
            "\n",
            "[100 rows x 4 columns]\n"
          ]
        },
        {
          "output_type": "display_data",
          "data": {
            "text/plain": [
              "<Figure size 288x288 with 1 Axes>"
            ],
            "image/png": "[encoded data removed]"
          },
          "metadata": {
            "needs_background": "light"
          }
        },
        {
          "output_type": "execute_result",
          "data": {
            "text/plain": [
              "\"\\n# Display the same plot horizontally\\nplt.figure(figsize=(4,4))\\nsns.countplot(y='gender', data=df)\\nplt.show()\\n\""
            ],
            "application/vnd.google.colaboratory.intrinsic+json": {
              "type": "string"
            }
          },
          "metadata": {},
          "execution_count": 4
        }
      ]
    },
    {
      "cell_type": "markdown",
      "source": [
        "#boxPlot"
      ],
      "metadata": {
        "id": "jE5nW6WVdPYG"
      }
    },
    {
      "cell_type": "code",
      "source": [
        "import numpy as np\n",
        "import pandas as pd\n",
        "import seaborn as sns\n",
        "import matplotlib.pyplot as plt\n",
        "\n",
        "tips = sns.load_dataset(\"tips\")\n",
        "\n",
        "sns.boxplot(x=\"day\", y=\"total_bill\", data=tips)\n",
        "\n",
        "plt.show()\n",
        "\n",
        "def box_outliers(series):\n",
        "    Q1 = series.quantile(0.25)\n",
        "    Q3 = series.quantile(0.75)\n",
        "    IQR = Q3 - Q1\n",
        "    mask = (series < Q1 - 1.5 * IQR) | (series > Q3 + 1.5 * IQR)\n",
        "    series = series[mask]\n",
        "    return series\n",
        "\t\n",
        "data_outliers = pd.DataFrame([])\n",
        "\n",
        "tmp = []\n",
        "for i in tips.copy().day.unique():\n",
        "    df_outlier = tips.copy().sort_values(['day'])\n",
        "    df_outlier = df_outlier.loc[df_outlier['day'] == i, :].reset_index(drop=True)\n",
        "    df_outlier = df_outlier[['day', 'total_bill']].set_index('day').apply(box_outliers)\n",
        "    df_outlier = df_outlier.reset_index()\n",
        "#    data_outliers = data_outliers.append(df_outlier)\n",
        "    tmp.append(df_outlier)\n",
        "\n",
        "data_outliers = pd.concat(tmp)\n",
        "\n",
        "print (data_outliers.reset_index(drop=True))\n",
        "\n",
        "\t"
      ],
      "metadata": {
        "id": "jOxWV31CdK4A"
      },
      "execution_count": null,
      "outputs": []
    },
    {
      "cell_type": "markdown",
      "source": [
        "#Histogram"
      ],
      "metadata": {
        "id": "hfquPuXxdmzi"
      }
    },
    {
      "cell_type": "code",
      "source": [
        "# Import libraries\n",
        "import pandas as pd\n",
        "import numpy as np\n",
        "import seaborn as sns\n",
        "import matplotlib.pyplot as plt\n",
        "\n",
        "# Load the data\n",
        "df = pd.read_csv(\"StatFun2_1_1.csv\")\n",
        "\n",
        "# Convert the data into Series\n",
        "data = pd.Series(df['exam_score'], name=\"Exam Score\")\n",
        "\n",
        "# Set the bins: 0 to 100 and width of 20\n",
        "range_bin_width = range(0, 101, 20)\n",
        "\n",
        "# Display the histgram\n",
        "sns.displot(data, bins=range_bin_width, kde=False)\n",
        "\n",
        "# Adjust the maximum and minimum value of each axis.\n",
        "sns.distplot(data, bins=range_bin_width, kde=False)\n",
        "plt.xlim([0,100])\n",
        "plt.ylim([0,20])\n",
        "plt.show()\n"
      ],
      "metadata": {
        "colab": {
          "base_uri": "https://localhost:8080/",
          "height": 429
        },
        "id": "pXhP3ZX5dos7",
        "outputId": "336a8062-61f5-42a3-8b45-e1214dc020f3"
      },
      "execution_count": null,
      "outputs": [
        {
          "output_type": "stream",
          "name": "stderr",
          "text": [
            "/usr/local/lib/python3.8/dist-packages/seaborn/distributions.py:2619: FutureWarning: `distplot` is a deprecated function and will be removed in a future version. Please adapt your code to use either `displot` (a figure-level function with similar flexibility) or `histplot` (an axes-level function for histograms).\n",
            "  warnings.warn(msg, FutureWarning)\n"
          ]
        },
        {
          "output_type": "display_data",
          "data": {
            "text/plain": [
              "<Figure size 360x360 with 1 Axes>"
            ],
            "image/png": "[encoded data removed]"
          },
          "metadata": {
            "needs_background": "light"
          }
        }
      ]
    },
    {
      "cell_type": "markdown",
      "source": [
        "#Line Graph"
      ],
      "metadata": {
        "id": "-NJMqPhOfXAb"
      }
    },
    {
      "cell_type": "code",
      "source": [
        "# Import libraries\n",
        "import pandas as pd\n",
        "import seaborn as sns\n",
        "import matplotlib.pyplot as plt\n",
        "\n",
        "# Load the dataset\n",
        "df = pd.read_csv(\"StatFun2_2_2.csv\")\n",
        "\n",
        "# Create and display a line plot\n",
        "sns.lineplot(x=\"date\", y=\"price\", data=df)\n",
        "plt.gcf().autofmt_xdate()\n",
        "plt.show()\n"
      ],
      "metadata": {
        "colab": {
          "base_uri": "https://localhost:8080/",
          "height": 285
        },
        "id": "lMBpgjRie6Iw",
        "outputId": "a3ed91a1-81fd-4a00-af69-900b3bbbe7e1"
      },
      "execution_count": null,
      "outputs": [
        {
          "output_type": "display_data",
          "data": {
            "text/plain": [
              "<Figure size 432x288 with 1 Axes>"
            ],
            "image/png": "[encoded data removed]"
          },
          "metadata": {
            "needs_background": "light"
          }
        }
      ]
    },
    {
      "cell_type": "markdown",
      "source": [
        "#pie chart"
      ],
      "metadata": {
        "id": "HZciQqAzfvEM"
      }
    },
    {
      "cell_type": "code",
      "source": [
        "# Import the required library  \n",
        "import pandas as pd  \n",
        "import numpy as np\n",
        "import seaborn as sns\n",
        "import matplotlib.pyplot as plt  \n",
        "\n",
        "# load the dataset \n",
        "df = pd.read_csv(\"StatFun2_4_1.csv\")  \n",
        "\n",
        "# Create a relative frequency table of location\n",
        "df_loc = pd.DataFrame(df['location'].value_counts()/len(df))\n",
        "\n",
        "# Create a column \"city\"\n",
        "df_loc['city'] = df_loc.index\n",
        "print (df_loc)\n",
        "\n",
        "# Create a pie chart of location proportion\n",
        "plt.rcParams['figure.figsize'] = (6,6)\n",
        "\n",
        "fig = plt.figure()\n",
        "ax = fig.add_subplot(1, 1, 1)\n",
        "ax.pie(df_loc['location'], labels=df_loc['city'], autopct=\"%1.1f%%\")\n",
        "\n",
        "plt.show()"
      ],
      "metadata": {
        "colab": {
          "base_uri": "https://localhost:8080/",
          "height": 429
        },
        "id": "M_pVtmhsfjE3",
        "outputId": "6eb0ea22-3494-4165-e774-cd89bc89144c"
      },
      "execution_count": null,
      "outputs": [
        {
          "output_type": "stream",
          "name": "stdout",
          "text": [
            "        location    city\n",
            "Tokyo       0.53   Tokyo\n",
            "Osaka       0.28   Osaka\n",
            "Nagoya      0.19  Nagoya\n"
          ]
        },
        {
          "output_type": "display_data",
          "data": {
            "text/plain": [
              "<Figure size 432x432 with 1 Axes>"
            ],
            "image/png": "[encoded data removed]"
          },
          "metadata": {}
        }
      ]
    },
    {
      "cell_type": "code",
      "source": [
        "#Varience\n",
        "# Python code to demonstrate the working of\n",
        "# variance() function of Statistics Module\n",
        "\n",
        "# Importing Statistics module\n",
        "import statistics\n",
        "\n",
        "# Creating a sample of data\n",
        "sample = [2.74, 1.23, 2.63, 2.22, 3, 1.98]\n",
        "\n",
        "# Prints variance of the sample set\n",
        "\n",
        "# Function will automatically calculate\n",
        "# it's mean and set it as xbar\n",
        "print(\"Variance of sample set is % s\"\n",
        "\t%(statistics.variance(sample)))"
      ],
      "metadata": {
        "colab": {
          "base_uri": "https://localhost:8080/"
        },
        "id": "S-qqDFiYf1Wd",
        "outputId": "23ae40cd-3f15-4c93-c568-e392cccdb942"
      },
      "execution_count": null,
      "outputs": [
        {
          "output_type": "stream",
          "name": "stdout",
          "text": [
            "Variance of sample set is 0.40924\n"
          ]
        }
      ]
    },
    {
      "cell_type": "code",
      "source": [],
      "metadata": {
        "id": "0MqryK7DhgKZ"
      },
      "execution_count": null,
      "outputs": []
    }
  ]
}