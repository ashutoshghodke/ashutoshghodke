{
  "nbformat": 4,
  "nbformat_minor": 0,
  "metadata": {
    "colab": {
      "provenance": [],
      "authorship_tag": "ABX9TyPjp6dv/NMK9k+iLVrmNnSH",
      "include_colab_link": true
    },
    "kernelspec": {
      "name": "python3",
      "display_name": "Python 3"
    },
    "language_info": {
      "name": "python"
    }
  },
  "cells": [
    {
      "cell_type": "markdown",
      "metadata": {
        "id": "view-in-github",
        "colab_type": "text"
      },
      "source": [
        "<a href=\"https://colab.research.google.com/github/ashutoshghodke/ashutoshghodke/blob/main/python_interview_qst.ipynb\" target=\"_parent\"><img src=\"https://colab.research.google.com/assets/colab-badge.svg\" alt=\"Open In Colab\"/></a>"
      ]
    },
    {
      "cell_type": "code",
      "source": [
        "#write a python program to find out the common letters in two string\n",
        "# 1)naina\n",
        "# 2)reena\n",
        "def common_letters():\n",
        "  str1=input(\"enter 1st str\")\n",
        "  str2=input(\"enter 2nd str\")\n",
        "  s1=set(str1)\n",
        "  s2=set(str2)\n",
        "  list=s1 & s2\n",
        "\n",
        "  print(list)\n",
        "\n",
        "\n",
        "common_letters()"
      ],
      "metadata": {
        "id": "MrqJk6ScAnzU",
        "colab": {
          "base_uri": "https://localhost:8080/",
          "height": 345
        },
        "outputId": "34ac5354-64bd-4f2b-cfea-66ee0c5cd751"
      },
      "execution_count": null,
      "outputs": [
        {
          "output_type": "error",
          "ename": "KeyboardInterrupt",
          "evalue": "ignored",
          "traceback": [
            "\u001b[0;31m---------------------------------------------------------------------------\u001b[0m",
            "\u001b[0;31mKeyboardInterrupt\u001b[0m                         Traceback (most recent call last)",
            "\u001b[0;32m<ipython-input-26-318465cc2c8b>\u001b[0m in \u001b[0;36m<cell line: 14>\u001b[0;34m()\u001b[0m\n\u001b[1;32m     12\u001b[0m \u001b[0;34m\u001b[0m\u001b[0m\n\u001b[1;32m     13\u001b[0m \u001b[0;34m\u001b[0m\u001b[0m\n\u001b[0;32m---> 14\u001b[0;31m \u001b[0mcommon_letters\u001b[0m\u001b[0;34m(\u001b[0m\u001b[0;34m)\u001b[0m\u001b[0;34m\u001b[0m\u001b[0;34m\u001b[0m\u001b[0m\n\u001b[0m",
            "\u001b[0;32m<ipython-input-26-318465cc2c8b>\u001b[0m in \u001b[0;36mcommon_letters\u001b[0;34m()\u001b[0m\n\u001b[1;32m      3\u001b[0m \u001b[0;31m# 2)reena\u001b[0m\u001b[0;34m\u001b[0m\u001b[0;34m\u001b[0m\u001b[0m\n\u001b[1;32m      4\u001b[0m \u001b[0;32mdef\u001b[0m \u001b[0mcommon_letters\u001b[0m\u001b[0;34m(\u001b[0m\u001b[0;34m)\u001b[0m\u001b[0;34m:\u001b[0m\u001b[0;34m\u001b[0m\u001b[0;34m\u001b[0m\u001b[0m\n\u001b[0;32m----> 5\u001b[0;31m   \u001b[0mstr1\u001b[0m\u001b[0;34m=\u001b[0m\u001b[0minput\u001b[0m\u001b[0;34m(\u001b[0m\u001b[0;34m\"enter 1st str\"\u001b[0m\u001b[0;34m)\u001b[0m\u001b[0;34m\u001b[0m\u001b[0;34m\u001b[0m\u001b[0m\n\u001b[0m\u001b[1;32m      6\u001b[0m   \u001b[0mstr2\u001b[0m\u001b[0;34m=\u001b[0m\u001b[0minput\u001b[0m\u001b[0;34m(\u001b[0m\u001b[0;34m\"enter 2nd str\"\u001b[0m\u001b[0;34m)\u001b[0m\u001b[0;34m\u001b[0m\u001b[0;34m\u001b[0m\u001b[0m\n\u001b[1;32m      7\u001b[0m   \u001b[0ms1\u001b[0m\u001b[0;34m=\u001b[0m\u001b[0mset\u001b[0m\u001b[0;34m(\u001b[0m\u001b[0mstr1\u001b[0m\u001b[0;34m)\u001b[0m\u001b[0;34m\u001b[0m\u001b[0;34m\u001b[0m\u001b[0m\n",
            "\u001b[0;32m/usr/local/lib/python3.9/dist-packages/ipykernel/kernelbase.py\u001b[0m in \u001b[0;36mraw_input\u001b[0;34m(self, prompt)\u001b[0m\n\u001b[1;32m    849\u001b[0m                 \u001b[0;34m\"raw_input was called, but this frontend does not support input requests.\"\u001b[0m\u001b[0;34m\u001b[0m\u001b[0;34m\u001b[0m\u001b[0m\n\u001b[1;32m    850\u001b[0m             )\n\u001b[0;32m--> 851\u001b[0;31m         return self._input_request(str(prompt),\n\u001b[0m\u001b[1;32m    852\u001b[0m             \u001b[0mself\u001b[0m\u001b[0;34m.\u001b[0m\u001b[0m_parent_ident\u001b[0m\u001b[0;34m,\u001b[0m\u001b[0;34m\u001b[0m\u001b[0;34m\u001b[0m\u001b[0m\n\u001b[1;32m    853\u001b[0m             \u001b[0mself\u001b[0m\u001b[0;34m.\u001b[0m\u001b[0m_parent_header\u001b[0m\u001b[0;34m,\u001b[0m\u001b[0;34m\u001b[0m\u001b[0;34m\u001b[0m\u001b[0m\n",
            "\u001b[0;32m/usr/local/lib/python3.9/dist-packages/ipykernel/kernelbase.py\u001b[0m in \u001b[0;36m_input_request\u001b[0;34m(self, prompt, ident, parent, password)\u001b[0m\n\u001b[1;32m    893\u001b[0m             \u001b[0;32mexcept\u001b[0m \u001b[0mKeyboardInterrupt\u001b[0m\u001b[0;34m:\u001b[0m\u001b[0;34m\u001b[0m\u001b[0;34m\u001b[0m\u001b[0m\n\u001b[1;32m    894\u001b[0m                 \u001b[0;31m# re-raise KeyboardInterrupt, to truncate traceback\u001b[0m\u001b[0;34m\u001b[0m\u001b[0;34m\u001b[0m\u001b[0m\n\u001b[0;32m--> 895\u001b[0;31m                 \u001b[0;32mraise\u001b[0m \u001b[0mKeyboardInterrupt\u001b[0m\u001b[0;34m(\u001b[0m\u001b[0;34m\"Interrupted by user\"\u001b[0m\u001b[0;34m)\u001b[0m \u001b[0;32mfrom\u001b[0m \u001b[0;32mNone\u001b[0m\u001b[0;34m\u001b[0m\u001b[0;34m\u001b[0m\u001b[0m\n\u001b[0m\u001b[1;32m    896\u001b[0m             \u001b[0;32mexcept\u001b[0m \u001b[0mException\u001b[0m \u001b[0;32mas\u001b[0m \u001b[0me\u001b[0m\u001b[0;34m:\u001b[0m\u001b[0;34m\u001b[0m\u001b[0;34m\u001b[0m\u001b[0m\n\u001b[1;32m    897\u001b[0m                 \u001b[0mself\u001b[0m\u001b[0;34m.\u001b[0m\u001b[0mlog\u001b[0m\u001b[0;34m.\u001b[0m\u001b[0mwarning\u001b[0m\u001b[0;34m(\u001b[0m\u001b[0;34m\"Invalid Message:\"\u001b[0m\u001b[0;34m,\u001b[0m \u001b[0mexc_info\u001b[0m\u001b[0;34m=\u001b[0m\u001b[0;32mTrue\u001b[0m\u001b[0;34m)\u001b[0m\u001b[0;34m\u001b[0m\u001b[0;34m\u001b[0m\u001b[0m\n",
            "\u001b[0;31mKeyboardInterrupt\u001b[0m: Interrupted by user"
          ]
        }
      ]
    },
    {
      "cell_type": "code",
      "source": [
        "#write a python program to count the frequency of words\n",
        "# Appering in a string\n",
        "\n",
        "def count():\n",
        "  str=input(\"enter a str\")\n",
        "  s1=sorted(set(str.split()))\n",
        "  s2=str.split()\n",
        "\n",
        "  for i in s1:\n",
        "    print(i,\"--->\",s2.count(i))\n"
      ],
      "metadata": {
        "id": "wb4McCZDBbhj"
      },
      "execution_count": null,
      "outputs": []
    },
    {
      "cell_type": "code",
      "source": [
        "count()"
      ],
      "metadata": {
        "colab": {
          "base_uri": "https://localhost:8080/"
        },
        "id": "sqAR396WFnu8",
        "outputId": "6056f033-b819-4932-e7e5-c89a0ea90c98"
      },
      "execution_count": null,
      "outputs": [
        {
          "output_type": "stream",
          "name": "stdout",
          "text": [
            "enter a strab ab ba gh hg\n",
            "ab ---> 2\n",
            "ba ---> 1\n",
            "gh ---> 1\n",
            "hg ---> 1\n"
          ]
        }
      ]
    },
    {
      "cell_type": "markdown",
      "source": [],
      "metadata": {
        "id": "b7hFf6RjW97T"
      }
    },
    {
      "cell_type": "code",
      "source": [
        "#write a python program  to convert two list into dict\n",
        "# l1=[naina,kimi,sheena]\n",
        "# l2=[5212,5246,8652]\n",
        "\n",
        "def list_to_dict():\n",
        "  key=[5212,5246,8652]\n",
        "  values=['naina','kimi','sheena']\n",
        "  result=dict(zip(key,values))\n",
        "  print(result)\n",
        "  print(type(result))\n",
        "\n",
        "\n",
        "list_to_dict()\n"
      ],
      "metadata": {
        "colab": {
          "base_uri": "https://localhost:8080/"
        },
        "id": "tHfGAl0HT2QD",
        "outputId": "02abbdef-2760-444b-a107-22f05d1e17b8"
      },
      "execution_count": null,
      "outputs": [
        {
          "output_type": "stream",
          "name": "stdout",
          "text": [
            "{5212: 'naina', 5246: 'kimi', 8652: 'sheena'}\n",
            "<class 'dict'>\n"
          ]
        }
      ]
    },
    {
      "cell_type": "code",
      "source": [
        "#dict to tuple\n",
        "def dict_to_tuple():\n",
        "  x={5212: 'naina', 5246: 'kimi', 8652: 'sheena'}\n",
        "  for i in x.items():\n",
        "    print(i)\n",
        "    print(type(i))\n",
        "\n",
        "dict_to_tuple()"
      ],
      "metadata": {
        "colab": {
          "base_uri": "https://localhost:8080/"
        },
        "id": "O3Iq1VWnXqyU",
        "outputId": "6e847ffd-9478-46d7-ad82-954e65af7627"
      },
      "execution_count": null,
      "outputs": [
        {
          "output_type": "stream",
          "name": "stdout",
          "text": [
            "(5212, 'naina')\n",
            "<class 'tuple'>\n",
            "(5246, 'kimi')\n",
            "<class 'tuple'>\n",
            "(8652, 'sheena')\n",
            "<class 'tuple'>\n"
          ]
        }
      ]
    },
    {
      "cell_type": "code",
      "source": [
        "#find missing no in an aaray(using summation and XOR method)\n",
        "#1|2|4|5|6|7 ---missimg no is 3\n",
        "#using summation\n",
        "def get_miising_no():\n",
        "  n=7\n",
        "  array=[1,2,4,5,6,7]\n",
        "  total=n*(n+1)/2\n",
        "  s=sum(array)\n",
        "  missedno=total-s\n",
        "  print(missedno)\n",
        "\n",
        "get_miising_no()\n",
        "\n",
        "\n",
        "## using xor\n",
        "#not importanat by xor so leave it\n"
      ],
      "metadata": {
        "colab": {
          "base_uri": "https://localhost:8080/"
        },
        "id": "dl3WDd4aYwck",
        "outputId": "3f79ebe0-6359-40e3-8232-01c833e04276"
      },
      "execution_count": null,
      "outputs": [
        {
          "output_type": "stream",
          "name": "stdout",
          "text": [
            "3.0\n"
          ]
        }
      ]
    },
    {
      "cell_type": "code",
      "source": [
        "#find out pairs with given sum value of na aaray\n",
        "\n",
        "def two_sum(array,summ,len):\n",
        "  for i in range (len):\n",
        "    for j in range(i,len):\n",
        "      if(array[i]+array[j]==summ):\n",
        "        print(array[i],array[j])\n",
        "\n",
        "\n",
        "array = [5, 2, 3, 4, 1, 6, 7]\n",
        "summ = 7\n",
        "two_sum(array,summ,len(array))"
      ],
      "metadata": {
        "colab": {
          "base_uri": "https://localhost:8080/"
        },
        "id": "xe51pctCbv-1",
        "outputId": "2d103a1c-bee4-4d41-90f8-8eebf62fcd65"
      },
      "execution_count": null,
      "outputs": [
        {
          "output_type": "stream",
          "name": "stdout",
          "text": [
            "5 2\n",
            "3 4\n",
            "1 6\n"
          ]
        }
      ]
    },
    {
      "cell_type": "code",
      "source": [
        "\n",
        "#remove duplicates\n",
        "l1=[1,2,3,4,1,2,3,5,1,1,2,33,3]\n",
        "l2=(set(l1))\n",
        "print(l2)\n",
        "\n",
        "# #using array iteration\n",
        "l1=[1,2,3,4,1,2,3,5,1,1,2,33,3]\n",
        "l=[]\n",
        "for i in l1:\n",
        "  if( i not in l):\n",
        "    l.append(i)\n",
        "print(l)\n",
        "\n",
        "# #lambda function\n",
        "l1=[1,2,3,4,1,2,3,5,1,1,2,33,3]\n",
        "rmv_dupli=lambda l1:set(l1)\n",
        "print(rmv_dupli(l1))\n",
        "\n",
        "\n",
        "## using dictionary\n",
        "dict={\n",
        "    'car':[\"ford\",\"toyota\",\"ford\",\"toyota\"],\n",
        "    'brand':[\"ecosport\",\"fortuner\",\"ecosport\",\"fortuner\"]\n",
        "\n",
        "}\n",
        "\n",
        "dict1={}\n",
        "\n",
        "for keys,values in dict.items():\n",
        "  dict1[keys]=set(values)\n",
        "print(dict1)\n",
        "\n",
        "\n",
        "## symetric difference\n",
        "s1={1,2,3,4}\n",
        "s2={2,1,4,7}\n",
        "rmv=s1.symmetric_difference(s2)\n",
        "print(rmv)"
      ],
      "metadata": {
        "id": "T53ppPObqzvY",
        "colab": {
          "base_uri": "https://localhost:8080/"
        },
        "outputId": "99319e08-0fde-4303-9efb-80726d9cd282"
      },
      "execution_count": null,
      "outputs": [
        {
          "output_type": "stream",
          "name": "stdout",
          "text": [
            "{3, 7}\n"
          ]
        }
      ]
    },
    {
      "cell_type": "code",
      "source": [
        "#How to Reverse a List in Python\n",
        "## BY ITERATION\n",
        "b=[]\n",
        "a=[10,52,25,45,89,56,35,78,85,86,5]\n",
        "for i in range (len(a)-1,-1,-1):\n",
        "  b.append(a[i])\n",
        "print(b)\n",
        "\n",
        "## BY SLICING\n",
        "a=[10,52,25,45,89,56,35,78,85,86,5]\n",
        "b=a[::-1]\n",
        "print(b)\n",
        "\n",
        "## BY REVERSE FUNCTION\n",
        "a=[10,52,25,45,89,56,35,78,85,86,5]\n",
        "a.reverse()\n",
        "print(a)"
      ],
      "metadata": {
        "id": "r-IxOsoOn5qO",
        "colab": {
          "base_uri": "https://localhost:8080/"
        },
        "outputId": "4a6c0dc4-3ffc-4a04-8d53-50a9fb249f36"
      },
      "execution_count": null,
      "outputs": [
        {
          "output_type": "stream",
          "name": "stdout",
          "text": [
            "[5, 86, 85, 78, 35, 56, 89, 45, 25, 52, 10]\n"
          ]
        }
      ]
    },
    {
      "cell_type": "code",
      "source": [
        "## Length of Last Word - Algorithm /Code in Python\n",
        "\n",
        "a=\"ashutosh ghodkepatil\"\n",
        "b=a.split()\n",
        "c=b[1]\n",
        "print(c)\n",
        "print(len(c))"
      ],
      "metadata": {
        "colab": {
          "base_uri": "https://localhost:8080/"
        },
        "id": "-wr30dhEkQ8f",
        "outputId": "95e67219-52f9-47cc-c00f-7aa0845c65f6"
      },
      "execution_count": null,
      "outputs": [
        {
          "output_type": "stream",
          "name": "stdout",
          "text": [
            "ghodkepatil\n",
            "11\n"
          ]
        }
      ]
    },
    {
      "cell_type": "code",
      "source": [
        "#write a Python program to check whether a given number is an even or an odd number.\n",
        "number=int(input(\"enter a number\"))\n",
        "if number % 2==0:\n",
        "  print(\"the number is even\")\n",
        "else:\n",
        "  print(\"the number is odd \")"
      ],
      "metadata": {
        "id": "qBvlsxqoRGbp",
        "colab": {
          "base_uri": "https://localhost:8080/"
        },
        "outputId": "b5322a53-8970-4439-d999-ec96d42b4c7a"
      },
      "execution_count": null,
      "outputs": [
        {
          "output_type": "stream",
          "name": "stdout",
          "text": [
            "enter a number82\n",
            "the number is even\n"
          ]
        }
      ]
    },
    {
      "cell_type": "code",
      "source": [
        "## write a Python program to check prime number using for loop\n",
        "\n",
        "num=int(input(\"enter a number \"))\n",
        "if num<2:\n",
        "  print(\"not a prime number\")\n",
        "else:\n",
        "  for i in range(2,num):\n",
        "    if num%i==0:\n",
        "      print(\"not a prime number\")\n",
        "      break\n",
        "  else:\n",
        "      print(\"it is  a prime number\")"
      ],
      "metadata": {
        "colab": {
          "base_uri": "https://localhost:8080/"
        },
        "id": "Jg6lk83VU5gJ",
        "outputId": "98b43852-b82c-4355-8d17-86046eb186cb"
      },
      "execution_count": null,
      "outputs": [
        {
          "output_type": "stream",
          "name": "stdout",
          "text": [
            "enter a number 101\n",
            "it is  a prime number\n"
          ]
        }
      ]
    },
    {
      "cell_type": "code",
      "source": [
        "## Check Alphabet or Not\n",
        "\n",
        "alpha=input(\"enter a alphabet\")\n",
        "if alpha >=\"a\" and alpha<=\"z\":\n",
        "  print(\"it is alphabet\")\n",
        "elif alpha>=\"A\" and alpha <=\"Z\":\n",
        "  print(\"it is  albhabet\")\n",
        "else:\n",
        "  print(\"it is not alphabet\")"
      ],
      "metadata": {
        "id": "IRkXxEk9WHAj",
        "colab": {
          "base_uri": "https://localhost:8080/"
        },
        "outputId": "784f2c7b-11de-42f3-cbd5-da748c54641c"
      },
      "execution_count": null,
      "outputs": [
        {
          "output_type": "stream",
          "name": "stdout",
          "text": [
            "enter a alphabetwedfrgh\n",
            "it is alphabet\n"
          ]
        }
      ]
    },
    {
      "cell_type": "code",
      "source": [
        "## Python Program to Check Vowel or Consonant\n",
        "alpha=input(\"enter a alphabet\")\n",
        "vowels=[\"a\",\"e\",\"i\",\"o\",\"u\",\"A\",\"E\",\"I\",\"O\",\"U\"]\n",
        "if alpha in vowels:\n",
        "\n",
        "  print(\"alphabet is vowel\")\n",
        "else:\n",
        "  print(\"alphabet is consonant\")"
      ],
      "metadata": {
        "colab": {
          "base_uri": "https://localhost:8080/"
        },
        "id": "SPetfyxh9aJG",
        "outputId": "515a2525-c660-48f8-c52d-dda1d31352ae"
      },
      "execution_count": null,
      "outputs": [
        {
          "output_type": "stream",
          "name": "stdout",
          "text": [
            "enter a alphabetAIE\n",
            "alphabet is consonant\n"
          ]
        }
      ]
    },
    {
      "cell_type": "code",
      "source": [
        "## Python Program to Check Leap Year\n",
        "\n",
        "year=int(input(\"enter a year\"))\n",
        "if (year%400==0 & year%100!=0) or(year%4==0):\n",
        "  print(\"year is leap\")\n",
        "else:\n",
        "  print(\"year is ordinary\")"
      ],
      "metadata": {
        "colab": {
          "base_uri": "https://localhost:8080/"
        },
        "id": "8XA0PQwE_vDM",
        "outputId": "bbd5e995-699d-45d7-b5c2-7eb83a349dcf"
      },
      "execution_count": null,
      "outputs": [
        {
          "output_type": "stream",
          "name": "stdout",
          "text": [
            "enter a year1958\n",
            "year is ordinary\n"
          ]
        }
      ]
    },
    {
      "cell_type": "code",
      "source": [
        "#Check Reverse Equals Original in Python\n",
        "i=int(input(\"enter a num\"))\n",
        "rev=0\n",
        "while(i>0):\n",
        "  rev=(rev*10)+i%10\n",
        "  i=i//10\n",
        "print(\"reverse number is\",rev)"
      ],
      "metadata": {
        "colab": {
          "base_uri": "https://localhost:8080/"
        },
        "id": "elyesP-ZAvL-",
        "outputId": "438d6a6d-dbf0-4c39-f3b2-a236309c5a1e"
      },
      "execution_count": null,
      "outputs": [
        {
          "output_type": "stream",
          "name": "stdout",
          "text": [
            "enter a num8645\n",
            "reverse number is 5468\n"
          ]
        }
      ]
    },
    {
      "cell_type": "code",
      "source": [
        "#Python Program to Check Armstrong Number\n",
        "\n",
        "num=int(input(\"enter a number\"))\n",
        "order=len(str(num))\n",
        "sum=0\n",
        "temp=num\n",
        "\n",
        "while temp>0:\n",
        "  digit= temp%10\n",
        "  power=digit**order\n",
        "  sum=sum+power\n",
        "  temp //=10\n",
        "\n",
        "if sum==num:\n",
        "  print(\"it is an armstrong number\")\n",
        "\n",
        "else:\n",
        "  print(\"it is not an armstrong number\")"
      ],
      "metadata": {
        "colab": {
          "base_uri": "https://localhost:8080/"
        },
        "id": "TD7BLcmIHuvi",
        "outputId": "bc9c58b8-2c15-41f3-b8f8-0a3b3114aaab"
      },
      "execution_count": null,
      "outputs": [
        {
          "output_type": "stream",
          "name": "stdout",
          "text": [
            "enter a number407\n",
            "it is an armstrong number\n"
          ]
        }
      ]
    },
    {
      "cell_type": "code",
      "source": [
        "#Check Even or Odd Number\n",
        "\n",
        "def even_odd():\n",
        "  num1=int(input(\"enter a number \"))\n",
        "  if num1%2==0:\n",
        "    print(\"number is even\")\n",
        "\n",
        "  else:\n",
        "    print(\"number is odd \")\n",
        "\n",
        "\n",
        "even_odd()"
      ],
      "metadata": {
        "id": "X_1xom41KwNa",
        "colab": {
          "base_uri": "https://localhost:8080/"
        },
        "outputId": "b34e6983-b993-425e-fe32-961ba5ab97ce"
      },
      "execution_count": null,
      "outputs": [
        {
          "output_type": "stream",
          "name": "stdout",
          "text": [
            "enter a number 48\n",
            "number is even\n"
          ]
        }
      ]
    },
    {
      "cell_type": "code",
      "source": [
        "def primeno():\n",
        "  num1=int(input(\"enter a number\"))\n",
        "  if num1<2:\n",
        "    print (\"number is not a prime number \")\n",
        "  else:\n",
        "\n",
        "    for i in range (2,num1):\n",
        "      if num1%i==0:\n",
        "        print(\"number is not a prime number\")\n",
        "        break\n",
        "      else:\n",
        "        print(\"number is a prime number\")\n",
        "        break\n",
        "\n",
        "\n",
        "\n",
        "primeno()\n",
        "\n"
      ],
      "metadata": {
        "colab": {
          "base_uri": "https://localhost:8080/"
        },
        "id": "xe4ofQdq56jQ",
        "outputId": "36f5b13e-a3f3-4ae6-a49d-9f8f87c3c92c"
      },
      "execution_count": null,
      "outputs": [
        {
          "output_type": "stream",
          "name": "stdout",
          "text": [
            "enter a number13\n",
            "number is a prime number\n"
          ]
        }
      ]
    },
    {
      "cell_type": "code",
      "source": [
        "#Check Alphabet or Not\n",
        "s1=input(\"eneter alphabets \")\n",
        "for i in s1:\n",
        "  if i>=\"a\" or i<=\"z\":\n",
        "    print(\"input is alpha \")\n",
        "    break\n",
        "  elif i>=\"A\" or i<=\"Z\":\n",
        "    print(\"input is alpha \")\n",
        "    break\n",
        "  else:\n",
        "    print(\"input is not alpha\")\n",
        "\n",
        "\n",
        "\n"
      ],
      "metadata": {
        "colab": {
          "base_uri": "https://localhost:8080/"
        },
        "id": "DizmNRxc68VU",
        "outputId": "e5862d69-dbf3-4cba-b27e-712697ec698d"
      },
      "execution_count": null,
      "outputs": [
        {
          "output_type": "stream",
          "name": "stdout",
          "text": [
            "eneter alphabets 8520\n",
            "input is alpha \n"
          ]
        }
      ]
    },
    {
      "cell_type": "code",
      "source": [
        "#Check Leap Year\n",
        "\n",
        "year=int(input(\"enter a year\"))\n",
        "if (year%4==0 and year%100!=0) or (year%400==0):\n",
        "  print(\"year is leap year \")\n",
        "else:\n",
        "  print(\"year is ordinary year\")\n"
      ],
      "metadata": {
        "colab": {
          "base_uri": "https://localhost:8080/"
        },
        "id": "F-N_Pxug98ML",
        "outputId": "27267bea-386f-490c-8e35-d229f844dcc5"
      },
      "execution_count": null,
      "outputs": [
        {
          "output_type": "stream",
          "name": "stdout",
          "text": [
            "enter a year2023\n",
            "year is ordinary year\n"
          ]
        }
      ]
    },
    {
      "cell_type": "code",
      "source": [
        "#Check Reverse Equals Original in Python\n",
        "\n",
        "num1=int(input(\"enetr a num\"))\n",
        "org=num1\n",
        "rev=0\n",
        "\n",
        "while num1>0:\n",
        "  rem=num1%10\n",
        "  rev=rem+(rev*10)\n",
        "  num1=int(num1/10)\n",
        "if num1==rev:\n",
        "  print(\"the number is equal to its reverse \")\n",
        "else:\n",
        "  print(\"the number is  not equal to its reverse \")"
      ],
      "metadata": {
        "id": "0Fgs8RNg914B"
      },
      "execution_count": null,
      "outputs": []
    },
    {
      "cell_type": "code",
      "source": [
        "#Python Program to Check Armstrong Number\n",
        "\n",
        "num=int(input(\"enter a number\"))\n",
        "order=len(str(num))\n",
        "sum=0\n",
        "temp=num\n",
        "\n",
        "while temp>0:\n",
        "  digit= temp%10\n",
        "  power=digit**order\n",
        "  sum=sum+power\n",
        "  temp //=10\n",
        "\n",
        "if sum==num:\n",
        "  print(\"it is an armstrong number\")\n",
        "\n",
        "else:\n",
        "  print(\"it is not an armstrong number\")"
      ],
      "metadata": {
        "id": "SFggKWHVn0ow"
      },
      "execution_count": null,
      "outputs": []
    },
    {
      "cell_type": "code",
      "source": [
        "##  Fibonacci  series\n",
        "def fibo(n):\n",
        "  prevno=0\n",
        "  currentno=1\n",
        "  for i in range(1,n):\n",
        "    prevprevno=prevno\n",
        "    prevno=currentno\n",
        "    currentno=prevprevno+prevno\n",
        "  return currentno\n",
        "\n",
        "\n",
        "fibo(45)\n",
        "\n"
      ],
      "metadata": {
        "colab": {
          "base_uri": "https://localhost:8080/"
        },
        "id": "GIwDsfibR5YA",
        "outputId": "cbc11f9a-8098-48c8-8740-7815097b58c7"
      },
      "execution_count": null,
      "outputs": [
        {
          "output_type": "execute_result",
          "data": {
            "text/plain": [
              "1134903170"
            ]
          },
          "metadata": {},
          "execution_count": 51
        }
      ]
    },
    {
      "cell_type": "code",
      "source": [
        "# PALIMDROME NUMBER\n",
        "num=int(input(\"enter a num\"))\n",
        "org=num\n",
        "rev=0\n",
        "\n",
        "\n",
        "while num>0:\n",
        "  rem=num%10\n",
        "  rev=(rev*10)+rem\n",
        "  num=num//10\n",
        "\n",
        "if org==rev:\n",
        "  print(\"num is palindrome num\")\n",
        "else:\n",
        "  print(\"num is not a palindrome num\")"
      ],
      "metadata": {
        "id": "Fnjm1ppnzBcN",
        "colab": {
          "base_uri": "https://localhost:8080/"
        },
        "outputId": "05eae678-f1d9-4c23-d2f0-1b1d48ed597c"
      },
      "execution_count": null,
      "outputs": [
        {
          "output_type": "stream",
          "name": "stdout",
          "text": [
            "enter a num202\n",
            "num is palindrome num\n"
          ]
        }
      ]
    },
    {
      "cell_type": "code",
      "source": [
        "## factorial of num\n",
        "def fact(num):\n",
        "  if num==1:\n",
        "    return 1\n",
        "\n",
        "  else:\n",
        "    return num*fact(num-1)\n",
        "\n",
        "\n",
        "fact(4)"
      ],
      "metadata": {
        "colab": {
          "base_uri": "https://localhost:8080/"
        },
        "id": "e7vLV77LXjBR",
        "outputId": "1cce568b-6142-4147-f413-18215980e4da"
      },
      "execution_count": null,
      "outputs": [
        {
          "output_type": "execute_result",
          "data": {
            "text/plain": [
              "24"
            ]
          },
          "metadata": {},
          "execution_count": 6
        }
      ]
    },
    {
      "cell_type": "code",
      "source": [
        "## pattern printing\n",
        "for i in range(1,10):\n",
        "  print(\"*\"*i)\n",
        "print(\"@@@@@@@@@@@@@@@@@@@@@@\")\n",
        "## reverse\n",
        "for i in range(10,0,-1):\n",
        "  print(\"*\"*i)"
      ],
      "metadata": {
        "colab": {
          "base_uri": "https://localhost:8080/"
        },
        "id": "0KLyRR4aZihw",
        "outputId": "1398d9c7-99d1-425b-edd4-75140ea5a12a"
      },
      "execution_count": null,
      "outputs": [
        {
          "output_type": "stream",
          "name": "stdout",
          "text": [
            "*\n",
            "**\n",
            "***\n",
            "****\n",
            "*****\n",
            "******\n",
            "*******\n",
            "********\n",
            "*********\n",
            "@@@@@@@@@@@@@@@@@@@@@@\n",
            "**********\n",
            "*********\n",
            "********\n",
            "*******\n",
            "******\n",
            "*****\n",
            "****\n",
            "***\n",
            "**\n",
            "*\n"
          ]
        }
      ]
    },
    {
      "cell_type": "code",
      "source": [
        "for i in range(1,10):\n",
        "\n",
        "    print(\" \"*(10-i),(\"*\"*i))\n",
        "print(\"@@@@@@@@@@@@@@@@@@@@@@@@@\")\n",
        "for i in range(1,10):\n",
        "\n",
        "    print(\" \"*(10-i),(\"*\"*i))"
      ],
      "metadata": {
        "colab": {
          "base_uri": "https://localhost:8080/"
        },
        "id": "aEf7FZS9Z8gt",
        "outputId": "5f80efb2-a379-45a9-d15f-22b72059d56d"
      },
      "execution_count": null,
      "outputs": [
        {
          "output_type": "stream",
          "name": "stdout",
          "text": [
            "          *\n",
            "         **\n",
            "        ***\n",
            "       ****\n",
            "      *****\n",
            "     ******\n",
            "    *******\n",
            "   ********\n",
            "  *********\n",
            "@@@@@@@@@@@@@@@@@@@@@@@@@\n",
            "          *\n",
            "         **\n",
            "        ***\n",
            "       ****\n",
            "      *****\n",
            "     ******\n",
            "    *******\n",
            "   ********\n",
            "  *********\n"
          ]
        }
      ]
    },
    {
      "cell_type": "code",
      "source": [
        "## Remove duplicates in list\n",
        "# l=[1, 2, 3, 4, 5, 4, 3, 2, 1, 2]\n",
        "# newl=set(l)\n",
        "# new2=list(newl)\n",
        "# print(new2)\n",
        "\n",
        "# or\n",
        "l=[1, 2, 3, 4, 5, 4, 3, 2, 1, 2]\n",
        "mylist=[]\n",
        "for i in l:\n",
        "  if l[i] not in mylist:\n",
        "    mylist.append(l[i])\n",
        "print(mylist)\n"
      ],
      "metadata": {
        "colab": {
          "base_uri": "https://localhost:8080/"
        },
        "id": "6KsZj77Hchhg",
        "outputId": "fd00e7e4-34c8-476c-ebc0-24b04d72e3e2"
      },
      "execution_count": null,
      "outputs": [
        {
          "output_type": "stream",
          "name": "stdout",
          "text": [
            "[2, 3, 4, 5]\n"
          ]
        }
      ]
    },
    {
      "cell_type": "code",
      "source": [
        "for i in range(1,8):\n",
        "  print(\" \"*(8-i),(\"* \"*i))\n"
      ],
      "metadata": {
        "id": "trLsY2QUfhIQ",
        "colab": {
          "base_uri": "https://localhost:8080/"
        },
        "outputId": "0b4ef223-9a9f-4027-fc9e-b02f2f8d8a12"
      },
      "execution_count": null,
      "outputs": [
        {
          "output_type": "stream",
          "name": "stdout",
          "text": [
            "        * \n",
            "       * * \n",
            "      * * * \n",
            "     * * * * \n",
            "    * * * * * \n",
            "   * * * * * * \n",
            "  * * * * * * * \n"
          ]
        }
      ]
    },
    {
      "cell_type": "code",
      "source": [
        "for i in range(5,0,-1):\n",
        "  print(\" \"*(5-i),(\"* \"*i))"
      ],
      "metadata": {
        "colab": {
          "base_uri": "https://localhost:8080/"
        },
        "id": "EdXDLGZZhorl",
        "outputId": "33b770dd-d561-481d-a977-3db16f3dce4f"
      },
      "execution_count": null,
      "outputs": [
        {
          "output_type": "stream",
          "name": "stdout",
          "text": [
            " * * * * * \n",
            "  * * * * \n",
            "   * * * \n",
            "    * * \n",
            "     * \n"
          ]
        }
      ]
    },
    {
      "cell_type": "code",
      "source": [
        "for i in range(1,8):\n",
        "  print(\" \"*(8-i),(\"* \"*i))"
      ],
      "metadata": {
        "id": "0HQRF8dXi8OP"
      },
      "execution_count": null,
      "outputs": []
    },
    {
      "cell_type": "code",
      "source": [
        "##Diamond Pattern In Python Using For Loop\n",
        "\n",
        "for i in range(0,8):\n",
        "  print(\" \"*(8-i),\"*\" * (2*i+1))\n",
        "\n",
        "for i in range(8,-1,-1):\n",
        "  print(\" \"*(8-i),\"*\" * (2*i+1))"
      ],
      "metadata": {
        "colab": {
          "base_uri": "https://localhost:8080/"
        },
        "id": "Z-S6uIhOl_sC",
        "outputId": "c8754f0b-57ae-46f3-c9c6-937552ea5ec5"
      },
      "execution_count": null,
      "outputs": [
        {
          "output_type": "stream",
          "name": "stdout",
          "text": [
            "         *\n",
            "        ***\n",
            "       *****\n",
            "      *******\n",
            "     *********\n",
            "    ***********\n",
            "   *************\n",
            "  ***************\n",
            " *****************\n",
            "  ***************\n",
            "   *************\n",
            "    ***********\n",
            "     *********\n",
            "      *******\n",
            "       *****\n",
            "        ***\n",
            "         *\n"
          ]
        }
      ]
    },
    {
      "cell_type": "code",
      "source": [
        "#Python Program for Floyd’s Triangle\n",
        "row=int(input(\"enter no.of rows\"))\n",
        "num=1\n",
        "for i in range(1,row+1):\n",
        "  for j in range(1,i+1):\n",
        "    print(num,end=' ')\n",
        "    num=num+1\n",
        "  print()"
      ],
      "metadata": {
        "colab": {
          "base_uri": "https://localhost:8080/"
        },
        "id": "N7cG6HcnmZxe",
        "outputId": "e9d13dae-6467-4315-cd4b-8b8fb91e4834"
      },
      "execution_count": null,
      "outputs": [
        {
          "output_type": "stream",
          "name": "stdout",
          "text": [
            "enter no.of rows20\n",
            "1 \n",
            "2 3 \n",
            "4 5 6 \n",
            "7 8 9 10 \n",
            "11 12 13 14 15 \n",
            "16 17 18 19 20 21 \n",
            "22 23 24 25 26 27 28 \n",
            "29 30 31 32 33 34 35 36 \n",
            "37 38 39 40 41 42 43 44 45 \n",
            "46 47 48 49 50 51 52 53 54 55 \n",
            "56 57 58 59 60 61 62 63 64 65 66 \n",
            "67 68 69 70 71 72 73 74 75 76 77 78 \n",
            "79 80 81 82 83 84 85 86 87 88 89 90 91 \n",
            "92 93 94 95 96 97 98 99 100 101 102 103 104 105 \n",
            "106 107 108 109 110 111 112 113 114 115 116 117 118 119 120 \n",
            "121 122 123 124 125 126 127 128 129 130 131 132 133 134 135 136 \n",
            "137 138 139 140 141 142 143 144 145 146 147 148 149 150 151 152 153 \n",
            "154 155 156 157 158 159 160 161 162 163 164 165 166 167 168 169 170 171 \n",
            "172 173 174 175 176 177 178 179 180 181 182 183 184 185 186 187 188 189 190 \n",
            "191 192 193 194 195 196 197 198 199 200 201 202 203 204 205 206 207 208 209 210 \n"
          ]
        }
      ]
    },
    {
      "cell_type": "code",
      "source": [
        "keys = [\"a\", \"b\", \"c\"]\n",
        "values = [2, 3, 4]\n",
        "\n",
        "d=dict(zip(keys,values))\n",
        "print(d)"
      ],
      "metadata": {
        "colab": {
          "base_uri": "https://localhost:8080/"
        },
        "id": "DSpf0MCQptY9",
        "outputId": "20bffa41-ea5f-4985-f088-9ff575f8c8ce"
      },
      "execution_count": null,
      "outputs": [
        {
          "output_type": "stream",
          "name": "stdout",
          "text": [
            "{'a': 2, 'b': 3, 'c': 4}\n"
          ]
        }
      ]
    },
    {
      "cell_type": "code",
      "source": [
        "l=[10,50,58,35,28,65,48,89,92,48,99]\n",
        "a=min(l)\n",
        "b=max(l)\n",
        "print(a,b)"
      ],
      "metadata": {
        "colab": {
          "base_uri": "https://localhost:8080/"
        },
        "id": "5PFzKCRiyzQs",
        "outputId": "191dcbe6-4a64-4a5e-f199-848abe6499f8"
      },
      "execution_count": null,
      "outputs": [
        {
          "output_type": "stream",
          "name": "stdout",
          "text": [
            "10 99\n"
          ]
        }
      ]
    },
    {
      "cell_type": "code",
      "source": [
        "num=int(input(\"enter a num\"))\n",
        "if num<1:\n",
        "  print(\"ni.is not a prime no\")\n",
        "else:\n",
        "  for i in range(2,num):\n",
        "    if num%i==0:\n",
        "      print(\"no is not a prime no\")\n",
        "      break\n",
        "    else:\n",
        "      print(\"no is a prime no\")\n",
        "      break"
      ],
      "metadata": {
        "colab": {
          "base_uri": "https://localhost:8080/"
        },
        "id": "iJpmjwbTzcT_",
        "outputId": "a8c95827-cbc8-4451-d124-b61288989bf6"
      },
      "execution_count": null,
      "outputs": [
        {
          "output_type": "stream",
          "name": "stdout",
          "text": [
            "enter a num30\n",
            "no is not a prime no\n"
          ]
        }
      ]
    },
    {
      "cell_type": "code",
      "source": [
        "## Sorting elements in the list\n",
        "\n",
        "mylist = [2,5,7,5,3,4,5,2]\n",
        "mylist.sort()\n",
        "mylist"
      ],
      "metadata": {
        "colab": {
          "base_uri": "https://localhost:8080/"
        },
        "id": "3dM-U3bo0cYn",
        "outputId": "b8a68e4c-b7a1-48e8-aed6-cc82b0bce812"
      },
      "execution_count": null,
      "outputs": [
        {
          "output_type": "execute_result",
          "data": {
            "text/plain": [
              "[2, 2, 3, 4, 5, 5, 5, 7]"
            ]
          },
          "metadata": {},
          "execution_count": 31
        }
      ]
    },
    {
      "cell_type": "code",
      "source": [
        "# Find maximum number from an array\n",
        "\n",
        "arr = [5,4,3,6,9]\n",
        "d=max(arr)\n",
        "d"
      ],
      "metadata": {
        "colab": {
          "base_uri": "https://localhost:8080/"
        },
        "id": "50oYTHjo01pZ",
        "outputId": "73c4e5b9-258f-48db-98ed-fd5607a0dfdd"
      },
      "execution_count": null,
      "outputs": [
        {
          "output_type": "execute_result",
          "data": {
            "text/plain": [
              "9"
            ]
          },
          "metadata": {},
          "execution_count": 35
        }
      ]
    },
    {
      "cell_type": "code",
      "source": [
        "## find dublicate value and sort in accending order\n",
        "mylist = [2,5,7,5,3,4,5,2]\n",
        "mylist.sort()\n",
        "s=set(mylist)\n",
        "for i in s:\n",
        "  if mylist.count(i)>=2:\n",
        "    print(i)\n",
        "\n",
        "\n",
        "\n",
        "\n"
      ],
      "metadata": {
        "colab": {
          "base_uri": "https://localhost:8080/"
        },
        "id": "Md0OeGZj1YZV",
        "outputId": "d2f682b1-5529-46e0-99bf-63a2e608bc3b"
      },
      "execution_count": null,
      "outputs": [
        {
          "output_type": "stream",
          "name": "stdout",
          "text": [
            "2\n",
            "5\n"
          ]
        }
      ]
    },
    {
      "cell_type": "code",
      "source": [
        "# Python program to find second largest number\n",
        "list1 = [10, 20, 20, 4, 45, 45, 45, 99, 99]\n",
        "new=[]\n",
        "for i in list1:\n",
        "  if i not in new:\n",
        "    new.append(i)\n",
        "a=sorted(new)\n",
        "print(a[-2])"
      ],
      "metadata": {
        "colab": {
          "base_uri": "https://localhost:8080/"
        },
        "id": "zYia-EerE0zi",
        "outputId": "84442922-0d16-4ea1-806f-fe5d118d9a3d"
      },
      "execution_count": null,
      "outputs": [
        {
          "output_type": "stream",
          "name": "stdout",
          "text": [
            "45\n"
          ]
        }
      ]
    },
    {
      "cell_type": "code",
      "source": [
        "## Fabonacci series\n",
        "def febo(n):\n",
        "  prevno=0\n",
        "  currentno=1\n",
        "  for i in range (1,n):\n",
        "    prevprev=prevno\n",
        "    prevno=currentno\n",
        "    currentno=prevprev+prevno\n",
        "  return currentno\n",
        "\n",
        "febo(45)"
      ],
      "metadata": {
        "colab": {
          "base_uri": "https://localhost:8080/"
        },
        "id": "-yehCR9nF8fy",
        "outputId": "e657d39a-3869-444e-a8eb-f1816c914dcd"
      },
      "execution_count": null,
      "outputs": [
        {
          "output_type": "execute_result",
          "data": {
            "text/plain": [
              "1134903170"
            ]
          },
          "metadata": {},
          "execution_count": 27
        }
      ]
    },
    {
      "cell_type": "code",
      "source": [
        "# Checking string is palindrome or not\n",
        "mystr=\"malam\"\n",
        "org=mystr\n",
        "rev=mystr[::-1]\n",
        "print(rev)\n",
        "\n",
        "if org==rev:\n",
        "  print(\"string is palindrome\")\n",
        "else:\n",
        "  print(\"string is not palindrome\")"
      ],
      "metadata": {
        "colab": {
          "base_uri": "https://localhost:8080/"
        },
        "id": "tzERGXTzHnp-",
        "outputId": "2f1735fc-c08b-48e1-c31c-6c696c119af9"
      },
      "execution_count": null,
      "outputs": [
        {
          "output_type": "stream",
          "name": "stdout",
          "text": [
            "malam\n",
            "string is palindrome\n"
          ]
        }
      ]
    },
    {
      "cell_type": "code",
      "source": [
        "# Find the duplicate number in mylist\n",
        "\n",
        "mylist = [1,1,1,1,2,3,3,6,9,7,6]\n",
        "print(set([x for x in mylist if mylist.count(x)>1]))"
      ],
      "metadata": {
        "colab": {
          "base_uri": "https://localhost:8080/"
        },
        "id": "kyUg3x6GInh_",
        "outputId": "940ff054-0551-4663-a76c-d40c251fee32"
      },
      "execution_count": null,
      "outputs": [
        {
          "output_type": "stream",
          "name": "stdout",
          "text": [
            "{1, 3, 6}\n"
          ]
        }
      ]
    },
    {
      "cell_type": "code",
      "source": [
        "# Find the length of array without using len function\n",
        "arr = [1,5,9,6,3]\n",
        "counter = 0\n",
        "for i in arr:\n",
        " counter = counter + 1\n",
        "\n",
        "print(counter)"
      ],
      "metadata": {
        "colab": {
          "base_uri": "https://localhost:8080/"
        },
        "id": "hWQYCbsmJXQp",
        "outputId": "8b424f18-4a38-4301-e119-ac4c0650f0f0"
      },
      "execution_count": null,
      "outputs": [
        {
          "output_type": "stream",
          "name": "stdout",
          "text": [
            "5\n"
          ]
        }
      ]
    },
    {
      "cell_type": "code",
      "source": [
        "for i in range(1,6):\n",
        "  print(\"*\"*i)\n",
        "\n",
        "for i in range(6,0,-1):\n",
        "  print(\"*\"*i)"
      ],
      "metadata": {
        "id": "zlRlTg55KKmz",
        "colab": {
          "base_uri": "https://localhost:8080/"
        },
        "outputId": "97cad517-8084-41fa-ad96-e9d0496a8a3d"
      },
      "execution_count": null,
      "outputs": [
        {
          "output_type": "stream",
          "name": "stdout",
          "text": [
            "*\n",
            "**\n",
            "***\n",
            "****\n",
            "*****\n",
            "******\n",
            "*****\n",
            "****\n",
            "***\n",
            "**\n",
            "*\n"
          ]
        }
      ]
    },
    {
      "cell_type": "code",
      "source": [
        "# Diamond pattern\n",
        "for i in range(1,8):\n",
        "  print(\" \"*(8-i),\"* \"*i)\n",
        "\n",
        "for i in range(8,0,-1):\n",
        "  print(\" \"*(8-i),\"* \"*i)"
      ],
      "metadata": {
        "colab": {
          "base_uri": "https://localhost:8080/"
        },
        "id": "ix6DEiDkdVJ6",
        "outputId": "4ea5d062-e40e-4e74-f0ac-232dc18f15a2"
      },
      "execution_count": null,
      "outputs": [
        {
          "output_type": "stream",
          "name": "stdout",
          "text": [
            "        * \n",
            "       * * \n",
            "      * * * \n",
            "     * * * * \n",
            "    * * * * * \n",
            "   * * * * * * \n",
            "  * * * * * * * \n",
            " * * * * * * * * \n",
            "  * * * * * * * \n",
            "   * * * * * * \n",
            "    * * * * * \n",
            "     * * * * \n",
            "      * * * \n",
            "       * * \n",
            "        * \n"
          ]
        }
      ]
    },
    {
      "cell_type": "code",
      "source": [
        "for i in range (1,5):\n",
        "  print(\" \"*(5-i),(\"* \"*i))\n",
        "\n",
        "for i in range (5,0,-1):\n",
        "  print(\" \"*(5-i),(\"* \"*i))"
      ],
      "metadata": {
        "id": "FtysJuW7d10C",
        "colab": {
          "base_uri": "https://localhost:8080/"
        },
        "outputId": "cd7ce3eb-d692-42df-bbfc-f23399918d04"
      },
      "execution_count": null,
      "outputs": [
        {
          "output_type": "stream",
          "name": "stdout",
          "text": [
            "     * \n",
            "    * * \n",
            "   * * * \n",
            "  * * * * \n",
            " * * * * * \n",
            "  * * * * \n",
            "   * * * \n",
            "    * * \n",
            "     * \n"
          ]
        }
      ]
    },
    {
      "cell_type": "code",
      "source": [
        "def count():\n",
        "  str=input(\"enter a str\")\n",
        "  s1=sorted(set(str.split()))\n",
        "  s2=str.split()\n",
        "\n",
        "  for i in s1:\n",
        "    print(i,\"-->\",s2.count(i))\n",
        "\n",
        "count()\n"
      ],
      "metadata": {
        "colab": {
          "base_uri": "https://localhost:8080/"
        },
        "id": "r9kibJVICsLw",
        "outputId": "1dc02eb0-62e6-4731-be12-00e33aadc128"
      },
      "execution_count": null,
      "outputs": [
        {
          "output_type": "stream",
          "name": "stdout",
          "text": [
            "enter a straa bb aaa aaa aa bb hhh hhh hhh\n",
            "aa --> 2\n",
            "aaa --> 2\n",
            "bb --> 2\n",
            "hhh --> 3\n"
          ]
        }
      ]
    },
    {
      "cell_type": "code",
      "source": [
        "num=int(input(\"enter a no\"))\n",
        "if num<2:\n",
        "  print(\"not prime\")\n",
        "else:\n",
        "  for i in range(2,num):\n",
        "    if num%i==0:\n",
        "      print(\"not prime\")\n",
        "      break\n",
        "    else:\n",
        "      print(\" prime\")\n",
        "      break"
      ],
      "metadata": {
        "colab": {
          "base_uri": "https://localhost:8080/"
        },
        "id": "K1thMQ-WFUQw",
        "outputId": "4e302e74-b655-4e7c-c1a3-117684fa8d00"
      },
      "execution_count": null,
      "outputs": [
        {
          "output_type": "stream",
          "name": "stdout",
          "text": [
            "enter a no12\n",
            "not prime\n"
          ]
        }
      ]
    },
    {
      "cell_type": "code",
      "source": [
        "#sum of first 10 natural no\n",
        "i=1\n",
        "sum=0\n",
        "while i<=10:\n",
        "  sum=sum+i\n",
        "  i+=1\n",
        "print(sum)\n"
      ],
      "metadata": {
        "colab": {
          "base_uri": "https://localhost:8080/"
        },
        "id": "BmjO7cJwMZ_K",
        "outputId": "7085e375-ceba-4b60-e457-c8718bafed9f"
      },
      "execution_count": null,
      "outputs": [
        {
          "output_type": "stream",
          "name": "stdout",
          "text": [
            "55\n"
          ]
        }
      ]
    },
    {
      "cell_type": "code",
      "source": [
        "## PATTERN\n",
        "for i in range(1,6):\n",
        "  for j in range(1,i+1):\n",
        "    print(i,end=\" \")\n",
        "  print()"
      ],
      "metadata": {
        "colab": {
          "base_uri": "https://localhost:8080/"
        },
        "id": "D87CSs3tIywa",
        "outputId": "bbfcdae1-cfc6-4d64-b604-ec0b8112ba11"
      },
      "execution_count": null,
      "outputs": [
        {
          "output_type": "stream",
          "name": "stdout",
          "text": [
            "1 \n",
            "2 2 \n",
            "3 3 3 \n",
            "4 4 4 4 \n",
            "5 5 5 5 5 \n"
          ]
        }
      ]
    },
    {
      "cell_type": "code",
      "source": [
        "d=[12,25,45,36,63,52]\n",
        "a=max(d)\n",
        "a"
      ],
      "metadata": {
        "colab": {
          "base_uri": "https://localhost:8080/"
        },
        "id": "ataYoHLEOJy_",
        "outputId": "b41be9cd-cc38-4af8-c533-ac40f9e7b099"
      },
      "execution_count": null,
      "outputs": [
        {
          "output_type": "execute_result",
          "data": {
            "text/plain": [
              "63"
            ]
          },
          "metadata": {},
          "execution_count": 17
        }
      ]
    },
    {
      "cell_type": "code",
      "source": [
        "d=[12,25,45,36,63,52]\n",
        "d.append([100,200,500])\n",
        "print(d)\n"
      ],
      "metadata": {
        "colab": {
          "base_uri": "https://localhost:8080/"
        },
        "id": "tEQjj34mOgpx",
        "outputId": "f390bb7e-974f-4973-dacf-d2b4cc49b52d"
      },
      "execution_count": null,
      "outputs": [
        {
          "output_type": "stream",
          "name": "stdout",
          "text": [
            "[12, 25, 45, 36, 63, 52, [100, 200, 500]]\n"
          ]
        }
      ]
    },
    {
      "cell_type": "code",
      "source": [
        "d=[12,25,45,36,63,52]\n",
        "d.extend([100,200,300])\n",
        "d"
      ],
      "metadata": {
        "colab": {
          "base_uri": "https://localhost:8080/"
        },
        "id": "qdYNhWdlPSEN",
        "outputId": "848636e2-a618-44f9-813b-b48ac0bbbc1d"
      },
      "execution_count": null,
      "outputs": [
        {
          "output_type": "execute_result",
          "data": {
            "text/plain": [
              "[12, 25, 45, 36, 63, 52, 100, 200, 300]"
            ]
          },
          "metadata": {},
          "execution_count": 32
        }
      ]
    },
    {
      "cell_type": "code",
      "source": [
        "d=[12,25,45,36,63,52,36]\n",
        "# d.insert(-1,200)\n",
        "# d.remove(200)\n",
        "# d.pop(3)\n",
        "# min(d)\n",
        "# max(d)\n",
        "# sorted(d)\n",
        "# d.sort()\n",
        "# d.reverse()\n",
        "# a=d.index(36)\n",
        "# a\n",
        "# a=d.count(36)\n",
        "# a\n"
      ],
      "metadata": {
        "colab": {
          "base_uri": "https://localhost:8080/"
        },
        "id": "Ff4_XCJ2QQ8I",
        "outputId": "44791998-a34f-4148-8630-b694dd760e25"
      },
      "execution_count": null,
      "outputs": [
        {
          "output_type": "execute_result",
          "data": {
            "text/plain": [
              "2"
            ]
          },
          "metadata": {},
          "execution_count": 50
        }
      ]
    },
    {
      "cell_type": "code",
      "source": [
        "num1=int(input(\"enter a num2\"))\n",
        "if num1%2==0:\n",
        "  print(\"no is even\")\n",
        "else:\n",
        "  print(\"no is odd\")"
      ],
      "metadata": {
        "colab": {
          "base_uri": "https://localhost:8080/"
        },
        "id": "3yN9Yskwczbh",
        "outputId": "e3b18e9f-696e-4dcc-ebf6-2c2a63a8c438"
      },
      "execution_count": null,
      "outputs": [
        {
          "output_type": "stream",
          "name": "stdout",
          "text": [
            "enter a num2852012396385274145852\n",
            "no is even\n"
          ]
        }
      ]
    },
    {
      "cell_type": "code",
      "source": [
        "print(\"welcome to election board \")\n",
        "age=int(input(\"enter an age\"))\n",
        "\n",
        "if age>=18:\n",
        "  print(\"you can vote\")\n",
        "else:\n",
        "  print(\"you are not eligible\")"
      ],
      "metadata": {
        "colab": {
          "base_uri": "https://localhost:8080/"
        },
        "id": "gL0WUascdv3F",
        "outputId": "143565aa-40de-4fc2-b71a-e9b34928ea74"
      },
      "execution_count": null,
      "outputs": [
        {
          "output_type": "stream",
          "name": "stdout",
          "text": [
            "welcome to election board \n",
            "enter an age15\n",
            "you are not eligible\n"
          ]
        }
      ]
    },
    {
      "cell_type": "code",
      "source": [
        "\n",
        "+++++++++++++++++++++++++++++++++++++++++++++++++++++++++++++++++++++++++++++++++++++++++++++++++++++++++++++++++++++++++++++++++++++++++++++++++++++++++++++++++++++++++++++++++++++++++++++++++++++++++++++++++++++++++++++++++++++++++++++++++++++++++++++++++++++++++++++++++++++++++++++++++++++++++++++++++++++++++++++++++++++++++++++++++++++++++++++++++++++++++++++++++++++++++++++++++++++++++++++++++++++++++++++++++++++++++++++++++++++++++++++++++++++++++++++++++++++++++++++++++++++++++++++++++++++++++++++++++++++++++++++++++++++++++++++++++++++++++++++++++++++++++++++++++++++++++++++++++.\n",
        "## skip 5 and 8\n",
        " for i in range (0,10):\n",
        "   if i==5 or i==8:\n",
        "     continue\n",
        "   print(i)"
      ],
      "metadata": {
        "colab": {
          "base_uri": "https://localhost:8080/"
        },
        "id": "cYC8uZs9-1ot",
        "outputId": "a7944d53-6f22-4f4f-8bc9-288250361675"
      },
      "execution_count": null,
      "outputs": [
        {
          "output_type": "stream",
          "name": "stdout",
          "text": [
            "0\n",
            "1\n",
            "2\n",
            "3\n",
            "4\n",
            "6\n",
            "7\n",
            "9\n"
          ]
        }
      ]
    },
    {
      "cell_type": "code",
      "source": [
        "l=[1,2,3]\n",
        "b=\"\"\n",
        "v=[]\n",
        "for i in l:\n",
        "  b=b+str(i)\n",
        "c=int(b)\n",
        "d=c+1\n",
        "print(d)\n",
        "ff=str(d)\n",
        "for i in ff:\n",
        "  v.append(i)\n",
        "print(v)\n"
      ],
      "metadata": {
        "id": "lqscJV80_dRZ"
      },
      "execution_count": null,
      "outputs": []
    },
    {
      "cell_type": "code",
      "source": [
        "#Print String in Python - Receive Multiple Strings and Print\n",
        "\n",
        "\n",
        "no_of_string=int(input(\"enetr no of string \"))\n",
        "\n",
        "mylist=[]\n",
        "\n",
        "for i in range(no_of_string):\n",
        "  mystring=input()\n",
        "  mylist.append(mystring)\n",
        "\n",
        "print(mylist)\n",
        "\n",
        "############### OR ##############\n",
        "\n",
        "a=input(\"enter with valuse with space\")\n",
        "b=a.split()\n",
        "print(b)\n",
        "for i in range(len(b)) :\n",
        "  b[i]=int(b[i])\n",
        "print(b)\n",
        "\n"
      ],
      "metadata": {
        "id": "Aq005maOOxnH"
      },
      "execution_count": null,
      "outputs": []
    },
    {
      "cell_type": "code",
      "source": [
        "#Find Length of String using for Loop\n",
        "\n",
        "strr=input()\n",
        "total=0\n",
        "for i in strr:\n",
        "  total=total+1\n",
        "print(total)"
      ],
      "metadata": {
        "id": "Jw1cLk2BOyqg"
      },
      "execution_count": null,
      "outputs": []
    },
    {
      "cell_type": "code",
      "source": [
        "#Compare Two Strings using for Loop\n",
        "s1=input()\n",
        "s2=input()\n",
        "\n",
        "ls1=len(s1)\n",
        "ls2=len(s2)\n",
        "\n",
        "for i in range(ls1):\n",
        "  if s1[i]!=s2[i]:\n",
        "    print(\"not equal\")\n",
        "    break\n",
        "else:\n",
        "  print(\"equal\")\n"
      ],
      "metadata": {
        "id": "SaFENcAVO2JQ"
      },
      "execution_count": null,
      "outputs": []
    },
    {
      "cell_type": "code",
      "source": [
        "#Concatenate Two Strings using join()\n",
        "s1=\"ashutosh\"\n",
        "s2=\"ghodke\"\n",
        "s3=\" \".join([s1,s2]) ## where \" \" acts as seprator\n",
        "print(s3)"
      ],
      "metadata": {
        "id": "rp2Pc40GO_a9"
      },
      "execution_count": null,
      "outputs": []
    },
    {
      "cell_type": "code",
      "source": [
        "l1=[10,20,30]\n",
        "l2=[10,20,30]\n",
        "\n",
        "for i in range(len(l1)):\n",
        "  if l1[i]!=l2[i]:\n",
        "    print(\"list are not same\")\n",
        "\n",
        "else:\n",
        "        print(\"list are  same\")\n",
        "\n"
      ],
      "metadata": {
        "id": "NiWVjdARPAPD"
      },
      "execution_count": null,
      "outputs": []
    },
    {
      "cell_type": "code",
      "source": [
        "#Python Reverse a String\n",
        "s1=input()\n",
        "s2=s1[::-1]\n",
        "print(s2)"
      ],
      "metadata": {
        "id": "e84ZOtu7PEH6"
      },
      "execution_count": null,
      "outputs": []
    },
    {
      "cell_type": "code",
      "source": [
        "print(\"Enter the String: \", end=\"\")\n",
        "str = input()\n",
        "\n",
        "strRev = \"\"\n",
        "for ch in str:\n",
        "    strRev = ch + strRev\n",
        "\n",
        "str = strRev\n",
        "print(\"\\nReverse =\", str)"
      ],
      "metadata": {
        "id": "J20oxR-FPHox"
      },
      "execution_count": null,
      "outputs": []
    },
    {
      "cell_type": "code",
      "source": [
        "str = \"patil\"\n",
        "\n",
        "strRev = \"\"\n",
        "for ch in str:\n",
        "  strRev = ch + strRev\n",
        "  str=strRev\n",
        "\n",
        "print(str)\n"
      ],
      "metadata": {
        "id": "Y5kyf7orPKci"
      },
      "execution_count": null,
      "outputs": []
    },
    {
      "cell_type": "code",
      "source": [
        "#Swap Two Strings in Python\n",
        "def swapp(a,b):\n",
        "  return b,a\n",
        "\n",
        "\n",
        "print(swapp(\"ram\",\"sham\"))\n"
      ],
      "metadata": {
        "id": "EvN579DxPNK2"
      },
      "execution_count": null,
      "outputs": []
    },
    {
      "cell_type": "code",
      "source": [
        "a=\"dfgh\"\n",
        "b=\"dghgj\"\n",
        "a,b=b,a\n",
        "print(a,b)"
      ],
      "metadata": {
        "id": "ZmYYTUBrPQ9V"
      },
      "execution_count": null,
      "outputs": []
    },
    {
      "cell_type": "code",
      "source": [
        "##Uppercase to Lowercase Character using ASCII Value\n",
        "\n",
        "up=input()\n",
        "val_up=ord(up)\n",
        "low=ord(up)+32\n",
        "print(low)\n",
        "\n",
        "#Lowercase to Uppercase Character using ASCII Value\n",
        "\n",
        "low=input()\n",
        "val_low=ord(low)\n",
        "up=ord(low)-32\n",
        "print(up)"
      ],
      "metadata": {
        "id": "gXtrwXhgPUS7"
      },
      "execution_count": null,
      "outputs": []
    },
    {
      "cell_type": "code",
      "source": [
        "mystr=input()\n",
        "substrr=input()\n",
        "if substrr in mystr:\n",
        "  print(\"yes\")\n",
        "\n",
        "else:\n",
        "  print(\"no\")\n"
      ],
      "metadata": {
        "id": "47QaLWMpPW11"
      },
      "execution_count": null,
      "outputs": []
    },
    {
      "cell_type": "code",
      "source": [
        "#Count Occurrence of a Character in a String\n",
        "strr=input()\n",
        "ch=input()\n",
        "sum=0\n",
        "for i in range(len(strr)):\n",
        "  if ch==strr[i]:\n",
        "    sum=sum+1\n",
        "print(ch,\"==>\",sum)"
      ],
      "metadata": {
        "id": "pozj_h2ePZiz"
      },
      "execution_count": null,
      "outputs": []
    },
    {
      "cell_type": "code",
      "source": [
        "#Find Frequency of Particular Character in String using count()\n",
        "strr=input()\n",
        "chh=input()\n",
        "val=strr.count(chh)\n",
        "print(val)"
      ],
      "metadata": {
        "id": "4iDCfzxYPkRI"
      },
      "execution_count": null,
      "outputs": []
    },
    {
      "cell_type": "code",
      "source": [
        "# frequency of words appear in str\n",
        "def count():\n",
        "  strr=input()\n",
        "  s1=sorted(set(strr.split()))\n",
        "  s2=strr.split()\n",
        "\n",
        "  for i in s1:\n",
        "    print(i,\"==>\",s2.count(i))\n",
        "\n",
        "\n",
        "\n",
        "count()"
      ],
      "metadata": {
        "id": "R9naST7jP5VB"
      },
      "execution_count": null,
      "outputs": []
    },
    {
      "cell_type": "code",
      "source": [
        "#capitalize perticular word in str\n",
        "strr=\"ashutosh balaji ghodke\"\n",
        "s1=strr.split()[1]\n",
        "s2=s1.capitalize()\n",
        "s3=strr.title()\n",
        "print(s3)\n",
        "\n"
      ],
      "metadata": {
        "id": "YMQawmICP8Bu"
      },
      "execution_count": null,
      "outputs": []
    },
    {
      "cell_type": "code",
      "source": [
        "#Python Program to Print Smallest and Largest Word in String\n",
        "s1=\"assd dfasdfg  hgfdsdfgf\"\n",
        "s2=s1.split()\n",
        "r=[]\n",
        "for i in s2:\n",
        "  t=len(i)\n",
        "  r.append(t)\n",
        "\n",
        "print(r)\n",
        "t=r.index(max(r))\n",
        "print(s2[t])\n",
        "f=r.index(min(r))\n",
        "print(s2[f])"
      ],
      "metadata": {
        "id": "t_1nEXG-P-1f"
      },
      "execution_count": null,
      "outputs": []
    },
    {
      "cell_type": "code",
      "source": [
        "print(\"Enter the String: \", end=\"\")\n",
        "str = input()\n",
        "\n",
        "newstr = \"\"\n",
        "for i in range(len(str)):\n",
        "    ch = str[i]\n",
        "    if ch != ' ':\n",
        "        newstr = newstr + ch\n",
        "\n",
        "str = newstr\n",
        "print(\"\\nString without Space:\", str)\n",
        "\n",
        "################### OR ########################\n",
        "str = input()\n",
        "s1=str.replace(\" \",\"\")\n",
        "print(s1)\n"
      ],
      "metadata": {
        "id": "Y8-fUHUSQBGF"
      },
      "execution_count": null,
      "outputs": []
    },
    {
      "cell_type": "code",
      "source": [
        "       #Remove Duplicate Characters from String\n",
        "\n",
        "strr=input()\n",
        "s1=strr.split()\n",
        "a=''\n",
        "list=[]\n",
        "for i in range(len(strr)):\n",
        "  list.append(strr[i])\n",
        "a=(set(list))\n",
        "d=''.join(a)\n",
        "print(d)\n",
        "\n",
        "#################### OR ###################\n",
        "s1=\"aasshhhyy\"\n",
        "d=\"\"\n",
        "for i in s1:\n",
        "  if i not in d:\n",
        "    d+=i\n",
        "print(d)\n",
        "\n",
        "\n"
      ],
      "metadata": {
        "id": "kK_NF-n7QDzE"
      },
      "execution_count": null,
      "outputs": []
    },
    {
      "cell_type": "code",
      "source": [
        "#Remove Vowels from String using for Loop\n",
        "s1=\"asdfghwertypoiuyui\"\n",
        "l=\"\"\n",
        "for i in s1:\n",
        "  if i not in (\"aeiou\"):\n",
        "    l+=i\n",
        "print(l)\n"
      ],
      "metadata": {
        "colab": {
          "base_uri": "https://localhost:8080/"
        },
        "id": "tRDEtrCZQt8o",
        "outputId": "4efee29c-e894-44eb-8bc5-7f7e81a9d33b"
      },
      "execution_count": null,
      "outputs": [
        {
          "output_type": "stream",
          "name": "stdout",
          "text": [
            "sdfghwrtypy\n"
          ]
        }
      ]
    },
    {
      "cell_type": "code",
      "source": [
        "\n",
        "\n",
        "      n = int(input().strip())\n",
        "\n",
        "      if n==n%2!=0:\n",
        "          print(\"Weird\")\n",
        "      for n in range(2,6):\n",
        "          if n==n%2==0:\n",
        "              print(\"Not Weird\")\n",
        "              break\n",
        "      for n in range(6,21):\n",
        "          if n==n%2==0:\n",
        "              print(\"Weird\")\n",
        "              break\n",
        "      if n>20 and n==n%2==0:\n",
        "          print(\"Not Weird\")\n"
      ],
      "metadata": {
        "colab": {
          "base_uri": "https://localhost:8080/",
          "height": 130
        },
        "id": "kmD02gT2SKjn",
        "outputId": "53d4d0ae-dbd7-4cd1-9c7b-abdf655a9d97"
      },
      "execution_count": null,
      "outputs": [
        {
          "output_type": "error",
          "ename": "IndentationError",
          "evalue": "ignored",
          "traceback": [
            "\u001b[0;36m  File \u001b[0;32m\"<ipython-input-2-e615abd9f350>\"\u001b[0;36m, line \u001b[0;32m3\u001b[0m\n\u001b[0;31m    if n==n%2!=0:\u001b[0m\n\u001b[0m    ^\u001b[0m\n\u001b[0;31mIndentationError\u001b[0m\u001b[0;31m:\u001b[0m unexpected indent\n"
          ]
        }
      ]
    },
    {
      "cell_type": "code",
      "source": [
        "\n",
        "n=int(input(\"enetr no of string \"))\n",
        "\n",
        "mylist=[]\n",
        "\n",
        "for i in range(no_of_string):\n",
        "  mystring=input()\n",
        "  mylist.append(int(mystring))\n",
        "\n",
        "print(mylist)"
      ],
      "metadata": {
        "colab": {
          "base_uri": "https://localhost:8080/"
        },
        "id": "Jkm0hCE5-h0i",
        "outputId": "3bb5d641-819e-4608-8c97-47ba19a2b9b5"
      },
      "execution_count": null,
      "outputs": [
        {
          "output_type": "stream",
          "name": "stdout",
          "text": [
            "enetr no of string 3\n",
            "2\n",
            "3\n",
            "\n",
            "['2', '3', '']\n"
          ]
        }
      ]
    },
    {
      "cell_type": "code",
      "source": [
        "import numpy as np\n",
        "import numpy as np\n",
        "n=int(input(\"enter a no\"))\n",
        "mylist=[]\n",
        "for i in range(n):\n",
        "    myno=(input())\n",
        "    mylist.append(int(myno))\n",
        "\n",
        "print(np.zeros((mylist)))\n",
        "print(np.ones((mylist)))\n",
        "\n"
      ],
      "metadata": {
        "colab": {
          "base_uri": "https://localhost:8080/"
        },
        "id": "cKF75lpomL8O",
        "outputId": "0d0664bb-1cdc-4169-8abb-372b190d341f"
      },
      "execution_count": null,
      "outputs": [
        {
          "output_type": "stream",
          "name": "stdout",
          "text": [
            "enter a no3\n",
            "3\n",
            "3\n",
            "3\n",
            "[[[0. 0. 0.]\n",
            "  [0. 0. 0.]\n",
            "  [0. 0. 0.]]\n",
            "\n",
            " [[0. 0. 0.]\n",
            "  [0. 0. 0.]\n",
            "  [0. 0. 0.]]\n",
            "\n",
            " [[0. 0. 0.]\n",
            "  [0. 0. 0.]\n",
            "  [0. 0. 0.]]]\n",
            "[[[1. 1. 1.]\n",
            "  [1. 1. 1.]\n",
            "  [1. 1. 1.]]\n",
            "\n",
            " [[1. 1. 1.]\n",
            "  [1. 1. 1.]\n",
            "  [1. 1. 1.]]\n",
            "\n",
            " [[1. 1. 1.]\n",
            "  [1. 1. 1.]\n",
            "  [1. 1. 1.]]]\n"
          ]
        }
      ]
    },
    {
      "cell_type": "code",
      "source": [
        "n=int(input(\"enetr no of string \"))\n",
        "\n",
        "mylist=[]\n",
        "\n",
        "for i in range(n):\n",
        "  mystring=input()\n",
        "  mylist.append(int(mystring))\n",
        "  # print(type(s))\n",
        "print((sorted(set(mylist))))\n"
      ],
      "metadata": {
        "colab": {
          "base_uri": "https://localhost:8080/"
        },
        "id": "kIjL6270ns35",
        "outputId": "709c5a3e-4fea-4dc7-c676-e4fe11aacd56"
      },
      "execution_count": null,
      "outputs": [
        {
          "output_type": "stream",
          "name": "stdout",
          "text": [
            "enetr no of string 2\n",
            "4\n",
            "5\n",
            "[4, 5]\n"
          ]
        }
      ]
    },
    {
      "cell_type": "code",
      "source": [
        "\n",
        "#very imp  ### multiple input in the form of int###\n",
        "\n",
        "arr = map(str, input().split())\n",
        "print(list(arr))\n",
        "\n"
      ],
      "metadata": {
        "colab": {
          "base_uri": "https://localhost:8080/"
        },
        "id": "J5cnPBc7sl-I",
        "outputId": "7ddddbae-72c9-48b6-be43-7970425b65a1"
      },
      "execution_count": null,
      "outputs": [
        {
          "output_type": "stream",
          "name": "stdout",
          "text": [
            "1\n",
            "['1']\n"
          ]
        }
      ]
    },
    {
      "cell_type": "code",
      "source": [
        "## add two list\n",
        "a=[1,2,3,4,5,6]\n",
        "b=[9,8,7,4,5,6]\n",
        "c=[0,0,0,0,0,0]\n",
        "for i in range(len(a)):\n",
        "  c[i]=a[i]+b[i]\n",
        "print(c)\n",
        "\n"
      ],
      "metadata": {
        "id": "LuipnEMJ1nR2",
        "colab": {
          "base_uri": "https://localhost:8080/"
        },
        "outputId": "b0fe1206-cb1f-42e2-a712-cc67d588fd17"
      },
      "execution_count": null,
      "outputs": [
        {
          "output_type": "stream",
          "name": "stdout",
          "text": [
            "[10, 10, 10, 8, 10, 12]\n"
          ]
        }
      ]
    },
    {
      "cell_type": "code",
      "source": [
        "## add two list\n",
        "\n",
        "a=[1,4,3,2,3,4]\n",
        "b=[3,6,5,4,8]\n",
        "c=[]\n",
        "for i,j in zip(a,b):\n",
        "  z=i+j\n",
        "  c.append(z)\n",
        "print(c)"
      ],
      "metadata": {
        "colab": {
          "base_uri": "https://localhost:8080/"
        },
        "id": "o6qoh8siU-8Z",
        "outputId": "9b23294f-d638-4abe-fb62-094f3950ef9c"
      },
      "execution_count": null,
      "outputs": [
        {
          "output_type": "stream",
          "name": "stdout",
          "text": [
            "[4, 10, 8, 6, 11]\n"
          ]
        }
      ]
    },
    {
      "cell_type": "code",
      "source": [
        "#iterables\n",
        "lst=[1,2,3,4,5,6]\n",
        "for i in lst:\n",
        "  print(i)"
      ],
      "metadata": {
        "colab": {
          "base_uri": "https://localhost:8080/"
        },
        "id": "aQgV-tpbhTaC",
        "outputId": "8534bda5-d81b-4eb8-ec5f-218484907a9d"
      },
      "execution_count": null,
      "outputs": [
        {
          "output_type": "stream",
          "name": "stdout",
          "text": [
            "1\n",
            "2\n",
            "3\n",
            "4\n",
            "5\n",
            "6\n"
          ]
        }
      ]
    },
    {
      "cell_type": "code",
      "source": [
        "### iterator\n",
        "lst=[1,2,3,4,5,6]\n",
        "i=iter(lst)\n",
        "#----------------------------------\n",
        "next(i) #--->gives 1\n",
        "#----------------------------------\n",
        "next(i) #--->gives 2\n",
        "#----------------------------------\n",
        "next(i) #--->gives 3\n",
        "#----------------------------------\n",
        "next(i) #--->gives 4\n",
        "#----------------------------------\n",
        "next(i) #--->gives 5\n",
        "#----------------------------------\n",
        "next(i) #--->gives 6"
      ],
      "metadata": {
        "colab": {
          "base_uri": "https://localhost:8080/"
        },
        "id": "gv4lAULDr6xi",
        "outputId": "4c3c0a21-4ff1-45ea-8971-6559b3d82816"
      },
      "execution_count": null,
      "outputs": [
        {
          "output_type": "execute_result",
          "data": {
            "text/plain": [
              "6"
            ]
          },
          "metadata": {},
          "execution_count": 13
        }
      ]
    },
    {
      "cell_type": "code",
      "source": [
        "## GENARATOR\n",
        "\n",
        "def gen(n):\n",
        "  for i in range (n):\n",
        "    yield i**2\n",
        "\n",
        "\n",
        "\n",
        "a=gen(5)\n",
        "next(a)\n",
        "next(a)\n",
        "next(a)\n",
        "next(a)\n",
        "next(a)\n"
      ],
      "metadata": {
        "colab": {
          "base_uri": "https://localhost:8080/"
        },
        "id": "bMLYCFTuuaR5",
        "outputId": "2f9e1004-3966-4a32-f0ae-455e27e43e84"
      },
      "execution_count": null,
      "outputs": [
        {
          "output_type": "execute_result",
          "data": {
            "text/plain": [
              "16"
            ]
          },
          "metadata": {},
          "execution_count": 1
        }
      ]
    },
    {
      "cell_type": "code",
      "source": [
        "#DECORATORS\n",
        "\n",
        "def deco(a,b):\n",
        "  return a/b\n",
        "\n",
        "def smart_deco(func):\n",
        "  def inner(a,b):\n",
        "    if a<b:\n",
        "      a,b=b,a\n",
        "    return func(a,b)\n",
        "  return inner\n",
        "\n",
        "deco= smart_deco(deco)\n",
        "\n",
        "print(deco)\n",
        "\n"
      ],
      "metadata": {
        "colab": {
          "base_uri": "https://localhost:8080/"
        },
        "id": "w_LKUeg48IJ3",
        "outputId": "854481b5-b36a-4a02-cd7c-b09c6845f77c"
      },
      "execution_count": null,
      "outputs": [
        {
          "output_type": "stream",
          "name": "stdout",
          "text": [
            "<function smart_deco.<locals>.inner at 0x7fa095a22e60>\n"
          ]
        }
      ]
    },
    {
      "cell_type": "code",
      "source": [
        "\n",
        "\n",
        "## creating class and objects\n",
        "\n",
        "class Email:\n",
        "  pass\n",
        "\n",
        "e1=Email()\n",
        "\n",
        "e2=Email()\n",
        "print(type(e1))"
      ],
      "metadata": {
        "colab": {
          "base_uri": "https://localhost:8080/"
        },
        "id": "89fTdurvMCfL",
        "outputId": "04ef6b62-56e6-4586-99aa-14e220ca7843"
      },
      "execution_count": null,
      "outputs": [
        {
          "output_type": "stream",
          "name": "stdout",
          "text": [
            "<class '__main__.Email'>\n"
          ]
        }
      ]
    },
    {
      "cell_type": "code",
      "source": [
        "## class constructor\n",
        "\n",
        "class emp:\n",
        "  def __init__(self):   #NON PARAMETERIZED CONSTRUCTION\n",
        "    self.salary=20000\n",
        "    self.name=\"ashutosh\"\n",
        "\n",
        "e1=emp()\n",
        "e2=emp()\n",
        "print(e1.__dict__)\n",
        "print(e2.__dict__)\n",
        "\n",
        "### PARAMETERIZED CONSTRUCTOR\n",
        "class emp:\n",
        "  def __init__(self,sal,name):\n",
        "    self.salary=sal\n",
        "    self.name=name\n",
        "\n",
        "e1=emp(20000,\"ashutosh\")\n",
        "e2=emp(25000,\"bhushan\")\n",
        "print(e1.__dict__)\n",
        "\n",
        "\n",
        "\n",
        "\n"
      ],
      "metadata": {
        "colab": {
          "base_uri": "https://localhost:8080/"
        },
        "id": "SxPL2HkWD7cK",
        "outputId": "a92008dc-2142-4c27-e7d0-6824d75ef8a0"
      },
      "execution_count": null,
      "outputs": [
        {
          "output_type": "stream",
          "name": "stdout",
          "text": [
            "{'salary': 20000, 'name': 'ashutosh'}\n",
            "{'salary': 20000, 'name': 'ashutosh'}\n",
            "{'salary': 20000, 'name': 'ashutosh'}\n"
          ]
        }
      ]
    },
    {
      "cell_type": "code",
      "source": [
        "class emp:\n",
        "  def __init__(self,sal,ag):\n",
        "    self.salary=sal\n",
        "    self.age=ag\n",
        "\n",
        "  def display(self):\n",
        "    print(f\"sa lary of emo is {e1.salary} and age is {e1.age}\")\n",
        "\n",
        "\n",
        "\n",
        "e1=emp(240000,24)\n",
        "e2=emp(370000,29)\n",
        "## accessing the atributes\n",
        "print(e1.salary)# ---> 240000\n",
        "print(e2.age)\n",
        "\n",
        "e1.salary=340000\n",
        "print(e1.salary)# ------> 3400000 ## updating new value\n",
        "\n",
        "## accessing methods of class\n",
        "e1.display()"
      ],
      "metadata": {
        "colab": {
          "base_uri": "https://localhost:8080/"
        },
        "id": "T_HCtBisIN5N",
        "outputId": "d097074d-3bd4-4bc0-ae60-78504647237f"
      },
      "execution_count": null,
      "outputs": [
        {
          "output_type": "stream",
          "name": "stdout",
          "text": [
            "240000\n",
            "29\n",
            "340000\n",
            "slary of emo is 340000 and age is 24\n"
          ]
        }
      ]
    },
    {
      "cell_type": "code",
      "source": [
        "#### getaatr == setattr == hasattr\n",
        "class emp:\n",
        "  def __init__(self,sal,name):\n",
        "    self.salary=sal\n",
        "    self.name=name\n",
        "\n",
        "e1=emp(20000,\"ashutosh\")\n",
        "e2=emp(25000,\"bhushan\")\n",
        "print(getattr(e1,\"salary\"))#-----> 200000\n",
        "setattr(e2,\"name\",\"jay\")### setting name of emp\n",
        "print(e2.__dict__)## gives name\n",
        "\n",
        "print(hasattr(e1,\"name\"))# --------> hasaatr give is it available --> true or false\n"
      ],
      "metadata": {
        "colab": {
          "base_uri": "https://localhost:8080/"
        },
        "id": "ysh75Q0dZR28",
        "outputId": "efbc92d2-901c-4ab1-fa99-3fde7e670f6e"
      },
      "execution_count": null,
      "outputs": [
        {
          "output_type": "stream",
          "name": "stdout",
          "text": [
            "20000\n",
            "{'salary': 25000, 'name': 'jay'}\n",
            "True\n"
          ]
        }
      ]
    },
    {
      "cell_type": "markdown",
      "source": [
        "## \"isinstance\" is a method to check wether the object is a object of perticular class or not"
      ],
      "metadata": {
        "id": "amKFfUO1l6tM"
      }
    },
    {
      "cell_type": "code",
      "source": [
        "class emp:\n",
        "  college_name=\"CDAC\" ### CLASS VARIABLE\n",
        "  def __init__(self,name,ag):\n",
        "    self.name=name\n",
        "    self.age=ag\n",
        "\n",
        "e1=emp(\"bhushan\",23)\n",
        "e2=emp(\"saurabh\",22)\n",
        "print(emp.college_name) # ACCESSING CLASS VARIABLE\n",
        "\n",
        "emp.college_name=\"tcs\" # updating class variables\n",
        "print(emp.college_name)\n",
        "\n"
      ],
      "metadata": {
        "colab": {
          "base_uri": "https://localhost:8080/"
        },
        "id": "gfrY4zcTmEz9",
        "outputId": "719d3837-b53d-46b6-9947-6b9349835f8c"
      },
      "execution_count": null,
      "outputs": [
        {
          "output_type": "stream",
          "name": "stdout",
          "text": [
            "CDAC\n",
            "tcs\n"
          ]
        }
      ]
    },
    {
      "cell_type": "code",
      "source": [
        "## setter and getattr methods\n",
        "\n",
        "class emp:\n",
        "  def setname(self,name):  ## setter method\n",
        "    self.name=name\n",
        "\n",
        "  def getname(self):\n",
        "    print(self.name)  # getter method\n",
        "e1=emp()\n",
        "e2=emp()               # object creation\n",
        "\n",
        "e1.setname(\"ram\")\n",
        "e2.setname(\"sauarabh\")    ## setting names\n",
        "\n",
        "print(e1.__dict__)        ## getting names\n",
        "print(e2.__dict__)\n",
        "\n",
        "e1.getname()\n",
        "e2.getname()"
      ],
      "metadata": {
        "colab": {
          "base_uri": "https://localhost:8080/"
        },
        "id": "WrdBi_RPoFqP",
        "outputId": "435345a6-7187-4685-c405-1c59568dc3b2"
      },
      "execution_count": null,
      "outputs": [
        {
          "output_type": "stream",
          "name": "stdout",
          "text": [
            "{'name': 'ram'}\n",
            "{'name': 'sauarabh'}\n",
            "ram\n",
            "sauarabh\n"
          ]
        }
      ]
    },
    {
      "cell_type": "code",
      "source": [
        "## static methods\n",
        "\n",
        "class bank:\n",
        "  bank_name=\"BOI\"\n",
        "  r=12.5\n",
        "  @staticmethod\n",
        "  def simple_interst(p,n):\n",
        "    si=(p*n*r)/100\n",
        "\n",
        "\n",
        "bank.simple_interst(1000,2)"
      ],
      "metadata": {
        "id": "Y7-3Refn3SMX",
        "colab": {
          "base_uri": "https://localhost:8080/",
          "height": 321
        },
        "outputId": "228338db-214b-42dc-fdfb-c0c534431c4c"
      },
      "execution_count": null,
      "outputs": [
        {
          "output_type": "error",
          "ename": "NameError",
          "evalue": "ignored",
          "traceback": [
            "\u001b[0;31m---------------------------------------------------------------------------\u001b[0m",
            "\u001b[0;31mNameError\u001b[0m                                 Traceback (most recent call last)",
            "\u001b[0;32m<ipython-input-22-9691fd9eec32>\u001b[0m in \u001b[0;36m<cell line: 11>\u001b[0;34m()\u001b[0m\n\u001b[1;32m      9\u001b[0m \u001b[0;34m\u001b[0m\u001b[0m\n\u001b[1;32m     10\u001b[0m \u001b[0;34m\u001b[0m\u001b[0m\n\u001b[0;32m---> 11\u001b[0;31m \u001b[0mbank\u001b[0m\u001b[0;34m.\u001b[0m\u001b[0msimple_interst\u001b[0m\u001b[0;34m(\u001b[0m\u001b[0;36m1000\u001b[0m\u001b[0;34m,\u001b[0m\u001b[0;36m2\u001b[0m\u001b[0;34m)\u001b[0m\u001b[0;34m\u001b[0m\u001b[0;34m\u001b[0m\u001b[0m\n\u001b[0m",
            "\u001b[0;32m<ipython-input-22-9691fd9eec32>\u001b[0m in \u001b[0;36msimple_interst\u001b[0;34m(p, n)\u001b[0m\n\u001b[1;32m      6\u001b[0m   \u001b[0;34m@\u001b[0m\u001b[0mstaticmethod\u001b[0m\u001b[0;34m\u001b[0m\u001b[0;34m\u001b[0m\u001b[0m\n\u001b[1;32m      7\u001b[0m   \u001b[0;32mdef\u001b[0m \u001b[0msimple_interst\u001b[0m\u001b[0;34m(\u001b[0m\u001b[0mp\u001b[0m\u001b[0;34m,\u001b[0m\u001b[0mn\u001b[0m\u001b[0;34m)\u001b[0m\u001b[0;34m:\u001b[0m\u001b[0;34m\u001b[0m\u001b[0;34m\u001b[0m\u001b[0m\n\u001b[0;32m----> 8\u001b[0;31m     \u001b[0msi\u001b[0m\u001b[0;34m=\u001b[0m\u001b[0;34m(\u001b[0m\u001b[0mp\u001b[0m\u001b[0;34m*\u001b[0m\u001b[0mn\u001b[0m\u001b[0;34m*\u001b[0m\u001b[0mr\u001b[0m\u001b[0;34m)\u001b[0m\u001b[0;34m/\u001b[0m\u001b[0;36m100\u001b[0m\u001b[0;34m\u001b[0m\u001b[0;34m\u001b[0m\u001b[0m\n\u001b[0m\u001b[1;32m      9\u001b[0m \u001b[0;34m\u001b[0m\u001b[0m\n\u001b[1;32m     10\u001b[0m \u001b[0;34m\u001b[0m\u001b[0m\n",
            "\u001b[0;31mNameError\u001b[0m: name 'r' is not defined"
          ]
        }
      ]
    },
    {
      "cell_type": "code",
      "source": [
        "#INHERITENCE\n",
        "\n",
        "\n",
        "#without inheritance\n",
        "class emp:\n",
        "  bonus=2000\n",
        "  def display(self):\n",
        "    print(\"this is emp class method\")\n",
        "\n",
        "class manager:\n",
        "  bonus1=5000\n",
        "  def show(self):\n",
        "    print(\"this is manager class method\")\n",
        "\n",
        "e1=emp()\n",
        "m1=manager()\n",
        "\n",
        "e1.display()\n",
        "m1.show()\n",
        "\n",
        "e1.bonus\n",
        "m1.bonus1\n",
        "\n",
        "#############################################################3\n",
        "\n",
        "#with inheritance\n",
        "\n",
        "class emp:\n",
        "  bonus=2000\n",
        "  def display(self):\n",
        "    print(\"this is emp class method\")\n",
        "\n",
        "class manager(emp):\n",
        "  bonus1=5000\n",
        "  def show(self):\n",
        "    print(\"this is manager class method\")\n",
        "\n",
        "e1=emp()\n",
        "m1=manager()\n",
        "\n",
        "m1.bonus  ##3 inheritance achieved # accessing emp by manager object\n",
        "\n"
      ],
      "metadata": {
        "id": "JziaOQKU5o_c"
      },
      "execution_count": null,
      "outputs": []
    },
    {
      "cell_type": "code",
      "source": [
        "class father:\n",
        "  vehicle1=\"scooter\"\n",
        "  house1=\"1 rk\"\n",
        "\n",
        "  def display(self):\n",
        "    print(\"this is father class\")\n",
        "\n",
        "class son(father):\n",
        "    vehicle=\"BMW\"\n",
        "    house=\"3 bhk\"\n",
        "\n",
        "    def show(self):\n",
        "      print(\"this is son method \")\n",
        "\n",
        "\n",
        "f1=father()\n",
        "s1=son()\n",
        "\n",
        "s1.display()\n",
        "s1.vehicle1     # accesing method and attributes of parent class\n",
        "s1.house1\n",
        "\n"
      ],
      "metadata": {
        "id": "E7kk4EoQ63K1"
      },
      "execution_count": null,
      "outputs": []
    },
    {
      "cell_type": "code",
      "source": [
        "str=\"ashuashupatil\"\n",
        "a1=[]\n",
        "for i in str:\n",
        "  a1.append(i)\n",
        "\n",
        "a2=set(a1)\n",
        "\n",
        "for i in a2:\n",
        "  print(i,\"===>\",a1.count(i))\n",
        "\n"
      ],
      "metadata": {
        "id": "rj3qQALd8-CH"
      },
      "execution_count": null,
      "outputs": []
    },
    {
      "cell_type": "code",
      "source": [],
      "metadata": {
        "id": "vYd6vjheMfGd"
      },
      "execution_count": null,
      "outputs": []
    },
    {
      "cell_type": "code",
      "source": [
        "#PRINT RANGE OF PRIME NO:250 to 350\n",
        "\n",
        "lower =250\n",
        "upper=270\n",
        "\n",
        "for num in range (lower ,upper+1):\n",
        "  if num>1:\n",
        "    for i in range(2,num):\n",
        "      if num%i==0:\n",
        "        break\n",
        "      else:\n",
        "        print(num)\n",
        "        break\n"
      ],
      "metadata": {
        "id": "b5GhZDniHStJ"
      },
      "execution_count": null,
      "outputs": []
    },
    {
      "cell_type": "code",
      "source": [
        "a=[1,2,5,6,4,5,1,1,1,1,2,2,2,5,5,5,8,8,8,6,6,6,4,4,4]\n",
        "target=4\n",
        "b=set(a)\n",
        "c=[]\n",
        "for i in b:\n",
        "  if a.count(i)>=target:\n",
        "    c.append(i)\n",
        "print(c)\n"
      ],
      "metadata": {
        "id": "JBNNZ9pyNHh5"
      },
      "execution_count": null,
      "outputs": []
    },
    {
      "cell_type": "code",
      "source": [
        "for i in range(1,5,1):\n",
        "  print(\"*\"*i)"
      ],
      "metadata": {
        "id": "MgMYaR12Kyh_"
      },
      "execution_count": null,
      "outputs": []
    },
    {
      "cell_type": "code",
      "source": [
        "#perfect no\n",
        "no=int(input())\n",
        "org=no\n",
        "sum=0\n",
        "for i in range(1,no):\n",
        "  if no%i==0:\n",
        "    sum=sum+i\n",
        "if sum==org:\n",
        "  print(\"perfect\")\n",
        "else:\n",
        "  print(\"not perfect\")"
      ],
      "metadata": {
        "id": "OY3n5zWRP-3m"
      },
      "execution_count": null,
      "outputs": []
    },
    {
      "cell_type": "code",
      "source": [
        "no=1234\n",
        "sum=0\n",
        "while no>0:\n",
        "  rem=no%10\n",
        "  sum=sum+rem\n",
        "  no=no//10\n",
        "print(sum)"
      ],
      "metadata": {
        "id": "Fl1miidWRJjV"
      },
      "execution_count": null,
      "outputs": []
    },
    {
      "cell_type": "code",
      "source": [
        "#Find Sum of Squares of Digits of a Number\n",
        "\n",
        "no=int(input())\n",
        "order=2\n",
        "sum=0\n",
        "while no>0:\n",
        "  digit=no%10\n",
        "  sum+=digit**order\n",
        "  no=no//10\n",
        "print(sum)\n"
      ],
      "metadata": {
        "id": "_RkQ-wuATKGY"
      },
      "execution_count": null,
      "outputs": []
    },
    {
      "cell_type": "code",
      "source": [
        "######    SUPER IN OOPS\n",
        "# Parent Class\n",
        "class Vehicle:\n",
        "  def __init__(self, company, model, year, color):\n",
        "    self.company = company\n",
        "    self.model = model\n",
        "    self.year = year\n",
        "    self.color = color\n",
        "\n",
        "# Child Class\n",
        "class Car(Vehicle):\n",
        "  def __init__(self, company, model, year, color, car_type):\n",
        "    # Using super to access __init__ method of Parent Class\n",
        "    super().__init__(company, model, year, color)\n",
        "    self.car_type = car_type\n",
        "\n",
        "# Creating an object of Car\n",
        "my_car = Car(\"Tesla\", \"S\", 2021, \"Silver\", \"Sedan\")\n",
        "print(f\"I have a {my_car.company} model {my_car.car_type}\")"
      ],
      "metadata": {
        "id": "Z-8PwUeWbInM"
      },
      "execution_count": null,
      "outputs": []
    },
    {
      "cell_type": "code",
      "source": [
        "from os import name\n",
        "### MULTI-LEVEL INHERITANCE\n",
        "\n",
        "class human:\n",
        "  def __init__(self):\n",
        "    print(\"in human class\")\n",
        "    self.name=\"akash\"\n",
        "\n",
        "class emp(human):\n",
        "  def __init__(self):\n",
        "    super().__init__()\n",
        "\n",
        "    print(\"in class emp\")\n",
        "    self.salary=15000\n",
        "\n",
        "class manager(emp):\n",
        "  def __init__(self):\n",
        "    super().__init__()\n",
        "    self.bonus=500\n",
        "\n",
        "\n",
        "\n",
        "\n",
        "\n",
        "m1=manager()\n",
        "# print(m1.bonus)\n",
        "########################\n",
        "e1=emp()\n",
        "# print(e1.salary)\n",
        "#####################3\n",
        "h1=human()\n",
        "# print(h1.name)\n",
        "##################################################################\n",
        "#m1.salary\n",
        "# e1.name\n",
        "m1.salary,m1.name,m1.bonus\n"
      ],
      "metadata": {
        "id": "nkxzxESWdKJA"
      },
      "execution_count": null,
      "outputs": []
    },
    {
      "cell_type": "code",
      "source": [
        "## MULTILVEL INHERITANCE\n",
        "class person:\n",
        "  def __init__(self,name,age):\n",
        "    self.name=name\n",
        "    self.age=age\n",
        "\n",
        "  def dispaly(self):\n",
        "    print(\"person class excuted\")\n",
        "\n",
        "class emp(person):\n",
        "  def __init__(self,name,age,salary):\n",
        "    super().__init__(name,age)\n",
        "    self.salary=salary\n",
        "\n",
        "\n",
        "\n",
        "class student (person):\n",
        "  def __init__(self,name,age,marks):\n",
        "    super().__init__(name,age)\n",
        "    self.marks=marks\n",
        "########################################\n",
        "s1=student('ram',21,50)\n",
        "print(s1.__dict__)\n",
        "\n",
        "########################################\n",
        "e1=emp('sham',24,15000)\n",
        "print(e1.__dict__)\n",
        "\n",
        "########################################\n",
        "\n",
        "s1.dispaly()\n",
        "e1.dispaly\n",
        "#######################################"
      ],
      "metadata": {
        "id": "Hm9AQL8F-dGC"
      },
      "execution_count": null,
      "outputs": []
    },
    {
      "cell_type": "code",
      "source": [
        "##ENCAPSULATION\n",
        "\n",
        "class emp:\n",
        "  def __init__(self,name,salary):\n",
        "    self.___name=name\n",
        "    self.__salary=salary\n",
        "\n",
        "  def display(self):\n",
        "    print(f\"name is{self.__name} and salary is{self.__salary}\")\n",
        "\n",
        "\n",
        "e1=emp(\"sham\",510000)\n",
        "print(e1.__dict__)\n"
      ],
      "metadata": {
        "id": "jtSboGEo_ocX"
      },
      "execution_count": null,
      "outputs": []
    },
    {
      "cell_type": "code",
      "source": [
        "# ENCAPSULATION ACHIEVED\n",
        "class finance:\n",
        "  def __init__(self):\n",
        "    self.__revenue=1000000  #private data\n",
        "    self.sales=135\n",
        "\n",
        "  def display(self):\n",
        "     print(f\"revenue is {self.__revenue}\")\n",
        "\n",
        "\n",
        "class hr:\n",
        "  def __init__(self):\n",
        "    self.no_emp=32\n",
        "\n",
        "h1=hr()\n",
        "print(h1.__dict__)\n",
        "\n",
        "# f1.revenue  #-------------> class finance does not have attribute like revenue\n",
        "                            # its become strong private so not visisble\n",
        "\n",
        "# f1.__revenue # ------------> also unable to print this\n",
        "\n",
        "## so to access the str private element we add other function to display it\n",
        "f1=finance()\n",
        "\n",
        "f1.display()\n"
      ],
      "metadata": {
        "colab": {
          "base_uri": "https://localhost:8080/"
        },
        "id": "uScR3Um2Al6u",
        "outputId": "c5cd489d-06d6-40b1-867d-74a39d475c54"
      },
      "execution_count": null,
      "outputs": [
        {
          "output_type": "stream",
          "name": "stdout",
          "text": [
            "{'no_emp': 32}\n",
            "revenue is 1000000\n"
          ]
        }
      ]
    },
    {
      "cell_type": "code",
      "source": [
        "## POLYMORPHISM\n",
        "\n",
        "EMP=[\"RAM\",\"SHAM\",\"SOPAN\",\"NAMU\"]\n",
        "COMPANY=\"PADMINIGROUP\"\n",
        "\n",
        "for i in  reversed(EMP):\n",
        "  print(i)\n",
        "\n",
        "print(\"##################\")\n",
        "\n",
        "for i in  reversed(COMPANY):  ## reversed can play difernt role in each role\n",
        "  print(i)\n",
        "\n",
        "##############  or ##############3\n",
        "a=20\n",
        "b=50\n",
        "print(a+b)\n",
        "\n",
        "a=\"ram\"\n",
        "b=\"sita\"   #  here  \"+\" oprerator play different role addition\n",
        "                        #for one and concatination for other\n",
        "print(a+b)"
      ],
      "metadata": {
        "colab": {
          "base_uri": "https://localhost:8080/"
        },
        "id": "gUA1ND2fGNgO",
        "outputId": "a2420070-4139-4fbb-ba24-6b72f21b199a"
      },
      "execution_count": null,
      "outputs": [
        {
          "output_type": "stream",
          "name": "stdout",
          "text": [
            "NAMU\n",
            "SOPAN\n",
            "SHAM\n",
            "RAM\n",
            "##################\n",
            "P\n",
            "U\n",
            "O\n",
            "R\n",
            "G\n",
            "I\n",
            "N\n",
            "I\n",
            "M\n",
            "D\n",
            "A\n",
            "P\n",
            "70\n",
            "ramsita\n"
          ]
        }
      ]
    },
    {
      "cell_type": "code",
      "source": [
        "## OVERRIDING / OPERATOR OVERRIDING\n",
        "class cart:\n",
        "  def __init__(self,bas1,bas2,bas3):\n",
        "    self.clothes=bas1\n",
        "    self.electronic=bas2\n",
        "    self.other=bas3\n",
        "  def __len__(self):\n",
        "    print(\"total no. of items\")\n",
        "    return len(self.clothes)+len( self.electronic)+len(self.other)\n",
        "\n",
        "\n",
        "\n",
        "ram=cart([\"pant\",\"shirt\",\"t-shirt\"],[\"earphone\",\"mobile\"],[\"chair\",\"brush\"])\n",
        "print(len(ram))  # gives error but we want ans=6,so we use magic method\n",
        "\n"
      ],
      "metadata": {
        "colab": {
          "base_uri": "https://localhost:8080/"
        },
        "id": "9sWdMKzMLIFZ",
        "outputId": "e9c7f3a8-ff65-47c0-98b4-faa59f32e01e"
      },
      "execution_count": null,
      "outputs": [
        {
          "output_type": "stream",
          "name": "stdout",
          "text": [
            "total no. of items\n",
            "7\n"
          ]
        }
      ]
    },
    {
      "cell_type": "code",
      "source": [
        "## OPERATOR OVERLOADING\n",
        "\n",
        "class book:\n",
        "  def __init__(self,title,pages):\n",
        "    self.title=title\n",
        "    self.pages=pages\n",
        "\n",
        "  def __add__(self,other):\n",
        "    total=self.pages+other.pages\n",
        "    return total\n",
        "\n",
        "\n",
        "\n",
        "\n",
        "\n",
        "b1=book(\"one indian girl\",300)\n",
        "b2=book(\"half girlfriend\",200)\n",
        "\n",
        "\n",
        "print(b1+b2)\n",
        "\n",
        "\n",
        "\n",
        "\n"
      ],
      "metadata": {
        "colab": {
          "base_uri": "https://localhost:8080/"
        },
        "id": "SM2pYJbvPZYo",
        "outputId": "263de48c-2f5b-4486-9382-cea6bbcf039e"
      },
      "execution_count": null,
      "outputs": [
        {
          "output_type": "stream",
          "name": "stdout",
          "text": [
            "500\n"
          ]
        }
      ]
    },
    {
      "cell_type": "code",
      "source": [
        "# ABSTRACTION\n",
        "\n",
        "#note:= we can not create an object of abstarct class\n",
        "\n",
        "from abc import ABC ,abstractmethod\n",
        "\n",
        "class car(ABC):\n",
        "  @abstractmethod\n",
        "  def milage(self):\n",
        "    pass\n",
        "\n",
        "  def color(self):\n",
        "    print(\"white\")\n",
        "\n",
        "\n",
        "class maruti_suzuki(car):\n",
        "  def milage(self):\n",
        "    print(\"milage is 30kmph\")\n",
        "\n",
        "class tata(car):\n",
        "  def milage(self):\n",
        "    print(\"milage is 35kmph\")\n",
        "\n",
        "class mahindra(car):\n",
        "  def milage(self):\n",
        "    print(\"milage is 40kmph\")\n",
        "\n",
        "\n",
        "ms1=maruti_suzuki()\n",
        "t1=tata()                 ## created objects\n",
        "m1=mahindra()\n",
        "\n",
        "###############################################\n",
        "ms1.milage()\n",
        "t1.milage()\n",
        "m1.milage()\n",
        "###################################################\n",
        "\n",
        "ms1.color()\n",
        "t1.color()\n",
        "m1.color()\n"
      ],
      "metadata": {
        "colab": {
          "base_uri": "https://localhost:8080/"
        },
        "id": "GqP0d5_yUqIl",
        "outputId": "58ea7483-ae48-4463-8592-d55b5f3f7261"
      },
      "execution_count": null,
      "outputs": [
        {
          "output_type": "stream",
          "name": "stdout",
          "text": [
            "milage is 30kmph\n",
            "milage is 35kmph\n",
            "milage is 40kmph\n",
            "white\n",
            "white\n",
            "white\n"
          ]
        }
      ]
    },
    {
      "cell_type": "code",
      "source": [
        "no=int(input(\"enter a no\"))\n",
        "\n",
        "if no%2!=0:\n",
        "  print(\"weird\")\n",
        "\n",
        "else:\n",
        "  if no%2==0 and no>=6 and no<=20:\n",
        "    print(\" weird\")\n",
        "\n",
        "  elif no%2==0 and no>20:\n",
        "    print(\"not weird\")\n",
        "\n",
        "  elif no%2==0 and no>=2 and no<=5:\n",
        "    print(\"not wierd\")\n",
        "\n"
      ],
      "metadata": {
        "id": "CR-4ohjDega6"
      },
      "execution_count": null,
      "outputs": []
    },
    {
      "cell_type": "code",
      "source": [
        "no=(input())\n",
        "l=[]\n",
        "for i in no:\n",
        "  l.append(i)\n",
        "lst=list(map(int,l))\n",
        "# lst=[1,9,8,7]\n",
        "a1=sorted(lst)\n",
        "a2=a1[::-1]\n",
        "\n"
      ],
      "metadata": {
        "id": "HtBqICpLsQtA"
      },
      "execution_count": null,
      "outputs": []
    },
    {
      "cell_type": "code",
      "source": [
        "a=[\"1\",\"5\",\"7\"]\n",
        "a1=(list(map(int,a)))"
      ],
      "metadata": {
        "id": "EkJnLXSt5bF9"
      },
      "execution_count": null,
      "outputs": []
    },
    {
      "cell_type": "code",
      "source": [
        "no=(input())\n",
        "l=[]\n",
        "min_num=[]\n",
        "for i in no:\n",
        "  l.append(i)\n",
        "\n",
        "l.sort()\n",
        "for i in l:\n",
        "  min_num.append(i)\n",
        "\n",
        "max_num=min_num[::-1]\n",
        "\n",
        "final_min=int(\"\".join(min_num))\n",
        "final_max=int(\"\".join(max_num))\n",
        "\n",
        "diff=final_max-final_min\n",
        "print(diff)"
      ],
      "metadata": {
        "id": "JqDdkkEj-cTE"
      },
      "execution_count": null,
      "outputs": []
    },
    {
      "cell_type": "code",
      "source": [
        "a=[]\n",
        "no=input()\n",
        "for i in no:\n",
        "  a.append(i)\n",
        "a1=sorted(a)\n",
        "min_no=int(\"\".join(a1))\n",
        "a2=a1[::-1]\n",
        "max_no=int(\"\".join(a2))\n",
        "diff=max_no-min_no\n",
        "\n",
        "print(diff)\n"
      ],
      "metadata": {
        "id": "6LFDWGJnIYd9"
      },
      "execution_count": null,
      "outputs": []
    },
    {
      "cell_type": "code",
      "source": [
        "def mutate_str(s,i,ch):\n",
        "  a=s.replace(s[i],ch)\n",
        "\n",
        "  print(a)\n",
        "\n",
        "s=input(\"enter a string\")\n",
        "i,ch=input().split()\n",
        "str_new=mutate_str(s,int(i),ch)\n",
        "\n",
        "\n"
      ],
      "metadata": {
        "id": "HhrvteswLo0C"
      },
      "execution_count": null,
      "outputs": []
    },
    {
      "cell_type": "code",
      "source": [
        "a=[]\n",
        "def mutate_str(s,i,c):\n",
        "  for x in s:\n",
        "    a.append(x)\n",
        "a1=a.insert(4,c)\n",
        "a2=\" \".join(a)\n",
        "print(a2)\n",
        "\n",
        "\n",
        "s=input(\"enter a string\")\n",
        "i,c=input().split()\n",
        "str_new=mutate_str(s,int(i),c)"
      ],
      "metadata": {
        "id": "_VMdelf4jw38"
      },
      "execution_count": null,
      "outputs": []
    },
    {
      "cell_type": "code",
      "source": [
        "n=input()\n",
        "list1=n.split(' ')\n",
        "for i in list1:\n",
        "     print(i.capitalize(),end=\" \")\n",
        "\n",
        "\n",
        "\n",
        "\n",
        "\n",
        "\n",
        "\n",
        "\n",
        "\n",
        "\n",
        "\n",
        "\n",
        "\n"
      ],
      "metadata": {
        "id": "k2Aj9yM6wEiO"
      },
      "execution_count": null,
      "outputs": []
    },
    {
      "cell_type": "code",
      "source": [
        "#B A N A N A\n",
        "\n",
        "s=\"banana\"\n",
        "a=s.startswith(\"a\")\n",
        "print(a)\n",
        "\n",
        "\n",
        "\n",
        "\n"
      ],
      "metadata": {
        "id": "maPmsWBQ7vBj"
      },
      "execution_count": null,
      "outputs": []
    },
    {
      "cell_type": "code",
      "source": [
        "# write code for all possible no which gives sum of 30\n",
        "\n",
        "lst=[1,2,3,4,5,6,7,8,9,10,2,5,8,9,4]\n",
        "target=15\n",
        "\n",
        "for i in range(len(lst)):\n",
        "  for j in range(i,len(lst)):\n",
        "    if (lst[i]+lst[j]==target):\n",
        "        print(lst[i],lst[j])\n",
        "\n"
      ],
      "metadata": {
        "id": "G6VRbQ5q8s-K"
      },
      "execution_count": null,
      "outputs": []
    },
    {
      "cell_type": "code",
      "source": [
        "## 3 possible no which gives sum 30\n",
        "lst=[1,2,3,4,5,6,7,8,9,10,2,5,8,9,4]\n",
        "target=30\n",
        "\n",
        "for i in range(len(lst)):\n",
        "  for j in range(i,len(lst)):\n",
        "    for k in range(i,j,len(lst)):\n",
        "      if(lst[i]+lst[j]+lst[k]==target):\n",
        "          print(lst[i],lst[j],lst[k])\n",
        "\n"
      ],
      "metadata": {
        "id": "pj_nkx5fFEcw"
      },
      "execution_count": null,
      "outputs": []
    },
    {
      "cell_type": "code",
      "source": [
        "#find 3rd max no from array without using sort\n",
        "lst=[1,2,3,4,5,6,7,8,9,10,2,5,8,9,4]\n",
        "\n",
        "lst1=set(lst)\n",
        "\n",
        "lst_max=max(lst1)\n",
        "lst1.remove(lst_max)\n",
        "\n",
        "lst_secd_max=max(lst1)\n",
        "lst1.remove(lst_secd_max)\n",
        "\n",
        "lst_third_max=max(lst1)\n",
        "print(lst_third_max)"
      ],
      "metadata": {
        "id": "3N7cIA2AIClj"
      },
      "execution_count": null,
      "outputs": []
    },
    {
      "cell_type": "code",
      "source": [
        "def is_palindrome(s):\n",
        "    return s == s[::-1]\n",
        "\n",
        "def check_palindrome_substring(string, start, end):\n",
        "    substring = string[start:end+1]\n",
        "    return is_palindrome(substring)\n",
        "\n",
        "\n",
        "string = \"aaabbaaa samas \"\n",
        "start = 3\n",
        "end = 6\n",
        "result = check_palindrome_substring(string, start, end)\n",
        "print(result)"
      ],
      "metadata": {
        "id": "roVq38bAND7-"
      },
      "execution_count": null,
      "outputs": []
    },
    {
      "cell_type": "code",
      "source": [
        "from collections import Counter\n",
        "\n",
        "def count_anagrams(words, word):\n",
        "    word_count = Counter(word)\n",
        "    count = 0\n",
        "    for w in words:\n",
        "        if Counter(w) == word_count:\n",
        "            count += 1\n",
        "    return count\n",
        "\n",
        "words = [ \"dog\",\"tam\",\"ring\"]\n",
        "word = \"god\"\n",
        "count = count_anagrams(words, word)\n",
        "print(count)  # Output: 1\n"
      ],
      "metadata": {
        "id": "IAlf_CfZ8IwT"
      },
      "execution_count": null,
      "outputs": []
    },
    {
      "cell_type": "code",
      "source": [
        "l=[10,8,4,2,1,6]\n",
        "x=len(l)\n",
        "for i in range(x):\n",
        "  for j in range(i+1,x):\n",
        "    if l[i]>l[j]:\n",
        "      l[i],l[j]=l[j],l[i]\n",
        "\n",
        "print(l)\n"
      ],
      "metadata": {
        "id": "VKkmKzmmJUNO"
      },
      "execution_count": null,
      "outputs": []
    },
    {
      "cell_type": "code",
      "source": [
        "def romanToInt(s):\n",
        "    d = {'I': 1, 'V': 5, 'X': 10, 'L': 50, 'C': 100, 'D': 500, 'M': 1000}\n",
        "    ans=0\n",
        "    for i in range(len(s)):\n",
        "      if i+1!=len(S) and d[s[i]]<d[s[i+1]]:\n",
        "        ans=ans-d[s[i]]\n",
        "      else:\n",
        "        ans=ans+d[s[i]]\n",
        "    print(ans)\n",
        "\n",
        "S=\"IXXI\"\n",
        "romanToInt(S)\n"
      ],
      "metadata": {
        "id": "GIxB9RAFKQzw"
      },
      "execution_count": null,
      "outputs": []
    },
    {
      "cell_type": "code",
      "source": [
        "S=\"IXXI\"\n",
        "d = {'I': 1, 'V': 5, 'X': 10, 'L': 50, 'C': 100, 'D': 500, 'M': 1000}\n",
        "\n",
        "for i in range(len(S)):\n",
        "  if i+1!=len(S) and d[s[i]]<d[s[i+1]]:\n",
        "            ans=ans-d[s[i]]\n",
        "  else:\n",
        "                ans=ans+d[s[i]]\n",
        "\n",
        "\n",
        "\n",
        "\n",
        "\n",
        "\n"
      ],
      "metadata": {
        "id": "AiqtOi2b_71q"
      },
      "execution_count": null,
      "outputs": []
    },
    {
      "cell_type": "code",
      "source": [
        "def romanToInt(s):\n",
        "\n",
        "\n",
        "        d = {'I': 1, 'V': 5, 'X': 10, 'L': 50, 'C': 100, 'D': 500, 'M': 1000}\n",
        "        ans=0\n",
        "        for i in range(len(s)):\n",
        "          if i+1!=len(s) and d[s[i]]<d[s[i+1]]:\n",
        "            ans=ans-d[s[i]]\n",
        "          else:\n",
        "            ans=ans+d[s[i]]\n",
        "        print(ans)\n",
        "\n",
        "s=input()\n",
        "romanToInt(s)"
      ],
      "metadata": {
        "id": "QkC9S46gF_dm"
      },
      "execution_count": null,
      "outputs": []
    },
    {
      "cell_type": "code",
      "source": [
        "arr = list(map(str, input().split()))\n",
        "print((arr))\n",
        "print(type(arr))"
      ],
      "metadata": {
        "id": "pyCScuL6MEcg",
        "colab": {
          "base_uri": "https://localhost:8080/"
        },
        "outputId": "de48ebf7-a4bf-474b-eb4c-b4e35bb9d621"
      },
      "execution_count": null,
      "outputs": [
        {
          "output_type": "stream",
          "name": "stdout",
          "text": [
            "dfghjk\n",
            "['dfghjk']\n",
            "<class 'list'>\n"
          ]
        }
      ]
    },
    {
      "cell_type": "code",
      "source": [
        "str=input(\"enter a str\")\n",
        "s1=list(sorted(set(str.split(','))))\n",
        "s2=list(str)\n",
        "for i in s1:\n",
        "  print(i,\"--->\",s2.count(i))\n"
      ],
      "metadata": {
        "id": "iXwd0H9BQQU3"
      },
      "execution_count": null,
      "outputs": []
    },
    {
      "cell_type": "code",
      "source": [
        "s1={120,5,45,84,840,120,5,4,45}\n",
        "a=set(s1)\n",
        "a"
      ],
      "metadata": {
        "id": "Jwqx0Ve_Vdoh"
      },
      "execution_count": null,
      "outputs": []
    },
    {
      "cell_type": "code",
      "source": [
        "l=[]\n",
        "s='omkar'\n",
        "for i in s:\n",
        "  l.append(i)\n",
        "\n",
        "l\n",
        "\n"
      ],
      "metadata": {
        "id": "4rdqHG1XVvsx"
      },
      "execution_count": null,
      "outputs": []
    },
    {
      "cell_type": "code",
      "source": [
        "s='omkar'\n",
        "s1=list(s)\n",
        "print(s1)"
      ],
      "metadata": {
        "id": "-umqiP-WXLgw"
      },
      "execution_count": null,
      "outputs": []
    },
    {
      "cell_type": "code",
      "source": [
        "#a=[3a,4b,5c,1d] expected o\\p aaabbbbcccccd\n",
        "a = ['3a', '4b', '5c', '1d']\n",
        "result = ''\n",
        "for elem in a:\n",
        "    result += elem[-1] * int(elem[:-1])\n",
        "print(result)\n",
        "\n",
        "\n",
        "\n",
        "\n"
      ],
      "metadata": {
        "id": "-grd6BwUX9P-"
      },
      "execution_count": null,
      "outputs": []
    },
    {
      "cell_type": "code",
      "source": [
        "a = ['3a', '4b', '5c', '1d']\n",
        "res=''\n",
        "for i in a:\n",
        "  res+=i[-1]*int(i[:-1])\n",
        "print(res)"
      ],
      "metadata": {
        "id": "nguwkHoOmNQz"
      },
      "execution_count": null,
      "outputs": []
    },
    {
      "cell_type": "code",
      "source": [
        "d=1,\n",
        "a) a=1,2,3\n",
        "b) b=(1,2,3)\n",
        "c) c=(1)\n",
        "d) d=1,\n",
        "print(type(d))"
      ],
      "metadata": {
        "id": "0VdMtDkTnWal"
      },
      "execution_count": null,
      "outputs": []
    },
    {
      "cell_type": "code",
      "source": [
        "d=(1)\n",
        "print(type(d))"
      ],
      "metadata": {
        "id": "SoVGk2lKnoBx"
      },
      "execution_count": null,
      "outputs": []
    },
    {
      "cell_type": "code",
      "source": [
        "st='ashutosh ghodke'\n",
        "s1=st.split()\n",
        "print(s1.reverse())"
      ],
      "metadata": {
        "id": "UmvPvl6Hnwzw"
      },
      "execution_count": null,
      "outputs": []
    },
    {
      "cell_type": "code",
      "source": [
        "import datetime\n",
        "now = datetime.datetime.now()\n",
        "print (\"Current date and time : \")\n",
        "print (now.strftime(\"%Y-%m-%d %H:%M:%S\"))\n"
      ],
      "metadata": {
        "id": "TGFhJmMEK7hc"
      },
      "execution_count": null,
      "outputs": []
    },
    {
      "cell_type": "code",
      "source": [
        "import sys\n",
        "print(sys.version)"
      ],
      "metadata": {
        "id": "n_q8YkgmLVKB"
      },
      "execution_count": null,
      "outputs": []
    },
    {
      "cell_type": "code",
      "source": [
        "rad=eval(input())\n",
        "area=3.14*(rad**2)\n",
        "area\n"
      ],
      "metadata": {
        "id": "_AIsaRCqMJt9"
      },
      "execution_count": null,
      "outputs": []
    },
    {
      "cell_type": "code",
      "source": [
        "from math import pi\n",
        "rad=eval(input())\n",
        "area=pi * rad**2\n",
        "area"
      ],
      "metadata": {
        "id": "H90PY77nMsxB"
      },
      "execution_count": null,
      "outputs": []
    },
    {
      "cell_type": "code",
      "source": [
        "fname=input()\n",
        "lname=input()\n",
        "fname,lname=lname,fname\n",
        "print(fname,' ',lname)"
      ],
      "metadata": {
        "id": "PCmP4c_nNqHc"
      },
      "execution_count": null,
      "outputs": []
    },
    {
      "cell_type": "code",
      "source": [
        "\n",
        "lst=[11,22,33,44,1,850]\n",
        "# max=lst[0]\n",
        "# for i in lst:\n",
        "#   if i>max:\n",
        "#     max=i\n",
        "# print(max)\n",
        "\n",
        "# --- or---\n",
        "# print(max(lst))\n",
        "\n",
        "# --- or---\n",
        "\n",
        "# print(lst[-1])"
      ],
      "metadata": {
        "id": "2bK8noYSRmvr"
      },
      "execution_count": null,
      "outputs": []
    },
    {
      "cell_type": "code",
      "source": [
        "s1=list(map(str,input().split()))\n",
        "print(s1)\n",
        "\n",
        "s2=tuple(map(str,input().split()))\n",
        "print(s2)\n",
        "\n",
        "\n",
        "\n"
      ],
      "metadata": {
        "id": "5KNUr23-bzeO"
      },
      "execution_count": null,
      "outputs": []
    },
    {
      "cell_type": "code",
      "source": [
        "N1=STR(INPUT())\n",
        "N2=N1.SPLIT()\n",
        "PRINT(N2[-1])"
      ],
      "metadata": {
        "id": "ypOVk5nncRLE"
      },
      "execution_count": null,
      "outputs": []
    },
    {
      "cell_type": "code",
      "source": [
        "n1=input()\n",
        "n2=n1.split('.')\n",
        "print(n2[-1])"
      ],
      "metadata": {
        "id": "dfd_NXOshGE6"
      },
      "execution_count": null,
      "outputs": []
    },
    {
      "cell_type": "code",
      "source": [
        "color_list = [\"Red\",\"Green\",\"White\" ,\"Black\"]\n",
        "print(color_list[0])\n",
        "print(color_list[-1])"
      ],
      "metadata": {
        "id": "uO9O97nrhOff"
      },
      "execution_count": null,
      "outputs": []
    },
    {
      "cell_type": "code",
      "source": [
        "exam_st_date = (11, 12, 2014)\n",
        "print(\"%i / %i / %i\" %exam_st_date )\n"
      ],
      "metadata": {
        "id": "A8aEILMXivLk"
      },
      "execution_count": null,
      "outputs": []
    },
    {
      "cell_type": "code",
      "source": [
        "#write a python program to count the frequency of words\n",
        "# Appering in a string\n",
        "\n",
        "def count():\n",
        "  str=input(\"enter a str\")\n",
        "  s1=sorted(set(str.split()))\n",
        "  s2=str.split()\n",
        "\n",
        "  for i in s1:\n",
        "    print(i,\"--->\",s2.count(i))\n"
      ],
      "metadata": {
        "id": "G2NvWUDuje0p"
      },
      "execution_count": null,
      "outputs": []
    },
    {
      "cell_type": "code",
      "source": [
        "s2=[]\n",
        "s1='niranjan'\n",
        "for i in s1:\n",
        "  s2.append(i)\n",
        "\n",
        "s3=set(s2)\n",
        "\n",
        "for i in s3:\n",
        "  print(i,'---->',s2.count(i))\n"
      ],
      "metadata": {
        "id": "nJWIPDGyVk5F"
      },
      "execution_count": null,
      "outputs": []
    },
    {
      "cell_type": "code",
      "source": [
        "#a2 b3 c4\n",
        "\n",
        "lst=[]\n",
        "s='a2b3c4d'\n",
        "for i in s:\n",
        "  lst.append(i)\n",
        "p=lst[0]*int(lst[1])\n",
        "q=lst[2]*int(lst[3])\n",
        "r=lst[4]*int(lst[5])\n",
        "print(p,q,r)"
      ],
      "metadata": {
        "id": "H9DsqbGrV3qm"
      },
      "execution_count": null,
      "outputs": []
    },
    {
      "cell_type": "code",
      "source": [],
      "metadata": {
        "id": "w0uI5NrAtduV"
      },
      "execution_count": null,
      "outputs": []
    },
    {
      "cell_type": "code",
      "source": [
        "import pyspark\n",
        "\n",
        "if __name__ == \"__main__\":\n",
        "\tsc=pyspark.SparkContext()\n",
        "\trdd=sc.parallelize(['hello','world'])\n",
        "\twords=sorted(rdd.collect())\n",
        "\tprint(words)\n"
      ],
      "metadata": {
        "id": "o2TRX4rpgQoh"
      },
      "execution_count": null,
      "outputs": []
    },
    {
      "cell_type": "code",
      "source": [
        "#. Create a function that takes a list of integers and returns the largest and smallest integers in the list.\n",
        "\n",
        "\n",
        "def abc(lst):\n",
        "  print(max(lst))\n",
        "  print(min(lst))\n",
        "\n",
        "lst=[1,2,3,4,5,6]\n",
        "abc(lst)\n",
        "\n"
      ],
      "metadata": {
        "id": "y6X1PHajDLjO"
      },
      "execution_count": null,
      "outputs": []
    },
    {
      "cell_type": "code",
      "source": [
        "# #3. Write a program to sort a list without using sort and sorted(in built function) and find the second largest number in a list.\n",
        "# # a= [ 5,2,7,8,1,3,8,9,13]\n",
        "\n",
        "# a = [5, 2, 7, 8, 1, 3, 8, 9, 13]\n",
        "# max_num = a[0]\n",
        "# second_max =a[0]\n",
        "\n",
        "# for i in a:\n",
        "#     if i > max_num:\n",
        "#         second_max = max_num\n",
        "#         max_num = i\n",
        "#     elif i > second_max and i < max_num:\n",
        "#         second_max = i\n",
        "\n",
        "# print(\"Second largest number in the list:\", second_max)\n"
      ],
      "metadata": {
        "id": "J0Ru7daXDe5f"
      },
      "execution_count": null,
      "outputs": []
    },
    {
      "cell_type": "code",
      "source": [
        "#1.\tPython program to add two numbers\n",
        "num1=int(input())\n",
        "num2=int(input())\n",
        "print(num1+num2)\n"
      ],
      "metadata": {
        "id": "yBh1EZrdEFJ_"
      },
      "execution_count": null,
      "outputs": []
    },
    {
      "cell_type": "code",
      "source": [
        "#2.\tMaximum of two numbers in Python\n",
        "num1=int(input())\n",
        "num2=int(input())\n",
        "if num1>num2:\n",
        "  print(num1)\n",
        "else:\n",
        "  print(num2)\n"
      ],
      "metadata": {
        "id": "YS-nQp5iLc1o"
      },
      "execution_count": null,
      "outputs": []
    },
    {
      "cell_type": "code",
      "source": [
        "#3.\tPython Program for factorial of a number\n",
        "def fact(num):\n",
        "  if num==1:\n",
        "    return 1\n",
        "\n",
        "  else:\n",
        "    return num*fact(num-1)\n",
        "\n",
        "\n",
        "fact(4)"
      ],
      "metadata": {
        "id": "0eO_6JWSMJ2n"
      },
      "execution_count": null,
      "outputs": []
    },
    {
      "cell_type": "code",
      "source": [
        "#4.\tPython Program for simple interest\n",
        "si=0\n",
        "p=1000\n",
        "n=3\n",
        "r=20\n",
        "si=(p*n*r)/100\n",
        "print(si)\n"
      ],
      "metadata": {
        "id": "MGeZ-Xj3NkBp"
      },
      "execution_count": null,
      "outputs": []
    },
    {
      "cell_type": "code",
      "source": [
        "#16.\tPython program to interchange first and last elements in a list\n",
        "\n",
        "l=[12,13,14,15,16,17,10]\n",
        "k=l.pop(0)\n",
        "l.append(k)\n",
        "\n",
        "p=l.pop(-2)\n",
        "l.insert(0,p)\n",
        "l\n",
        "#  ------------------ or ------------------\n",
        "\n",
        "#  a=[10,20,30,40]\n",
        "# a[0],a[3]=a[3],a[0]\n",
        "# a"
      ],
      "metadata": {
        "id": "47afGbYRN8g_"
      },
      "execution_count": null,
      "outputs": []
    },
    {
      "cell_type": "code",
      "source": [
        "# 17.\tPython program to swap two elements in a list\n",
        "\n",
        "a=[10,20]\n",
        "a[0],a[1]=a[1],a[0]\n",
        "print(a[0],a[1])"
      ],
      "metadata": {
        "id": "VCJuUr8hOf3J"
      },
      "execution_count": null,
      "outputs": []
    },
    {
      "cell_type": "code",
      "source": [
        "# 18.\tPython | Ways to find length of list\n",
        "\n",
        "# a=[10,20,30,40]\n",
        "# b=[]\n",
        "# len=0\n",
        "# print(len(a))\n",
        "# -------------------------------\n",
        "# for i in a:\n",
        "#   b.append(i)\n",
        "#   len+=1\n",
        "# len\n",
        "# ---------------------------------\n",
        "# count=0\n",
        "# for _ in a:\n",
        "#   count+=1\n",
        "# count"
      ],
      "metadata": {
        "id": "OaBSoTzjQd-c"
      },
      "execution_count": null,
      "outputs": []
    },
    {
      "cell_type": "code",
      "source": [
        "###19.\tPython | Ways to check if element exists in list\n",
        "l = [1, 2, 3, 4, 5]\n",
        "i=int(input())\n",
        "if i in l:\n",
        "  print('yes')\n",
        "else:\n",
        "  print('no')\n",
        "\n",
        "----------------------------------\n",
        "my_list = [1, 2, 3, 4, 5]\n",
        "element = 3\n",
        "for item in my_list:\n",
        "    if item == element:\n",
        "        print(\"Element exists in the list\")\n",
        "        break\n",
        "else:\n",
        "    print(\"Element does not exist in the list\")\n"
      ],
      "metadata": {
        "id": "sq3ZSaFgQ38D"
      },
      "execution_count": null,
      "outputs": []
    },
    {
      "cell_type": "code",
      "source": [
        "# # 20.\tDifferent ways to clear a list in Python\n",
        "# my_list = [1, 2, 3, 4, 5]\n",
        "# my_list.clear()\n",
        "# print(f\"{my_list}\")\n",
        "# -----------------------------------\n",
        "# my_list = [1, 2, 3, 4, 5]\n",
        "# del my_list[:]\n",
        "# print(f\"Cleared list:{ my_list}\")\n",
        "\n",
        "\n",
        "# ---------------------------------\n",
        "# l=[10,20,30,50,55,22]\n",
        "# l=[]\n",
        "# l\n",
        "# =====================================\n",
        "# l=[10,20,30,50,55,22]\n",
        "# for i in range (len(l)-1,-1,-1):\n",
        "#   l.pop(i)\n",
        "\n",
        "# l\n",
        "# =====================================\n",
        "\n",
        "# l=[10,20,30,50,55,22]\n",
        "# for i in l.copy():\n",
        "#   l.remove(i)\n",
        "# l\n",
        "\n",
        "# =========================================\n",
        "\n",
        "\n",
        "\n",
        "\n"
      ],
      "metadata": {
        "id": "96mr4qUDUnQI"
      },
      "execution_count": null,
      "outputs": []
    },
    {
      "cell_type": "code",
      "source": [
        "# 21.\tPython | Reversing a List\n",
        "# l=[10,20,30,50,55,22]\n",
        "# l.reverse()\n",
        "# l\n",
        "\n",
        "# l=[10,20,30,50,55,22]\n",
        "# k=l[::-1]\n",
        "# k\n",
        "\n",
        "# l=[10,20,30,50,55,22]\n",
        "# rev=[]\n",
        "# for i in range(len(l)-1,-1,-1):\n",
        "#   rev.append(l[i])\n",
        "# rev\n",
        "\n",
        "\n",
        "# l=[10,20,30,50,55,22]\n",
        "# h=list(reversed(l))\n",
        "# h\n",
        "\n",
        "# l=[10,20,30,50,55,22]\n",
        "# rev=[]\n",
        "# while l:\n",
        "#   rev.append(l.pop())\n",
        "# rev\n"
      ],
      "metadata": {
        "id": "BSRP7-28Iz17"
      },
      "execution_count": null,
      "outputs": []
    },
    {
      "cell_type": "code",
      "source": [
        "l1=[10,20,30]\n",
        "l2=[40,50,60]\n",
        "l3=[]\n",
        "i=0\n",
        "for i in range(len(l1)):\n",
        "  op=l1[i]+l2[i]\n",
        "  l3.append(op)\n",
        "l3\n"
      ],
      "metadata": {
        "id": "2DVn-LODTeJR"
      },
      "execution_count": null,
      "outputs": []
    },
    {
      "cell_type": "code",
      "source": [
        "d='ashutosh'\n",
        "g=[]\n",
        "for i in d:\n",
        "  g.append(i)\n",
        "for i in range(len(g)):\n",
        "  print(f\"{i}---->{g[i]}\")\n"
      ],
      "metadata": {
        "id": "Dp7XzzL-gHPY"
      },
      "execution_count": null,
      "outputs": []
    },
    {
      "cell_type": "code",
      "source": [
        "a='rushikesh'\n",
        "for k,v in enumerate(a):\n",
        "  print(k,'-->',v)"
      ],
      "metadata": {
        "id": "bjpfpE-6kDky"
      },
      "execution_count": null,
      "outputs": []
    },
    {
      "cell_type": "code",
      "source": [
        "# 23.\tPython | Multiply all numbers in the list\n",
        "\n",
        "l=[1,2,3,4,5]\n",
        "res=1\n",
        "for i in l:\n",
        "  res*=i\n",
        "print(res)"
      ],
      "metadata": {
        "id": "l06qxkkpk7v9"
      },
      "execution_count": null,
      "outputs": []
    },
    {
      "cell_type": "code",
      "source": [
        "# 24.\tPython program to find smallest number in a list\n",
        "l=[10,20,30,50,55,22]\n",
        "min=l[0]\n",
        "for i in l:\n",
        "  if i<min:\n",
        "    min=i\n",
        "print(min)\n",
        "\n",
        "# =================================\n",
        "\n",
        "# my_list = [5, 3, 9, 1, 7]\n",
        "# smallest_number = min(my_list)\n",
        "# print(smallest_number)\n",
        "\n",
        "# =================================\n",
        "\n"
      ],
      "metadata": {
        "id": "FE2LR5p0oL4x"
      },
      "execution_count": null,
      "outputs": []
    },
    {
      "cell_type": "code",
      "source": [
        "# # 25.\tPython program to find largest number in a list\n",
        "\n",
        "l=[10,20,30,50,55,22]\n",
        "max=l[0]\n",
        "for i in l:\n",
        "  if i>max:\n",
        "    max=i\n",
        "print(max)\n",
        "\n",
        "# =====================================\n",
        "\n",
        "\n",
        "# l=[10,20,30,50,55,22]\n",
        "# print(max(l))\n",
        "# ===============================\n",
        "\n",
        "l = [10, 20, 30, 50, 55, 22]\n",
        "unique_nums = set(l)\n",
        "sorted_nums = sorted(unique_nums)\n",
        "largest=sorted_nums[-1]\n",
        "print(largest)\n",
        "\n"
      ],
      "metadata": {
        "id": "S7qsSW2lQjhZ"
      },
      "execution_count": null,
      "outputs": []
    },
    {
      "cell_type": "code",
      "source": [
        "# # 26.\tPython program to find second largest number in a list\n",
        "\n",
        "# l = [10, 20, 30, 50, 55, 22]\n",
        "# max_num = l[0]\n",
        "# second_max = l[0]\n",
        "\n",
        "# for num in l:\n",
        "#     if num > max_num:\n",
        "#         second_max = max_num\n",
        "#         max_num = num\n",
        "#     elif num > second_max and num < max_num:\n",
        "#         second_max = num\n",
        "\n",
        "# print(second_max)\n",
        "\n",
        "\n",
        "# =================================\n",
        "\n",
        "l = [10, 20, 30, 50, 55, 22]\n",
        "unique_nums = set(l)\n",
        "sorted_nums = sorted(unique_nums)\n",
        "second_largest = sorted_nums[-2]\n",
        "\n",
        "print(second_largest)\n"
      ],
      "metadata": {
        "id": "PPW1-TnEReyW"
      },
      "execution_count": null,
      "outputs": []
    },
    {
      "cell_type": "code",
      "source": [
        "# 27.\tPython program to find N largest elements from a list\n",
        "\n",
        "def find_n_largest_elements(numbers, N):\n",
        "    if N <= 0 or len(numbers) == 0:\n",
        "        return []\n",
        "\n",
        "    numbers.sort(reverse=True)\n",
        "    return numbers[:N]\n",
        "\n",
        "#\n",
        "my_list = [10, 30, 20, 50, 40, 60, 70]\n",
        "N = 3\n",
        "n_largest_elements = find_n_largest_elements(my_list, N)\n",
        "print(n_largest_elements)\n"
      ],
      "metadata": {
        "id": "9JMO3OJGSYn2"
      },
      "execution_count": null,
      "outputs": []
    },
    {
      "cell_type": "code",
      "source": [
        "# 6) Reverse string by loop\n",
        "\n",
        "g=\"ashu\"\n",
        "k=[]\n",
        "for i in g:\n",
        "  k.append(i)\n",
        "k[::-1]"
      ],
      "metadata": {
        "id": "ZOUMHERvTykb"
      },
      "execution_count": null,
      "outputs": []
    },
    {
      "cell_type": "code",
      "source": [
        "# 7) In a list there is a string, print 5 times that string into list\n",
        "g=['ashu']\n",
        "m=g*5\n",
        "m"
      ],
      "metadata": {
        "id": "Psd8iR3beVpM"
      },
      "execution_count": null,
      "outputs": []
    },
    {
      "cell_type": "code",
      "source": [
        "# input=\"komal\"\n",
        "# # output=k-o-m-a-l\n",
        "\n",
        "# strr=(input())\n",
        "# l=[]\n",
        "# for i in strr:\n",
        "#   l.append(i)\n",
        "# for i in l:\n",
        "#   print(i+('-'),end=\" \")\n",
        "\n",
        "# --------------------------\n",
        "input_string = input(\"Enter a string: \")  # Prompt the user for input\n",
        "\n",
        "output_string = \"-\".join([x for x in input_string])\n",
        "\n",
        "print(output_string)\n"
      ],
      "metadata": {
        "id": "hKt0QVk0giNZ"
      },
      "execution_count": null,
      "outputs": []
    },
    {
      "cell_type": "code",
      "source": [
        "abc=\"komal\"\n",
        "123=\"komal\"\n",
        "print(abc)\n",
        "print(123)"
      ],
      "metadata": {
        "id": "WvO-LFEj4YQQ"
      },
      "execution_count": null,
      "outputs": []
    },
    {
      "cell_type": "code",
      "source": [
        "l=[10,20,30]\n",
        "m=[2,5,8]\n",
        "\n",
        "for a,b in zip(l,m):\n",
        "  print(a,b)"
      ],
      "metadata": {
        "id": "T3LmWeRY5_Hy"
      },
      "execution_count": null,
      "outputs": []
    },
    {
      "cell_type": "code",
      "source": [
        "# shalliow and deep copy\n",
        "import copy\n",
        "\n",
        "l=[10,20,30,[10,20]]\n",
        "l_copy=copy.copy(l)\n",
        "\n",
        "l_copy[1]=50\n",
        "l_copy[3].append(100)\n",
        "print((l))\n",
        "print((l_copy))\n"
      ],
      "metadata": {
        "id": "UZTkjwSVdJW_",
        "colab": {
          "base_uri": "https://localhost:8080/"
        },
        "outputId": "c06c679e-752f-4247-d8a4-1a8967ab1e3e"
      },
      "execution_count": null,
      "outputs": [
        {
          "output_type": "stream",
          "name": "stdout",
          "text": [
            "[10, 20, 30, [10, 20, 100]]\n",
            "[10, 50, 30, [10, 20, 100]]\n"
          ]
        }
      ]
    },
    {
      "cell_type": "code",
      "source": [
        "import copy\n",
        "\n",
        "l=[10,20,30,[10,20]]\n",
        "l_copy=copy.deepcopy(l)\n",
        "\n",
        "l_copy[1]=50\n",
        "l_copy[3].append(100)\n",
        "print((l))\n",
        "print((l_copy))\n"
      ],
      "metadata": {
        "id": "udHhM5Vsd9Rn",
        "colab": {
          "base_uri": "https://localhost:8080/"
        },
        "outputId": "a26308f6-2558-46bd-a86e-39fd87c16918"
      },
      "execution_count": null,
      "outputs": [
        {
          "output_type": "stream",
          "name": "stdout",
          "text": [
            "[10, 20, 30, [10, 20]]\n",
            "[10, 50, 30, [10, 20, 100]]\n"
          ]
        }
      ]
    },
    {
      "cell_type": "code",
      "source": [
        "strr='ashutosh'\n",
        "# for i,x in enumerate(strr):\n",
        "#   print(i,'==',x)\n",
        "\n",
        "# or\n",
        "\n",
        "for i in range(len(strr)):\n",
        "  print(i,'=',strr[i])"
      ],
      "metadata": {
        "id": "_xQO_cswfIBa"
      },
      "execution_count": null,
      "outputs": []
    },
    {
      "cell_type": "code",
      "source": [
        "s={10,20,30}\n",
        "# print(type(s))\n",
        "s.add(80)\n",
        "s"
      ],
      "metadata": {
        "id": "Wr294LsZFMhY"
      },
      "execution_count": null,
      "outputs": []
    },
    {
      "cell_type": "code",
      "source": [
        "strr='ashutosh'\n",
        "for i in range(len(strr)-1,-1,-1):\n",
        "  print(strr[i],end='')"
      ],
      "metadata": {
        "id": "g-8p-3uEVoto"
      },
      "execution_count": null,
      "outputs": []
    },
    {
      "cell_type": "code",
      "source": [
        "s='ashutosh'\n",
        "str(s[::-1])"
      ],
      "metadata": {
        "id": "y386aMRcWNEI"
      },
      "execution_count": null,
      "outputs": []
    },
    {
      "cell_type": "code",
      "source": [
        "s = 'ashutosh'\n",
        "output = str(s[::-1]).replace(' ',)\n",
        "print(output)\n"
      ],
      "metadata": {
        "id": "HbXtAtalWbxT"
      },
      "execution_count": null,
      "outputs": []
    },
    {
      "cell_type": "code",
      "source": [
        "# input=aaabbc\n",
        "#output= 3a2b1c\n",
        "from itertools import groupby\n",
        "\n",
        "input_str = 'aaabbc'\n",
        "result = \"\"\n",
        "for char, group in groupby(string):\n",
        "        count = len(list(group))\n",
        "        result += str(count) + char\n",
        "\n",
        "\n",
        "\n",
        "\n",
        "\n",
        "\n",
        "\n"
      ],
      "metadata": {
        "id": "Kahr2az1XXKR",
        "colab": {
          "base_uri": "https://localhost:8080/"
        },
        "outputId": "397f2f4a-c1c2-4d7f-8891-d8c3a11c724a"
      },
      "execution_count": null,
      "outputs": [
        {
          "output_type": "stream",
          "name": "stdout",
          "text": [
            "Output: 3a2b1c\n"
          ]
        }
      ]
    },
    {
      "cell_type": "code",
      "source": [
        "#decorator\n",
        "\n",
        "def uppercase_decorator(func):\n",
        "    def wrapper():\n",
        "        return func().upper()\n",
        "    return wrapper\n",
        "\n",
        "@uppercase_decorator\n",
        "def func():\n",
        "    return \"hello\"\n",
        "\n",
        "# Test the decorated function\n",
        "greeting = func()\n",
        "print(greeting)\n"
      ],
      "metadata": {
        "id": "DrtCv5cFVOiL",
        "colab": {
          "base_uri": "https://localhost:8080/"
        },
        "outputId": "4e22a216-95ed-4293-8b11-c2aa41e4615a"
      },
      "execution_count": null,
      "outputs": [
        {
          "output_type": "stream",
          "name": "stdout",
          "text": [
            "HELLO\n"
          ]
        }
      ]
    },
    {
      "cell_type": "code",
      "source": [
        "v='decoratorc'\n",
        "for i in range(len(v)-1,-1,-1):\n",
        "  print(v[i],end='')\n",
        "\n"
      ],
      "metadata": {
        "colab": {
          "base_uri": "https://localhost:8080/"
        },
        "id": "C7FzUs_E57dk",
        "outputId": "db1262e5-9b93-4ee6-ffb0-056dfbad62f8"
      },
      "execution_count": null,
      "outputs": [
        {
          "output_type": "stream",
          "name": "stdout",
          "text": [
            "crotaroced"
          ]
        }
      ]
    },
    {
      "cell_type": "code",
      "source": [
        "v=['decoratorc']\n",
        "h=v*5\n",
        "h"
      ],
      "metadata": {
        "colab": {
          "base_uri": "https://localhost:8080/"
        },
        "id": "gaXKvOgR-pdS",
        "outputId": "4943d4c1-d4ac-4f96-e051-cd2802bfd4cd"
      },
      "execution_count": null,
      "outputs": [
        {
          "output_type": "execute_result",
          "data": {
            "text/plain": [
              "['decoratorc', 'decoratorc', 'decoratorc', 'decoratorc', 'decoratorc']"
            ]
          },
          "metadata": {},
          "execution_count": 19
        }
      ]
    },
    {
      "cell_type": "code",
      "source": [
        "def upper_deco(func):\n",
        "  def wrapper():\n",
        "    return func().upper()\n",
        "  return wrapper\n",
        "\n",
        "\n",
        "@upper_deco\n",
        "def func():\n",
        "  return 'hello sir'\n",
        "\n",
        "greet=func()\n",
        "print(greet)"
      ],
      "metadata": {
        "colab": {
          "base_uri": "https://localhost:8080/"
        },
        "id": "Y_CPYctKHq9N",
        "outputId": "a567ee62-7fbe-418d-8ecd-22aeb7785efe"
      },
      "execution_count": null,
      "outputs": [
        {
          "output_type": "stream",
          "name": "stdout",
          "text": [
            "HELLO SIR\n"
          ]
        }
      ]
    },
    {
      "cell_type": "code",
      "source": [
        "i=[1,2,5,3,5,2,8]\n",
        "lst=iter(i)\n",
        "next(lst)\n",
        "next(lst)\n",
        "next(lst)    ### iterator\n",
        "next(lst)\n"
      ],
      "metadata": {
        "colab": {
          "base_uri": "https://localhost:8080/"
        },
        "id": "m8tEwtvSK13z",
        "outputId": "fb4b9480-7cb8-4add-bf41-bb4b421d8390"
      },
      "execution_count": null,
      "outputs": [
        {
          "output_type": "execute_result",
          "data": {
            "text/plain": [
              "3"
            ]
          },
          "metadata": {},
          "execution_count": 31
        }
      ]
    },
    {
      "cell_type": "code",
      "source": [
        "def gen(n):\n",
        "  for i in range (n):\n",
        "    yield i**2\n",
        "\n",
        "\n",
        "a=gen(5)     ### generator\n",
        "next(a)\n",
        "next(a)\n",
        "next(a)\n",
        "next(a)"
      ],
      "metadata": {
        "colab": {
          "base_uri": "https://localhost:8080/"
        },
        "id": "5GHGBYowLVI9",
        "outputId": "8f4c595f-f286-4c07-b40c-08831a54dc45"
      },
      "execution_count": null,
      "outputs": [
        {
          "output_type": "execute_result",
          "data": {
            "text/plain": [
              "9"
            ]
          },
          "metadata": {},
          "execution_count": 33
        }
      ]
    },
    {
      "cell_type": "code",
      "source": [
        "## class constructor\n",
        "\n",
        "class emp:\n",
        "  def __init__(self):   #NON PARAMETERIZED CONSTRUCTION\n",
        "    self.salary=20000\n",
        "    self.name=\"ashutosh\"\n",
        "\n",
        "e1=emp()\n",
        "e2=emp()\n",
        "print(e1.__dict__)\n",
        "print(e2.__dict__)"
      ],
      "metadata": {
        "colab": {
          "base_uri": "https://localhost:8080/"
        },
        "id": "VuVcNEzaLyKp",
        "outputId": "3ba5c112-db78-46d2-9903-97352cee615b"
      },
      "execution_count": null,
      "outputs": [
        {
          "output_type": "stream",
          "name": "stdout",
          "text": [
            "{'salary': 20000, 'name': 'ashutosh'}\n",
            "{'salary': 20000, 'name': 'ashutosh'}\n"
          ]
        }
      ]
    },
    {
      "cell_type": "code",
      "source": [
        "class emp:\n",
        "  def __init__(self,sal,name):\n",
        "    self._salary=sal\n",
        "    self.__name=name\n",
        "e1=emp(20000,'ashu')\n",
        "e2=emp(50000,'bhushu')\n",
        "e3=emp(70000,'sauru')\n",
        "\n",
        "\n",
        "print(e1.__dict__)\n",
        "print(e2.__dict__)\n",
        "print(e3.__dict__)"
      ],
      "metadata": {
        "colab": {
          "base_uri": "https://localhost:8080/"
        },
        "id": "9C_C6Ii-MABO",
        "outputId": "133746a3-0521-47ae-fc4a-9b01fdbf8d03"
      },
      "execution_count": null,
      "outputs": [
        {
          "output_type": "stream",
          "name": "stdout",
          "text": [
            "{'_salary': 20000, '_emp__name': 'ashu'}\n",
            "{'_salary': 50000, '_emp__name': 'bhushu'}\n",
            "{'_salary': 70000, '_emp__name': 'sauru'}\n"
          ]
        }
      ]
    },
    {
      "cell_type": "code",
      "source": [
        "class emp:\n",
        "  bonus=2000\n",
        "  def display(self):\n",
        "    print('this is parent class')\n",
        "\n",
        "class manager():\n",
        "  bonus=5000\n",
        "  def show(self):\n",
        "    print('this is a child class ')\n",
        "\n",
        "e1=emp()\n",
        "m1=manager()\n",
        "e1.bonus\n",
        "m1.bonus"
      ],
      "metadata": {
        "colab": {
          "base_uri": "https://localhost:8080/"
        },
        "id": "_CNAblBeJnTv",
        "outputId": "bd9ea198-2f10-4489-bdb3-c9a31a8718c6"
      },
      "execution_count": null,
      "outputs": [
        {
          "output_type": "execute_result",
          "data": {
            "text/plain": [
              "5000"
            ]
          },
          "metadata": {},
          "execution_count": 11
        }
      ]
    },
    {
      "cell_type": "code",
      "source": [
        "class emp:\n",
        "  bonus=2000\n",
        "  def display(self):\n",
        "    print('this is parent class')\n",
        "\n",
        "class manager(emp):\n",
        "  bonus=5000\n",
        "  def show(self):\n",
        "    print('this is a child class')\n",
        "\n",
        "e1=emp()\n",
        "m1=manager()\n",
        "\n",
        "m1.display()\n",
        "m1.show()"
      ],
      "metadata": {
        "colab": {
          "base_uri": "https://localhost:8080/"
        },
        "id": "Ukk0cYNkPusY",
        "outputId": "fa0fb466-b50e-49f6-9dc8-707ccc8c1bf5"
      },
      "execution_count": null,
      "outputs": [
        {
          "output_type": "stream",
          "name": "stdout",
          "text": [
            "this is parent class\n",
            "this is a child class\n"
          ]
        }
      ]
    },
    {
      "cell_type": "code",
      "source": [
        "# ENCAPSULATION ACHIEVED\n",
        "class finance:\n",
        "  def __init__(self):\n",
        "    self.__revenue=1000000  #private data\n",
        "    self.sales=135\n",
        "\n",
        "  def display(self):\n",
        "     print(f\"revenue is {self.__revenue}\")\n",
        "\n",
        "class hr:\n",
        "  def __init__(self):\n",
        "    self.emp_no=800\n",
        "\n",
        "h1=hr()\n",
        "f1=finance()\n",
        "\n",
        "print(h1.__dict__)\n",
        "\n",
        "f1.sales\n",
        "f1=finance()\n",
        "\n",
        "f1.display()"
      ],
      "metadata": {
        "colab": {
          "base_uri": "https://localhost:8080/"
        },
        "id": "-2fgkUyOQmtf",
        "outputId": "14b89cb4-d319-4e2a-dea8-ab807a826fa1"
      },
      "execution_count": null,
      "outputs": [
        {
          "output_type": "stream",
          "name": "stdout",
          "text": [
            "{'emp_no': 800}\n",
            "revenue is 1000000\n"
          ]
        }
      ]
    },
    {
      "cell_type": "code",
      "source": [
        " # ENCAPSULATION ACHIEVED\n",
        "class finance:\n",
        "  def __init__(self):\n",
        "    self.__revenue=1000000  #private data\n",
        "    self.sales=135\n",
        "\n",
        "  def display(self):\n",
        "     print(f\"revenue is {self.__revenue}\")\n",
        "\n",
        "\n",
        "class hr:\n",
        "  def __init__(self):\n",
        "    self.no_emp=32\n",
        "\n",
        "h1=hr()\n",
        "print(h1.__dict__)\n",
        "\n",
        "# f1.revenue  #-------------> class finance does not have attribute like revenue\n",
        "                            # its become strong private so not visisble\n",
        "\n",
        "# f1.__revenue # ------------> also unable to print this\n",
        "\n",
        "## so to access the str private element we add other function to display it\n",
        "f1=finance()\n",
        "\n",
        "f1.display()\n"
      ],
      "metadata": {
        "colab": {
          "base_uri": "https://localhost:8080/"
        },
        "id": "9Aqbwsw_c_1p",
        "outputId": "4e0bb6f4-ed47-44db-880f-5e9df242258b"
      },
      "execution_count": null,
      "outputs": [
        {
          "output_type": "stream",
          "name": "stdout",
          "text": [
            "{'no_emp': 32}\n",
            "revenue is 1000000\n"
          ]
        }
      ]
    },
    {
      "cell_type": "code",
      "source": [
        "## abstraction\n",
        "#note:= we can not create an object of abstarct class\n",
        "\n",
        "from abc import ABC,abstractmethod\n",
        "\n",
        "class car(ABC):\n",
        "  @abstractmethod\n",
        "  def milage(self):\n",
        "    pass\n",
        "\n",
        "  def colour(self):\n",
        "    print('white')\n",
        "\n",
        "class maruti_suzuki(car):\n",
        "  def milage(self):\n",
        "    print('milage is 30kmph')\n",
        "\n",
        "  def colour(self):\n",
        "      print('PURPLE')\n",
        "\n",
        "class tata(car):\n",
        "  def milage(self):\n",
        "    print('milage is 40kmph')\n",
        "\n",
        "  def colour(self):\n",
        "      print('RED')\n",
        "\n",
        "class mahindra (car):\n",
        "  def milage(self):\n",
        "    print('milage is 50kmph')\n",
        "\n",
        "  def colour(self):\n",
        "    print('YELLOW')\n",
        "\n",
        "m1=maruti_suzuki()\n",
        "t1=tata()\n",
        "mahi=mahindra()\n",
        "\n",
        "\n",
        "# m1.milage()   #-----> milage is 30 kmph\n",
        "\n",
        "# t1.milage()     #---->milage is 40 kmph\n",
        "\n",
        "# mahi.milage()    #---->milage is 50 kmph\n",
        "\n",
        "#====================================================##==============###\n",
        "\n",
        "m1.colour()      #----> WHITE\n",
        "t1.colour()      #----> WHITE\n",
        "mahi.colour()    #----> WHITE"
      ],
      "metadata": {
        "id": "xDNVCgvod-7g",
        "colab": {
          "base_uri": "https://localhost:8080/"
        },
        "outputId": "af1bd08d-fc18-45ed-c3d9-84ee1256e87e"
      },
      "execution_count": null,
      "outputs": [
        {
          "output_type": "stream",
          "name": "stdout",
          "text": [
            "PURPLE\n",
            "RED\n",
            "YELLOW\n"
          ]
        }
      ]
    },
    {
      "cell_type": "code",
      "source": [
        "def fact(n):\n",
        "  if n==0:\n",
        "    return 1\n",
        "  else:\n",
        "    return n*fact(n-1)\n",
        "fact(5)"
      ],
      "metadata": {
        "colab": {
          "base_uri": "https://localhost:8080/"
        },
        "id": "PAD4cB26BrqK",
        "outputId": "7bb45624-0a97-4701-d84d-0c7da4bdbea7"
      },
      "execution_count": null,
      "outputs": [
        {
          "output_type": "execute_result",
          "data": {
            "text/plain": [
              "120"
            ]
          },
          "metadata": {},
          "execution_count": 21
        }
      ]
    },
    {
      "cell_type": "code",
      "source": [
        "s=lambda x:x*x\n",
        "print(s(4))"
      ],
      "metadata": {
        "colab": {
          "base_uri": "https://localhost:8080/"
        },
        "id": "Dw6IRHs6OgUR",
        "outputId": "bc7121a7-7d61-49fe-845a-05cbe880ea79"
      },
      "execution_count": null,
      "outputs": [
        {
          "output_type": "stream",
          "name": "stdout",
          "text": [
            "16\n"
          ]
        }
      ]
    },
    {
      "cell_type": "code",
      "source": [
        "c=lambda x,y:x+y\n",
        "print(c(5,6))"
      ],
      "metadata": {
        "colab": {
          "base_uri": "https://localhost:8080/"
        },
        "id": "e1Ru4d-FOwQW",
        "outputId": "4a82f789-e40e-4be1-80b8-848c1ee3322f"
      },
      "execution_count": null,
      "outputs": [
        {
          "output_type": "stream",
          "name": "stdout",
          "text": [
            "11\n"
          ]
        }
      ]
    },
    {
      "cell_type": "code",
      "source": [
        "s=lambda x,y:x if x>y else y\n",
        "s(100,20)"
      ],
      "metadata": {
        "colab": {
          "base_uri": "https://localhost:8080/"
        },
        "id": "unEJ6MRTPALg",
        "outputId": "705d28a9-a0f5-4e3a-a129-b03f5014ecae"
      },
      "execution_count": null,
      "outputs": [
        {
          "output_type": "execute_result",
          "data": {
            "text/plain": [
              "100"
            ]
          },
          "metadata": {},
          "execution_count": 34
        }
      ]
    },
    {
      "cell_type": "code",
      "source": [
        "# ## filter / map / reduce\n",
        "# ## FILTER :->\n",
        "# ## even no\n",
        "# # a=[1,2,3,4,5,6,7,8,9,10]\n",
        "# # v=list(filter(lambda x:x%2==0,a))\n",
        "# # v\n",
        "\n",
        "# ## odd no\n",
        "\n",
        "# # a=[1,2,3,4,5,6,7,8,9,10]\n",
        "# # c=list(filter(lambda x: x%2!=0,a))\n",
        "# # c\n",
        "\n",
        "\n",
        "# note:==>  FOR FILTER THERE IS MINIMUM OUTPUT FOR THE GIVEN INPUT LIKE\n",
        "#        IF INPUT=[1,2,3,4,5,6]  -> 6\n",
        "#           OUTPUT [2,4,6] -->3\n"
      ],
      "metadata": {
        "colab": {
          "base_uri": "https://localhost:8080/"
        },
        "id": "X5iBLHNsPzSm",
        "outputId": "8652d975-e74f-4f75-bfa8-077de87f2cef"
      },
      "execution_count": null,
      "outputs": [
        {
          "output_type": "execute_result",
          "data": {
            "text/plain": [
              "[1, 3, 5, 7, 9]"
            ]
          },
          "metadata": {},
          "execution_count": 46
        }
      ]
    },
    {
      "cell_type": "code",
      "source": [
        "# ## REDUCE\n",
        "\n",
        "# from functools import *\n",
        "# s=[10,20,30,40,54,80,60]\n",
        "# g=(reduce(lambda x,y:x+y,s))\n",
        "# g\n",
        "\n",
        "\n",
        "\n",
        "# note:==>  FOR REDUCE THERE IS EXACT ONE NO OF  OUTPUT FOR THE GIVEN INPUT LIKE\n",
        "#        IF INPUT=[1,2,3,4,5,6]  -> 6\n",
        "#           OUTPUT [21] -->6\n"
      ],
      "metadata": {
        "colab": {
          "base_uri": "https://localhost:8080/"
        },
        "id": "P-MjDluccUjS",
        "outputId": "ace84bc5-5a34-4aab-b06b-28948d00af83"
      },
      "execution_count": null,
      "outputs": [
        {
          "output_type": "execute_result",
          "data": {
            "text/plain": [
              "294"
            ]
          },
          "metadata": {},
          "execution_count": 56
        }
      ]
    },
    {
      "cell_type": "code",
      "source": [
        "# with open\n",
        "f=open('Spark.txt_IMP_BHUSHAN.txt','w')\n",
        "print(f.name)\n",
        "print(f.mode)\n",
        "print(f.closed)\n",
        "f.close()\n",
        "print(f.closed)\n",
        "\n"
      ],
      "metadata": {
        "id": "n59zqePheGbI",
        "colab": {
          "base_uri": "https://localhost:8080/"
        },
        "outputId": "0db4e467-a3d3-44ec-801c-fda53506cbf8"
      },
      "execution_count": null,
      "outputs": [
        {
          "output_type": "stream",
          "name": "stdout",
          "text": [
            "Spark.txt_IMP_BHUSHAN.txt\n",
            "w\n",
            "False\n",
            "True\n"
          ]
        }
      ]
    },
    {
      "cell_type": "code",
      "source": [
        "#with open as\n",
        "\n",
        "with open ('Spark.txt_IMP_BHUSHAN.txt','w') as op:\n",
        "  print(f.name)\n",
        "  print(f.mode)\n",
        "  print(f.writable())\n",
        "  # print(f.readable())\n",
        "\n",
        "\n",
        "  # print(f.closed) #====> auto closer .\n",
        "  # f.close()\n",
        "  # print(f.closed)\n",
        "  # print(f.readable())\n",
        "\n",
        "\n"
      ],
      "metadata": {
        "colab": {
          "base_uri": "https://localhost:8080/",
          "height": 269
        },
        "id": "Z1nbD_fY5-XX",
        "outputId": "f10adfc8-0fe4-408a-d5bb-3a7257f4713d"
      },
      "execution_count": null,
      "outputs": [
        {
          "output_type": "stream",
          "name": "stdout",
          "text": [
            "Spark.txt_IMP_BHUSHAN.txt\n",
            "w\n"
          ]
        },
        {
          "output_type": "error",
          "ename": "ValueError",
          "evalue": "ignored",
          "traceback": [
            "\u001b[0;31m---------------------------------------------------------------------------\u001b[0m",
            "\u001b[0;31mValueError\u001b[0m                                Traceback (most recent call last)",
            "\u001b[0;32m<ipython-input-20-1d2ac64cb7bd>\u001b[0m in \u001b[0;36m<cell line: 3>\u001b[0;34m()\u001b[0m\n\u001b[1;32m      4\u001b[0m   \u001b[0mprint\u001b[0m\u001b[0;34m(\u001b[0m\u001b[0mf\u001b[0m\u001b[0;34m.\u001b[0m\u001b[0mname\u001b[0m\u001b[0;34m)\u001b[0m\u001b[0;34m\u001b[0m\u001b[0;34m\u001b[0m\u001b[0m\n\u001b[1;32m      5\u001b[0m   \u001b[0mprint\u001b[0m\u001b[0;34m(\u001b[0m\u001b[0mf\u001b[0m\u001b[0;34m.\u001b[0m\u001b[0mmode\u001b[0m\u001b[0;34m)\u001b[0m\u001b[0;34m\u001b[0m\u001b[0;34m\u001b[0m\u001b[0m\n\u001b[0;32m----> 6\u001b[0;31m   \u001b[0mprint\u001b[0m\u001b[0;34m(\u001b[0m\u001b[0mf\u001b[0m\u001b[0;34m.\u001b[0m\u001b[0mwritable\u001b[0m\u001b[0;34m(\u001b[0m\u001b[0;34m)\u001b[0m\u001b[0;34m)\u001b[0m\u001b[0;34m\u001b[0m\u001b[0;34m\u001b[0m\u001b[0m\n\u001b[0m\u001b[1;32m      7\u001b[0m   \u001b[0;31m# print(f.readable())\u001b[0m\u001b[0;34m\u001b[0m\u001b[0;34m\u001b[0m\u001b[0m\n\u001b[1;32m      8\u001b[0m \u001b[0;34m\u001b[0m\u001b[0m\n",
            "\u001b[0;31mValueError\u001b[0m: I/O operation on closed file"
          ]
        }
      ]
    },
    {
      "cell_type": "code",
      "source": [
        "with open ('sandy.txt','w')as wp:\n",
        "  wp.write('ashutosh ghodke')\n",
        "  print('writing operation is completed ')\n",
        "\n",
        "\n",
        "### now reading\n",
        "\n",
        "with open('sandy.txt','r')as red:\n",
        "  print(red.readline())\n"
      ],
      "metadata": {
        "colab": {
          "base_uri": "https://localhost:8080/"
        },
        "id": "QpaD1q_C8HG9",
        "outputId": "2be91877-c6f9-48ff-bd2b-31192f285017"
      },
      "execution_count": null,
      "outputs": [
        {
          "output_type": "stream",
          "name": "stdout",
          "text": [
            "writing operation is completed \n",
            "ashutosh ghodke\n"
          ]
        }
      ]
    },
    {
      "cell_type": "code",
      "source": [
        "## for iterable #write operation\n",
        "\n",
        "lst=[10,20,30,'ashu','maya','sandy']\n",
        "tup=('sauru','pravin',1,2)\n",
        "sett={'abc','sfr',50,60}\n",
        "dictt={'maya':'baby','love':'ashu'}\n",
        "\n",
        "\n",
        "with open('sandy1.txt','w') as wp:\n",
        "  wp.writelines(str(lst))\n",
        "  wp.writelines(str(lst))\n",
        "  wp.writelines(str(tup))\n",
        "  wp.writelines(str(sett))\n",
        "  wp.writelines(str(dictt))\n",
        "\n",
        "o=open('sandy1.txt','r')\n",
        "print(o.read())\n",
        "\n",
        "\n"
      ],
      "metadata": {
        "colab": {
          "base_uri": "https://localhost:8080/"
        },
        "id": "Zo_S32Ls9HhU",
        "outputId": "6bc465c8-b6dc-4e2e-8a0d-dba54a44ee41"
      },
      "execution_count": null,
      "outputs": [
        {
          "output_type": "stream",
          "name": "stdout",
          "text": [
            "[10, 20, 30, 'ashu', 'maya', 'sandy'][10, 20, 30, 'ashu', 'maya', 'sandy']('sauru', 'pravin', 1, 2){50, 60, 'abc', 'sfr'}{'maya': 'baby', 'love': 'ashu'}\n"
          ]
        }
      ]
    },
    {
      "cell_type": "code",
      "source": [
        "o=open('sandy1.txt','r')\n",
        "print(o.read())\n",
        "x=[]\n",
        "for i in o:\n",
        "\n",
        "\n",
        "\n",
        "\n",
        "\n"
      ],
      "metadata": {
        "colab": {
          "base_uri": "https://localhost:8080/"
        },
        "id": "qkK5xW14Cvwz",
        "outputId": "14cea9de-c7de-47e5-87af-c19921b75991"
      },
      "execution_count": null,
      "outputs": [
        {
          "output_type": "stream",
          "name": "stdout",
          "text": [
            "[10, 20, 30, 'ashu', 'maya', 'sandy'][10, 20, 30, 'ashu', 'maya', 'sandy']('sauru', 'pravin', 1, 2){50, 60, 'abc', 'sfr'}{'maya': 'baby', 'love': 'ashu'}\n"
          ]
        }
      ]
    },
    {
      "cell_type": "code",
      "source": [
        "s='komal'\n",
        "k=[]\n",
        "for i in s:\n",
        "  k.append(i)\n",
        "y='-'.join(k)\n",
        "y"
      ],
      "metadata": {
        "colab": {
          "base_uri": "https://localhost:8080/",
          "height": 36
        },
        "id": "envLvN1NLRVC",
        "outputId": "aa378eaf-8596-47dc-a27b-e4fc843ef80b"
      },
      "execution_count": null,
      "outputs": [
        {
          "output_type": "execute_result",
          "data": {
            "text/plain": [
              "'k-o-m-a-l'"
            ],
            "application/vnd.google.colaboratory.intrinsic+json": {
              "type": "string"
            }
          },
          "metadata": {},
          "execution_count": 5
        }
      ]
    },
    {
      "cell_type": "code",
      "source": [
        "lst=[55,44,99,88,22,11,66]\n",
        "sorted(lst,reverse=True)\n"
      ],
      "metadata": {
        "id": "qKxcm8JMLXPX",
        "colab": {
          "base_uri": "https://localhost:8080/"
        },
        "outputId": "553c7727-1d9d-43f8-af9c-401a063bd13f"
      },
      "execution_count": null,
      "outputs": [
        {
          "output_type": "execute_result",
          "data": {
            "text/plain": [
              "[99, 88, 66, 55, 44, 22, 11]"
            ]
          },
          "metadata": {},
          "execution_count": 5
        }
      ]
    },
    {
      "cell_type": "code",
      "source": [
        "lst=[55,44,99,88,22,11,66]\n",
        "print(lst[1:3:1])"
      ],
      "metadata": {
        "colab": {
          "base_uri": "https://localhost:8080/"
        },
        "id": "5KwwDuU0Idz9",
        "outputId": "e2de6f2b-c2ed-4d4c-efe9-a58026cb1f84"
      },
      "execution_count": null,
      "outputs": [
        {
          "output_type": "stream",
          "name": "stdout",
          "text": [
            "[44, 99]\n"
          ]
        }
      ]
    },
    {
      "cell_type": "code",
      "source": [
        "lst=[55,44,99,88,22,11,66]\n",
        "print(lst[::-2])\n"
      ],
      "metadata": {
        "colab": {
          "base_uri": "https://localhost:8080/"
        },
        "id": "MYbqxSnkJSnu",
        "outputId": "98be1937-fd6d-4bb8-8f9b-cab8628366e8"
      },
      "execution_count": null,
      "outputs": [
        {
          "output_type": "stream",
          "name": "stdout",
          "text": [
            "[66, 22, 99, 55]\n"
          ]
        }
      ]
    },
    {
      "cell_type": "code",
      "source": [
        "lst=[55,44,99,88,22,11,66]\n",
        "sum(lst)\n",
        "max(lst)\n",
        "min(lst)\n",
        "# print(sorted(lst))\n"
      ],
      "metadata": {
        "colab": {
          "base_uri": "https://localhost:8080/"
        },
        "id": "MyrRwp3bKfDY",
        "outputId": "80ee955f-5379-4b21-bf19-ac242c301b29"
      },
      "execution_count": null,
      "outputs": [
        {
          "output_type": "execute_result",
          "data": {
            "text/plain": [
              "11"
            ]
          },
          "metadata": {},
          "execution_count": 19
        }
      ]
    },
    {
      "cell_type": "code",
      "source": [
        "lst=[55,44,99,88,22,11,66]\n",
        "lst.append([100,200,300])\n",
        "lst"
      ],
      "metadata": {
        "colab": {
          "base_uri": "https://localhost:8080/"
        },
        "id": "LKoVkq4HM-kZ",
        "outputId": "3c176f22-06f5-4c5e-b2ed-5d13104f0445"
      },
      "execution_count": null,
      "outputs": [
        {
          "output_type": "execute_result",
          "data": {
            "text/plain": [
              "[55, 44, 99, 88, 22, 11, 66, [100, 200, 300]]"
            ]
          },
          "metadata": {},
          "execution_count": 21
        }
      ]
    },
    {
      "cell_type": "code",
      "source": [
        "lst=[55,44,99,88,22,11,66]\n",
        "lst.append(100)\n",
        "lst"
      ],
      "metadata": {
        "colab": {
          "base_uri": "https://localhost:8080/"
        },
        "id": "cn4m3BIhNfdh",
        "outputId": "cde36810-46e9-4069-adfb-18a69d5dc466"
      },
      "execution_count": null,
      "outputs": [
        {
          "output_type": "execute_result",
          "data": {
            "text/plain": [
              "[55, 44, 99, 88, 22, 11, 66, 100]"
            ]
          },
          "metadata": {},
          "execution_count": 22
        }
      ]
    },
    {
      "cell_type": "code",
      "source": [
        "lst=[55,44,99,88,22,11,66]\n",
        "lst.extend([10,20,3])\n",
        "lst"
      ],
      "metadata": {
        "colab": {
          "base_uri": "https://localhost:8080/"
        },
        "id": "09T7CAC1NtNr",
        "outputId": "5e0a20a4-c8b4-4ff1-90a1-bb955e20a259"
      },
      "execution_count": null,
      "outputs": [
        {
          "output_type": "execute_result",
          "data": {
            "text/plain": [
              "[55, 44, 99, 88, 22, 11, 66, 10, 20, 3]"
            ]
          },
          "metadata": {},
          "execution_count": 28
        }
      ]
    },
    {
      "cell_type": "code",
      "source": [
        "lst=[55,44,99,88,22,11,66]\n",
        "lst.insert(2,100)\n",
        "lst"
      ],
      "metadata": {
        "colab": {
          "base_uri": "https://localhost:8080/"
        },
        "id": "OzA4ZHJOOE9B",
        "outputId": "266af1d5-6d56-4e7a-b6eb-c4bc0c182f43"
      },
      "execution_count": null,
      "outputs": [
        {
          "output_type": "execute_result",
          "data": {
            "text/plain": [
              "[55, 44, 100, 99, 88, 22, 11, 66]"
            ]
          },
          "metadata": {},
          "execution_count": 30
        }
      ]
    },
    {
      "cell_type": "code",
      "source": [
        "lst=[55,44,99,88,22,11,66]\n",
        "lst.insert(0,5000)\n",
        "lst"
      ],
      "metadata": {
        "colab": {
          "base_uri": "https://localhost:8080/"
        },
        "id": "nR0uynRHO16J",
        "outputId": "d15a4ed2-22cb-463b-c307-13add03cbb6c"
      },
      "execution_count": null,
      "outputs": [
        {
          "output_type": "execute_result",
          "data": {
            "text/plain": [
              "[5000, 55, 44, 99, 88, 22, 11, 66]"
            ]
          },
          "metadata": {},
          "execution_count": 32
        }
      ]
    },
    {
      "cell_type": "code",
      "source": [
        "lst=[55,44,99,88,22,11,66]\n",
        "lst.insert(-1,6000)\n",
        "lst"
      ],
      "metadata": {
        "colab": {
          "base_uri": "https://localhost:8080/"
        },
        "id": "6jU6DhT3O9iL",
        "outputId": "1ab9b38d-40e5-4cb4-dc0b-200217b9ace9"
      },
      "execution_count": null,
      "outputs": [
        {
          "output_type": "execute_result",
          "data": {
            "text/plain": [
              "[55, 44, 99, 88, 22, 11, 6000, 66]"
            ]
          },
          "metadata": {},
          "execution_count": 33
        }
      ]
    },
    {
      "cell_type": "code",
      "source": [
        "lst=[55,44,99,88,22,11,66]\n",
        "lst.insert(50,8000)\n",
        "lst"
      ],
      "metadata": {
        "colab": {
          "base_uri": "https://localhost:8080/"
        },
        "id": "OpzJqHSVPFaC",
        "outputId": "c6dd5f9a-a95f-4fc6-edb3-32df57321c48"
      },
      "execution_count": null,
      "outputs": [
        {
          "output_type": "execute_result",
          "data": {
            "text/plain": [
              "[55, 44, 99, 88, 22, 11, 66, 8000]"
            ]
          },
          "metadata": {},
          "execution_count": 35
        }
      ]
    },
    {
      "cell_type": "code",
      "source": [
        "lst=[55,44,99,88,22,11,66]\n",
        "avg(lst)"
      ],
      "metadata": {
        "colab": {
          "base_uri": "https://localhost:8080/",
          "height": 182
        },
        "id": "CH9GEm63PKkC",
        "outputId": "a730e88d-5b8c-44be-d540-6e30e09b8962"
      },
      "execution_count": null,
      "outputs": [
        {
          "output_type": "error",
          "ename": "NameError",
          "evalue": "ignored",
          "traceback": [
            "\u001b[0;31m---------------------------------------------------------------------------\u001b[0m",
            "\u001b[0;31mNameError\u001b[0m                                 Traceback (most recent call last)",
            "\u001b[0;32m<ipython-input-37-95ff00a99b02>\u001b[0m in \u001b[0;36m<cell line: 2>\u001b[0;34m()\u001b[0m\n\u001b[1;32m      1\u001b[0m \u001b[0mlst\u001b[0m\u001b[0;34m=\u001b[0m\u001b[0;34m[\u001b[0m\u001b[0;36m55\u001b[0m\u001b[0;34m,\u001b[0m\u001b[0;36m44\u001b[0m\u001b[0;34m,\u001b[0m\u001b[0;36m99\u001b[0m\u001b[0;34m,\u001b[0m\u001b[0;36m88\u001b[0m\u001b[0;34m,\u001b[0m\u001b[0;36m22\u001b[0m\u001b[0;34m,\u001b[0m\u001b[0;36m11\u001b[0m\u001b[0;34m,\u001b[0m\u001b[0;36m66\u001b[0m\u001b[0;34m]\u001b[0m\u001b[0;34m\u001b[0m\u001b[0;34m\u001b[0m\u001b[0m\n\u001b[0;32m----> 2\u001b[0;31m \u001b[0mavg\u001b[0m\u001b[0;34m(\u001b[0m\u001b[0mlst\u001b[0m\u001b[0;34m)\u001b[0m\u001b[0;34m\u001b[0m\u001b[0;34m\u001b[0m\u001b[0m\n\u001b[0m",
            "\u001b[0;31mNameError\u001b[0m: name 'avg' is not defined"
          ]
        }
      ]
    },
    {
      "cell_type": "code",
      "source": [
        "lst=[55,44,99,88,22,11,66]\n",
        "lst.insert(-1,8000)\n",
        "lst"
      ],
      "metadata": {
        "colab": {
          "base_uri": "https://localhost:8080/"
        },
        "id": "wf3bSZ4xP6o3",
        "outputId": "8965ccf1-bce4-4d40-f5c7-6e1e41c904b7"
      },
      "execution_count": null,
      "outputs": [
        {
          "output_type": "execute_result",
          "data": {
            "text/plain": [
              "[55, 44, 99, 88, 22, 11, 8000, 66]"
            ]
          },
          "metadata": {},
          "execution_count": 46
        }
      ]
    },
    {
      "cell_type": "code",
      "source": [
        "lst=[55,44,99,88,22,11,66]\n",
        "a=lst[-1]\n",
        "a"
      ],
      "metadata": {
        "colab": {
          "base_uri": "https://localhost:8080/"
        },
        "id": "Z1pWK3amQjw7",
        "outputId": "eca2be9b-bbc1-4f8b-91d5-b05383febcf0"
      },
      "execution_count": null,
      "outputs": [
        {
          "output_type": "execute_result",
          "data": {
            "text/plain": [
              "66"
            ]
          },
          "metadata": {},
          "execution_count": 45
        }
      ]
    },
    {
      "cell_type": "code",
      "source": [
        "##3 avg < no. in list\n",
        "lst=[25,34,19,28,22,32,112,111,99]\n",
        "target=sum(lst)/len(lst)\n",
        "\n",
        "for i in lst:\n",
        "  if i < target:\n",
        "    print(i)\n",
        "\n"
      ],
      "metadata": {
        "colab": {
          "base_uri": "https://localhost:8080/"
        },
        "id": "qspyHZL4Q-L4",
        "outputId": "6de8431b-6444-47e1-aefe-6a2efe77632d"
      },
      "execution_count": null,
      "outputs": [
        {
          "output_type": "stream",
          "name": "stdout",
          "text": [
            "25\n",
            "34\n",
            "19\n",
            "28\n",
            "22\n",
            "32\n"
          ]
        }
      ]
    },
    {
      "cell_type": "code",
      "source": [
        "lst=[25,34,19,28,22,32,112,111,99]\n",
        "lst.remove(22)\n",
        "lst"
      ],
      "metadata": {
        "colab": {
          "base_uri": "https://localhost:8080/"
        },
        "id": "80OoniX2SXxq",
        "outputId": "16a63c21-38f1-4912-82e6-c1b85ec3771d"
      },
      "execution_count": null,
      "outputs": [
        {
          "output_type": "execute_result",
          "data": {
            "text/plain": [
              "[25, 34, 19, 28, 32, 112, 111, 99]"
            ]
          },
          "metadata": {},
          "execution_count": 56
        }
      ]
    },
    {
      "cell_type": "code",
      "source": [
        "lst=[25,34,19,28,22,32,112,111,99]\n",
        "lst.pop()\n",
        "lst"
      ],
      "metadata": {
        "colab": {
          "base_uri": "https://localhost:8080/"
        },
        "id": "oOH4Xk3BTKo8",
        "outputId": "db07d096-d962-435b-b5ad-7ffd588a060b"
      },
      "execution_count": null,
      "outputs": [
        {
          "output_type": "execute_result",
          "data": {
            "text/plain": [
              "[25, 34, 19, 28, 22, 32, 112, 111]"
            ]
          },
          "metadata": {},
          "execution_count": 59
        }
      ]
    },
    {
      "cell_type": "code",
      "source": [
        "# komal ====> k-o-m-a-l\n",
        "g='komal'\n",
        "'-'.join(g)\n"
      ],
      "metadata": {
        "colab": {
          "base_uri": "https://localhost:8080/",
          "height": 36
        },
        "id": "Dx_4_OVpW26h",
        "outputId": "773ec42b-a669-4f59-9f3e-6920b4433c56"
      },
      "execution_count": null,
      "outputs": [
        {
          "output_type": "execute_result",
          "data": {
            "text/plain": [
              "'k-o-m-a-l'"
            ],
            "application/vnd.google.colaboratory.intrinsic+json": {
              "type": "string"
            }
          },
          "metadata": {},
          "execution_count": 65
        }
      ]
    },
    {
      "cell_type": "code",
      "source": [
        "lst=[25,34,19,28,22,32,112,111,99]\n",
        "# lst[1]\n",
        "# lst[-2]\n",
        "# max(lst)\n",
        "# min(lst)\n",
        "# sum(lst)\n",
        "# sorted(lst)\n",
        "# lst.sort()\n",
        "# lst"
      ],
      "metadata": {
        "id": "okAtNox4YEAq",
        "colab": {
          "base_uri": "https://localhost:8080/"
        },
        "outputId": "ba99d8ad-2ae7-4d31-8256-5b32ecfa0c38"
      },
      "execution_count": null,
      "outputs": [
        {
          "output_type": "execute_result",
          "data": {
            "text/plain": [
              "482"
            ]
          },
          "metadata": {},
          "execution_count": 16
        }
      ]
    },
    {
      "cell_type": "code",
      "source": [
        "lst=[25,34,19,28,22,32,112,111,99]\n",
        "lst[3:6:1]\n",
        "lst[::-1] ## reverse\n",
        "lst[1::2]  ## start : end : step\n",
        "lst[:4]"
      ],
      "metadata": {
        "colab": {
          "base_uri": "https://localhost:8080/"
        },
        "id": "YIFozRGC1I_1",
        "outputId": "be18a4c0-524a-4ac9-db3b-82de2f3467c6"
      },
      "execution_count": null,
      "outputs": [
        {
          "output_type": "execute_result",
          "data": {
            "text/plain": [
              "[25, 34, 19, 28]"
            ]
          },
          "metadata": {},
          "execution_count": 21
        }
      ]
    },
    {
      "cell_type": "code",
      "source": [
        "lst=[25,34,19,28,22,32,112,111,99]\n",
        "# lst.append(100)# appending number\n",
        "# lst\n",
        "# lst.append([100,200,300])# appending list\n",
        "# lst\n",
        "# lst.append((100,200,333)) #appending tuple\n",
        "# lst\n",
        "# lst.append({111,222,333}) ## appending set\n",
        "# lst\n",
        "lst.append({1:'a',2:'b',3:'c'}) #3 appending dictionary\n",
        "lst\n",
        "# lst.append(frozenset[10,200,565]) ## appending frozenset\n",
        "# lst"
      ],
      "metadata": {
        "colab": {
          "base_uri": "https://localhost:8080/"
        },
        "id": "W_0evuul2Hue",
        "outputId": "1debc72c-f9b9-4e09-ff8a-7cf37c8c303a"
      },
      "execution_count": null,
      "outputs": [
        {
          "output_type": "execute_result",
          "data": {
            "text/plain": [
              "[25, 34, 19, 28, 22, 32, 112, 111, 99, {1: 'a', 2: 'b', 3: 'c'}]"
            ]
          },
          "metadata": {},
          "execution_count": 41
        }
      ]
    },
    {
      "cell_type": "code",
      "source": [
        "lst=[25,34,19,28,22,32,112,111,99]\n",
        "# lst.extend([100,200,300])\n",
        "# lst\n",
        "# lst.extend((100,200,300))\n",
        "# lst\n",
        "# lst.extend({100,5565,333})\n",
        "# # lst\n",
        "# lst.extend({1:'a',2:'b',3:'c'})\n",
        "# lst\n",
        "# frozen set can not be extended"
      ],
      "metadata": {
        "colab": {
          "base_uri": "https://localhost:8080/"
        },
        "id": "u4siIL5a2tZ1",
        "outputId": "574627df-33bd-407f-b97e-a938a55c4465"
      },
      "execution_count": null,
      "outputs": [
        {
          "output_type": "execute_result",
          "data": {
            "text/plain": [
              "[25, 34, 19, 28, 22, 32, 112, 111, 99, 1, 2, 3]"
            ]
          },
          "metadata": {},
          "execution_count": 45
        }
      ]
    },
    {
      "cell_type": "code",
      "source": [
        "lst=[25,34,19,28,22,32,112,111,99]\n",
        "lst.insert(3,5000)\n",
        "lst\n",
        "lst.insert(5,2000)\n",
        "lst\n",
        "lst.insert(0,52525)\n",
        "lst\n",
        "lst.insert(-1,85025)## by default last second index\n",
        "lst\n",
        "lst.insert(55,98989)## if index is out of range then it places it to last place\n",
        "lst"
      ],
      "metadata": {
        "colab": {
          "base_uri": "https://localhost:8080/"
        },
        "id": "LXqJDHYt37Jy",
        "outputId": "e6fa3aea-51a4-4012-fb7f-223d2b4a34cc"
      },
      "execution_count": null,
      "outputs": [
        {
          "output_type": "execute_result",
          "data": {
            "text/plain": [
              "[52525, 25, 34, 19, 5000, 28, 2000, 22, 32, 112, 111, 85025, 99, 98989]"
            ]
          },
          "metadata": {},
          "execution_count": 50
        }
      ]
    },
    {
      "cell_type": "code",
      "source": [
        "lst=[25,34,19,28,22,32,112,111,99]\n",
        "lst.remove(111)\n",
        "lst"
      ],
      "metadata": {
        "colab": {
          "base_uri": "https://localhost:8080/"
        },
        "id": "Gj8U98HdCoZz",
        "outputId": "123f4313-0716-44c1-8d8d-cd85389b3d97"
      },
      "execution_count": null,
      "outputs": [
        {
          "output_type": "execute_result",
          "data": {
            "text/plain": [
              "[25, 34, 19, 28, 22, 32, 112, 99]"
            ]
          },
          "metadata": {},
          "execution_count": 53
        }
      ]
    },
    {
      "cell_type": "code",
      "source": [
        "lst=[25,34,19,28,22,32,112,111,99]\n",
        "lst.pop(5)\n",
        "lst\n",
        "lst.pop()\n",
        "lst\n",
        "lst.pop()\n",
        "lst.clear()\n",
        "lst"
      ],
      "metadata": {
        "colab": {
          "base_uri": "https://localhost:8080/"
        },
        "id": "QM7FTVzRDbkU",
        "outputId": "187ad502-7f88-4776-9aef-11ddf1c1f784"
      },
      "execution_count": null,
      "outputs": [
        {
          "output_type": "execute_result",
          "data": {
            "text/plain": [
              "[]"
            ]
          },
          "metadata": {},
          "execution_count": 59
        }
      ]
    },
    {
      "cell_type": "code",
      "source": [
        "lst=[25,34,19,28,22,32,112,111,99]\n",
        "turn=int(input())\n",
        "for i in range(turn):\n",
        "\n",
        "  g=lst.pop(0)\n",
        "  lst.append(g)\n",
        "  print(lst)\n",
        "len(lst)"
      ],
      "metadata": {
        "colab": {
          "base_uri": "https://localhost:8080/"
        },
        "id": "ldjAphMjEcca",
        "outputId": "ccb987c5-7c09-47fe-cc02-1aa50bfbdf65"
      },
      "execution_count": null,
      "outputs": [
        {
          "output_type": "stream",
          "name": "stdout",
          "text": [
            "9\n",
            "[34, 19, 28, 22, 32, 112, 111, 99, 25]\n",
            "[19, 28, 22, 32, 112, 111, 99, 25, 34]\n",
            "[28, 22, 32, 112, 111, 99, 25, 34, 19]\n",
            "[22, 32, 112, 111, 99, 25, 34, 19, 28]\n",
            "[32, 112, 111, 99, 25, 34, 19, 28, 22]\n",
            "[112, 111, 99, 25, 34, 19, 28, 22, 32]\n",
            "[111, 99, 25, 34, 19, 28, 22, 32, 112]\n",
            "[99, 25, 34, 19, 28, 22, 32, 112, 111]\n",
            "[25, 34, 19, 28, 22, 32, 112, 111, 99]\n"
          ]
        },
        {
          "output_type": "execute_result",
          "data": {
            "text/plain": [
              "9"
            ]
          },
          "metadata": {},
          "execution_count": 70
        }
      ]
    },
    {
      "cell_type": "code",
      "source": [
        "lst=[25,34,19,28,22,32,112,111,99]\n",
        "lst.index(28)"
      ],
      "metadata": {
        "colab": {
          "base_uri": "https://localhost:8080/"
        },
        "id": "HjZiJZYMFDl1",
        "outputId": "49074d74-a067-4161-c911-09d2c451ca10"
      },
      "execution_count": null,
      "outputs": [
        {
          "output_type": "execute_result",
          "data": {
            "text/plain": [
              "3"
            ]
          },
          "metadata": {},
          "execution_count": 71
        }
      ]
    },
    {
      "cell_type": "code",
      "source": [
        "lst=[25,34,19,28,22,22,32,112,111,99]\n",
        "lst.count(22)\n",
        "lst.sort()\n",
        "lst"
      ],
      "metadata": {
        "colab": {
          "base_uri": "https://localhost:8080/"
        },
        "id": "u8kGm6ylFjQy",
        "outputId": "1471a2df-a4a4-44cc-bad4-48f20e6a009a"
      },
      "execution_count": null,
      "outputs": [
        {
          "output_type": "execute_result",
          "data": {
            "text/plain": [
              "[19, 22, 22, 25, 28, 32, 34, 99, 111, 112]"
            ]
          },
          "metadata": {},
          "execution_count": 75
        }
      ]
    },
    {
      "cell_type": "code",
      "source": [
        "## tuple\n",
        "tup=(10,20,30,40,50,60,10)\n",
        "tup.count(10)## count-> gives the occurence of given no in tuple"
      ],
      "metadata": {
        "colab": {
          "base_uri": "https://localhost:8080/"
        },
        "id": "Wc5vvI95h6-U",
        "outputId": "424315c7-4108-4469-f089-a649b6eeb106"
      },
      "execution_count": null,
      "outputs": [
        {
          "output_type": "execute_result",
          "data": {
            "text/plain": [
              "2"
            ]
          },
          "metadata": {},
          "execution_count": 3
        }
      ]
    },
    {
      "cell_type": "code",
      "source": [
        "tup=(10,20,30,40,50,60,10)\n",
        "tup.index(50)## .index gives the index position of given number"
      ],
      "metadata": {
        "colab": {
          "base_uri": "https://localhost:8080/"
        },
        "id": "2sromb_1h7e3",
        "outputId": "9a67e3e6-0b1d-4519-e81d-6bec882b25c3"
      },
      "execution_count": null,
      "outputs": [
        {
          "output_type": "execute_result",
          "data": {
            "text/plain": [
              "4"
            ]
          },
          "metadata": {},
          "execution_count": 5
        }
      ]
    },
    {
      "cell_type": "code",
      "source": [
        "tup=(10,20,30,40,50,60,10)\n",
        "tup[::-1] ## can be reversed but its temporary"
      ],
      "metadata": {
        "colab": {
          "base_uri": "https://localhost:8080/"
        },
        "id": "T-idNIi3h741",
        "outputId": "6c62fe64-3e2d-4582-be6b-1c9d0ac8550e"
      },
      "execution_count": null,
      "outputs": [
        {
          "output_type": "execute_result",
          "data": {
            "text/plain": [
              "(10, 60, 50, 40, 30, 20, 10)"
            ]
          },
          "metadata": {},
          "execution_count": 6
        }
      ]
    },
    {
      "cell_type": "code",
      "source": [
        "#1.\tPython program to Find the size of a Tuple\n",
        "tup=(10,20,30,40,50,60,10)\n",
        "print(len(tup))"
      ],
      "metadata": {
        "colab": {
          "base_uri": "https://localhost:8080/"
        },
        "id": "ZGC-ZJzBh8Ut",
        "outputId": "150763e3-5826-47ab-c1dd-0b2cbe759215"
      },
      "execution_count": null,
      "outputs": [
        {
          "output_type": "stream",
          "name": "stdout",
          "text": [
            "7\n"
          ]
        }
      ]
    },
    {
      "cell_type": "code",
      "source": [
        "#2.\tPython – Maximum and Minimum K elements in Tuple\n",
        "tup=(10,20,30,40,50,60,10)\n",
        "max(tup)\n",
        "min(tup)\n"
      ],
      "metadata": {
        "colab": {
          "base_uri": "https://localhost:8080/"
        },
        "id": "WzH8uSr1ie_o",
        "outputId": "699a8973-91d9-459f-b79c-7b1bb4906d9f"
      },
      "execution_count": null,
      "outputs": [
        {
          "output_type": "execute_result",
          "data": {
            "text/plain": [
              "10"
            ]
          },
          "metadata": {},
          "execution_count": 9
        }
      ]
    },
    {
      "cell_type": "code",
      "source": [
        "#3.\tCreate a list of tuples from given\n",
        "#list having number and its cube in each tuple\n",
        "\n",
        "lst=[10,20,30,40,50,60,10]\n",
        "tup=[]\n",
        "for i in lst:\n",
        "  a=i,'--->',i**3\n",
        "  tup.append(a)\n",
        "tup\n",
        "\n"
      ],
      "metadata": {
        "colab": {
          "base_uri": "https://localhost:8080/"
        },
        "id": "pqCAcZFXjsA-",
        "outputId": "de56d6a3-7dc6-4026-efa6-5061f3338be2"
      },
      "execution_count": null,
      "outputs": [
        {
          "output_type": "execute_result",
          "data": {
            "text/plain": [
              "[(10, '--->', 1000),\n",
              " (20, '--->', 8000),\n",
              " (30, '--->', 27000),\n",
              " (40, '--->', 64000),\n",
              " (50, '--->', 125000),\n",
              " (60, '--->', 216000),\n",
              " (10, '--->', 1000)]"
            ]
          },
          "metadata": {},
          "execution_count": 10
        }
      ]
    },
    {
      "cell_type": "code",
      "source": [
        "#4.\tPython – Adding Tuple to List and vice – versa\n",
        "tup=(10,20,30,40,50,60,10)\n",
        "lst=[]                     ## tuple added in list\n",
        "lst.extend(tup)\n",
        "lst\n",
        "\n",
        "##---------------------\n",
        "# lst=[10,20,30,40,50,60,10]\n",
        "# tup=(11,22,33,44,55)                 ## listed added in tuple\n",
        "# print(tuple(lst+list(tup)))\n"
      ],
      "metadata": {
        "colab": {
          "base_uri": "https://localhost:8080/"
        },
        "id": "y6l3Aj6YkXXx",
        "outputId": "eccd5116-4cb4-44b4-e0d2-778028212646"
      },
      "execution_count": null,
      "outputs": [
        {
          "output_type": "execute_result",
          "data": {
            "text/plain": [
              "[10, 20, 30, 40, 50, 60, 10]"
            ]
          },
          "metadata": {},
          "execution_count": 14
        }
      ]
    },
    {
      "cell_type": "code",
      "source": [
        "#6.\tPython – Join Tuples if similar initial element\n",
        "tuples = [(1, 'a', 'b'), (2, 'c', 'd'), (1, 'e', 'f'), (3, 'g', 'h')]\n",
        "joined_tuples = []\n",
        "\n",
        "for key, *values in tuples:\n",
        "    if joined_tuples and key == joined_tuples[-1][0]:\n",
        "        joined_tuples[-1] += values\n",
        "    else:\n",
        "        joined_tuples.append((key, *values))\n",
        "\n",
        "print(joined_tuples)\n",
        "\n",
        "\n"
      ],
      "metadata": {
        "colab": {
          "base_uri": "https://localhost:8080/"
        },
        "id": "OgzgCnQskvOH",
        "outputId": "73223c08-bfa6-43fa-a2b2-ef713bd2dba8"
      },
      "execution_count": null,
      "outputs": [
        {
          "output_type": "stream",
          "name": "stdout",
          "text": [
            "[(1, 'a', 'b'), (2, 'c', 'd'), (1, 'e', 'f'), (3, 'g', 'h')]\n"
          ]
        }
      ]
    },
    {
      "cell_type": "code",
      "source": [
        "##7.\tPython – Extract digits from Tuple list\n",
        "lst = [(1, 'abc', 2), ('def', 3, 4), (5, 'ghi', 'jkl')]\n",
        "digits = []\n",
        "\n",
        "for tup in lst:\n",
        "    for item in tup:\n",
        "        if isinstance(item, int):\n",
        "            digits.append(item)\n",
        "digits\n",
        "\n"
      ],
      "metadata": {
        "colab": {
          "base_uri": "https://localhost:8080/"
        },
        "id": "_cHjGGSuntbw",
        "outputId": "6916be80-b31e-47bf-a165-5993bd9ec3eb"
      },
      "execution_count": null,
      "outputs": [
        {
          "output_type": "execute_result",
          "data": {
            "text/plain": [
              "[1, 2, 3, 4, 5]"
            ]
          },
          "metadata": {},
          "execution_count": 46
        }
      ]
    },
    {
      "cell_type": "code",
      "source": [
        "## remove tuple of length k\n",
        "lst = [(1, 2), (3, 4, 5), (6,), (7, 8, 9)]\n",
        "k=2\n",
        "for i in lst:\n",
        "  if len(i)==k:\n",
        "    lst.remove(i)\n",
        "lst\n",
        "\n"
      ],
      "metadata": {
        "colab": {
          "base_uri": "https://localhost:8080/"
        },
        "id": "kZxw9cu5o2GR",
        "outputId": "4b4fa063-160c-40a8-8f2f-85aae2e611c3"
      },
      "execution_count": null,
      "outputs": [
        {
          "output_type": "execute_result",
          "data": {
            "text/plain": [
              "[(3, 4, 5), (6,), (7, 8, 9)]"
            ]
          },
          "metadata": {},
          "execution_count": 48
        }
      ]
    },
    {
      "cell_type": "code",
      "source": [
        "# 10.\tSort a list of tuples by second Item\n",
        "tuple_list = [(3, 'apple'), (1, 'orange'), (2, 'banana')]\n",
        "\n",
        "sorted_list = sorted(tuple_list, key=lambda x: x[1])\n",
        "\n",
        "print(sorted_list)\n"
      ],
      "metadata": {
        "colab": {
          "base_uri": "https://localhost:8080/"
        },
        "id": "vvHdWiucssch",
        "outputId": "5d7882ca-a6a0-4b95-8647-a4d6c9051ac4"
      },
      "execution_count": null,
      "outputs": [
        {
          "output_type": "stream",
          "name": "stdout",
          "text": [
            "[(3, 'apple'), (2, 'banana'), (1, 'orange')]\n"
          ]
        }
      ]
    },
    {
      "cell_type": "code",
      "source": [
        "#11.\tPython program to Order Tuples using external List\n",
        "external_list = ['orange', 'banana', 'apple']\n",
        "tuple_list = [(3, 'apple'), (1, 'orange'), (2, 'banana')]\n",
        "\n",
        "sorted_list = sorted(tuple_list, key=lambda x: external_list.index(x[1]))\n",
        "\n",
        "print(sorted_list)\n"
      ],
      "metadata": {
        "colab": {
          "base_uri": "https://localhost:8080/"
        },
        "id": "QBdwmHSzuNfz",
        "outputId": "d6c79b5e-545d-4ce8-e06d-b1726b318b51"
      },
      "execution_count": null,
      "outputs": [
        {
          "output_type": "stream",
          "name": "stdout",
          "text": [
            "[(1, 'orange'), (2, 'banana'), (3, 'apple')]\n"
          ]
        }
      ]
    },
    {
      "cell_type": "code",
      "source": [
        "dic={1:'one',2:'two',3:'three',4:'four',5:'five'}\n",
        "\n",
        "dic[6]='six'\n",
        "dic.update({7:'seven'})\n",
        "dic.pop(7)\n",
        "dic.keys()\n",
        "dic.values()\n",
        "dic.items()\n",
        "dic.fromkeys([2,3])"
      ],
      "metadata": {
        "id": "Ua9onClRulD8",
        "colab": {
          "base_uri": "https://localhost:8080/"
        },
        "outputId": "feefa60d-150d-4b4b-d1bb-c8b1f3780324"
      },
      "execution_count": null,
      "outputs": [
        {
          "output_type": "execute_result",
          "data": {
            "text/plain": [
              "{2: None, 3: None}"
            ]
          },
          "metadata": {},
          "execution_count": 23
        }
      ]
    },
    {
      "cell_type": "code",
      "source": [
        "#1.\tPython – Extract Unique values dictionary values\n",
        "dic={1:'one',2:'two',3:'three',4:'four',5:'five'}\n",
        "for i in dic.keys():\n",
        "  print(i,end=' ')"
      ],
      "metadata": {
        "colab": {
          "base_uri": "https://localhost:8080/"
        },
        "id": "wNnvP4QhtLmI",
        "outputId": "ba54d3d2-06fe-438e-c45c-1d9d3eb4e463"
      },
      "execution_count": null,
      "outputs": [
        {
          "output_type": "stream",
          "name": "stdout",
          "text": [
            "1 2 3 4 5 "
          ]
        }
      ]
    },
    {
      "cell_type": "code",
      "source": [
        "#2.\tPython program to find the sum of all items in a dictionary\n",
        "\n",
        "dic = {'key1': 10,'key2': 20,'key3': 30,'key4': 40}\n",
        "add=sum(dic.values())\n",
        "add"
      ],
      "metadata": {
        "colab": {
          "base_uri": "https://localhost:8080/"
        },
        "id": "IJimWNDVwynY",
        "outputId": "4fc19ec3-a3e4-419d-9452-591c89610cad"
      },
      "execution_count": null,
      "outputs": [
        {
          "output_type": "execute_result",
          "data": {
            "text/plain": [
              "100"
            ]
          },
          "metadata": {},
          "execution_count": 32
        }
      ]
    },
    {
      "cell_type": "code",
      "source": [
        "#3.\tPython | Ways to remove a key from dictionary\n",
        "\n",
        "# 1st method\n",
        "dic = {'key1': 10,'key2': 20,'key3': 30,'key4': 40}\n",
        "# dic.pop('key2')\n",
        "# dic\n",
        "\n",
        "# 2nd method\n",
        "# dic.popitem() ## last key deleted\n",
        "# dic\n",
        "\n",
        "# 3rd method\n",
        "del dic['key4'] ## 4th key deleted\n",
        "dic\n",
        "\n"
      ],
      "metadata": {
        "colab": {
          "base_uri": "https://localhost:8080/"
        },
        "id": "x7JZR8WrxoeJ",
        "outputId": "377c3881-d889-4d9f-9fb2-adc17b06cd89"
      },
      "execution_count": null,
      "outputs": [
        {
          "output_type": "execute_result",
          "data": {
            "text/plain": [
              "{'key1': 10, 'key2': 20, 'key3': 30}"
            ]
          },
          "metadata": {},
          "execution_count": 37
        }
      ]
    },
    {
      "cell_type": "code",
      "source": [
        "#4.\tWays to sort list of dictionaries by values in Python – Using itemgetter\n",
        "dic = {'key1': 100,'key2': 80,'key3': 30,'key4': 60}\n",
        "c=sorted(dic.items())\n",
        "c\n"
      ],
      "metadata": {
        "colab": {
          "base_uri": "https://localhost:8080/"
        },
        "id": "JFAC55syx-_0",
        "outputId": "744c8e67-3659-4020-901c-1d6844c5da71"
      },
      "execution_count": null,
      "outputs": [
        {
          "output_type": "execute_result",
          "data": {
            "text/plain": [
              "[('key1', 100), ('key2', 80), ('key3', 30), ('key4', 60)]"
            ]
          },
          "metadata": {},
          "execution_count": 40
        }
      ]
    },
    {
      "cell_type": "code",
      "source": [
        "# 5.\tWays to sort list of dictionaries by values in Python – Using lambda function\n",
        "dic = {'key1': 100,'key2': 80,'key3': 30,'key4': 60}\n",
        "sorted_list = sorted(dic.items(), key=lambda x: x[1])\n",
        "print(sorted_list)"
      ],
      "metadata": {
        "colab": {
          "base_uri": "https://localhost:8080/"
        },
        "id": "hJb_GZO5zH_P",
        "outputId": "cefdaa79-804c-4096-f343-672b93b37880"
      },
      "execution_count": null,
      "outputs": [
        {
          "output_type": "stream",
          "name": "stdout",
          "text": [
            "[('key3', 30), ('key4', 60), ('key2', 80), ('key1', 100)]\n"
          ]
        }
      ]
    },
    {
      "cell_type": "code",
      "source": [
        "# 6.\tPython | Merging two Dictionaries\n",
        "dict1 = {'key1': 'value1', 'key2': 'value2'}\n",
        "dict2 = {'key3': 'value3', 'key4': 'value4'}\n",
        "\n",
        "dict1.update(dict2)\n",
        "\n",
        "print(dict1)\n",
        "\n",
        "# or\n",
        "dict1 = {'key1': 'value1', 'key2': 'value2'}\n",
        "dict2 = {'key3': 'value3', 'key4': 'value4'}\n",
        "\n",
        "merged_dict = {**dict1, **dict2}\n",
        "\n",
        "print(merged_dict)\n"
      ],
      "metadata": {
        "colab": {
          "base_uri": "https://localhost:8080/"
        },
        "id": "ermDiQ85ztd1",
        "outputId": "66fea5ad-9874-498e-ba59-ff0781bb941f"
      },
      "execution_count": null,
      "outputs": [
        {
          "output_type": "stream",
          "name": "stdout",
          "text": [
            "{'key1': 'value1', 'key2': 'value2', 'key3': 'value3', 'key4': 'value4'}\n"
          ]
        }
      ]
    },
    {
      "cell_type": "code",
      "source": [
        "# 7.\tPython – Convert key-values list to flat dictionary\n",
        "lst = [('key1', 'value1'), ('key2', 'value2'), ('key3', 'value3')]\n",
        "s=dict(lst)\n",
        "s"
      ],
      "metadata": {
        "colab": {
          "base_uri": "https://localhost:8080/"
        },
        "id": "Leoz0w6D1MJ5",
        "outputId": "e378486e-3eb5-43cc-c0a5-d14809f3c419"
      },
      "execution_count": null,
      "outputs": [
        {
          "output_type": "execute_result",
          "data": {
            "text/plain": [
              "{'key1': 'value1', 'key2': 'value2', 'key3': 'value3'}"
            ]
          },
          "metadata": {},
          "execution_count": 69
        }
      ]
    },
    {
      "cell_type": "code",
      "source": [
        "votes = ['Candidate A', 'Candidate B', 'Candidate A', 'Candidate C', 'Candidate A', 'Candidate B', 'Candidate A']\n",
        "for i in votes:\n",
        "  a=(i,'--->',votes.count(i))\n",
        "\n",
        "  print('winnig election candidate is ',a)\n",
        "  break"
      ],
      "metadata": {
        "colab": {
          "base_uri": "https://localhost:8080/"
        },
        "id": "cCsN5CZT1p3l",
        "outputId": "df5d2f3b-0b86-452c-9ccc-e9a76d8c9802"
      },
      "execution_count": null,
      "outputs": [
        {
          "output_type": "stream",
          "name": "stdout",
          "text": [
            "winnig election candidate is  ('Candidate A', '--->', 4)\n"
          ]
        }
      ]
    },
    {
      "cell_type": "code",
      "source": [
        "# 14.\tHandling missing keys in Python dictionaries\n",
        "# to handle the missing values in dictionary we can use .get and .setdefault method and just explicitly define the values as default\n",
        "\n",
        "my_dict = {'key1': 'value1', 'key2': 'value2'}\n",
        "\n",
        "value = my_dict.setdefault('key3', 'Default Value')\n",
        "\n",
        "print(value)\n",
        "print(my_dict)\n"
      ],
      "metadata": {
        "colab": {
          "base_uri": "https://localhost:8080/"
        },
        "id": "Ki0zkjCi3VIL",
        "outputId": "ddb9829d-029e-4bef-9b82-d844d20b967e"
      },
      "execution_count": null,
      "outputs": [
        {
          "output_type": "stream",
          "name": "stdout",
          "text": [
            "Default Value\n",
            "{'key1': 'value1', 'key2': 'value2', 'key3': 'Default Value'}\n"
          ]
        }
      ]
    },
    {
      "cell_type": "code",
      "source": [
        "# 16.\tPrint anagrams together in Python using List and Dictionary\n",
        "from collections import defaultdict\n",
        "\n",
        "words = ['cat', 'dog', 'tac', 'god', 'act']\n",
        "\n",
        "anagram_groups = defaultdict(list)\n",
        "\n",
        "# Group words by their sorted letters\n",
        "for word in words:\n",
        "    sorted_word = ''.join(sorted(word))\n",
        "    anagram_groups[sorted_word].append(word)\n",
        "\n",
        "# Print the anagram groups\n",
        "for group in anagram_groups.values():\n",
        "    print(group)\n"
      ],
      "metadata": {
        "colab": {
          "base_uri": "https://localhost:8080/"
        },
        "id": "rFxOMCor5RrH",
        "outputId": "79542d47-80b7-432e-dca6-aca415aa8a8e"
      },
      "execution_count": null,
      "outputs": [
        {
          "output_type": "stream",
          "name": "stdout",
          "text": [
            "['cat', 'tac', 'act']\n",
            "['dog', 'god']\n"
          ]
        }
      ]
    },
    {
      "cell_type": "code",
      "source": [
        "# 22.\tCounting the frequencies in a list using dictionary in Python\n",
        "lst = ['apple', 'banana', 'apple', 'orange', 'banana', 'apple']\n",
        "for i in lst:\n",
        "  print(i,'===>',lst.count(i))\n"
      ],
      "metadata": {
        "colab": {
          "base_uri": "https://localhost:8080/"
        },
        "id": "kuMu3jDK6gAs",
        "outputId": "386139eb-41bd-4b3e-9a45-9a4c42e4df00"
      },
      "execution_count": null,
      "outputs": [
        {
          "output_type": "stream",
          "name": "stdout",
          "text": [
            "apple ===> 3\n",
            "banana ===> 2\n",
            "apple ===> 3\n",
            "orange ===> 1\n",
            "banana ===> 2\n",
            "apple ===> 3\n"
          ]
        }
      ]
    },
    {
      "cell_type": "code",
      "source": [
        "input_string = input(\"Enter a string: \")\n",
        "compressed_output = \"\"\n",
        "\n",
        "count = 1\n",
        "for i in range(len(input_string)):\n",
        "    if i < len(input_string) - 1 and input_string[i] == input_string[i+1]:\n",
        "        count += 1\n",
        "    else:\n",
        "        compressed_output += str(count) + input_string[i]\n",
        "        count = 1\n",
        "\n",
        "print(compressed_output)\n"
      ],
      "metadata": {
        "colab": {
          "base_uri": "https://localhost:8080/"
        },
        "id": "0yWlY8og7Cmm",
        "outputId": "9f09cbea-54df-4746-8958-82e56fdc1dab"
      },
      "execution_count": null,
      "outputs": [
        {
          "output_type": "stream",
          "name": "stdout",
          "text": [
            "Enter a string: aaabbc\n",
            "3a2b1c\n"
          ]
        }
      ]
    },
    {
      "cell_type": "code",
      "source": [
        "input_string = input(\"Enter a string: \")\n",
        "\n",
        "for i in input_string:\n",
        "  print(input_string.count(i),i,end='')\n",
        "\n",
        "\n"
      ],
      "metadata": {
        "colab": {
          "base_uri": "https://localhost:8080/"
        },
        "id": "YV0ayLCbWOZh",
        "outputId": "f9f8518d-49bb-4032-9be4-2d7da289163c"
      },
      "execution_count": null,
      "outputs": [
        {
          "output_type": "stream",
          "name": "stdout",
          "text": [
            "Enter a string: aaabbc\n",
            "3 a3 a3 a2 b2 b1 c"
          ]
        }
      ]
    },
    {
      "cell_type": "code",
      "source": [
        "input='niranjaniarrr'\n",
        "l=[]\n",
        "for i in input:\n",
        "  l.append(i)\n",
        "\n",
        "l1=set(l)\n",
        "for i in l1:\n",
        "  print(i,'===>',l.count(i))\n",
        "\n",
        "\n"
      ],
      "metadata": {
        "id": "Ax1cQI6SWs_a",
        "colab": {
          "base_uri": "https://localhost:8080/"
        },
        "outputId": "c3e3cd08-fbfa-4c8b-a77f-8f51311a00b3"
      },
      "execution_count": null,
      "outputs": [
        {
          "output_type": "stream",
          "name": "stdout",
          "text": [
            "a ===> 3\n",
            "i ===> 2\n",
            "j ===> 1\n",
            "n ===> 3\n",
            "r ===> 4\n"
          ]
        }
      ]
    },
    {
      "cell_type": "code",
      "source": [
        "a={1:'a',2:'b',3:'c'}\n",
        "a.items()\n"
      ],
      "metadata": {
        "colab": {
          "base_uri": "https://localhost:8080/"
        },
        "id": "P5w7X9XyVvp_",
        "outputId": "4fd55bda-8db7-431c-8c6b-64ad2d5f1ecd"
      },
      "execution_count": null,
      "outputs": [
        {
          "output_type": "execute_result",
          "data": {
            "text/plain": [
              "dict_items([(1, 'a'), (2, 'b'), (3, 'c')])"
            ]
          },
          "metadata": {},
          "execution_count": 17
        }
      ]
    },
    {
      "cell_type": "code",
      "source": [],
      "metadata": {
        "id": "KKxG4zBGa2Di"
      },
      "execution_count": null,
      "outputs": []
    }
  ]
}